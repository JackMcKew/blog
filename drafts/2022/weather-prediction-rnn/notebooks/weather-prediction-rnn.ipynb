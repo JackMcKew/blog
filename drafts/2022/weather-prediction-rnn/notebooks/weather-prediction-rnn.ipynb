{
 "cells": [
  {
   "cell_type": "markdown",
   "metadata": {},
   "source": [
    "Weather affects every single human on earth for the better or worse, and we've come to rely on weather predictions in order to plan how we spend our day. But how can we predict the weather? In this post we're going to develop a machine learning model with recurrent neural networks to see how well we can predict the weather.\n",
    "\n",
    "As per previous posts we're going to go through the following steps (typical of any machine learning project):\n",
    "1. Data exploration & analysis\n",
    "2. Build a model\n",
    "3. Train the model\n",
    "4. Evaluate the model\n"
   ]
  },
  {
   "cell_type": "code",
   "execution_count": 1,
   "metadata": {},
   "outputs": [],
   "source": [
    "import pandas as pd\n",
    "import torch\n",
    "import numpy as np\n",
    "from datetime import datetime\n",
    "import matplotlib.pyplot as plt\n",
    "from tabulate import tabulate"
   ]
  },
  {
   "cell_type": "markdown",
   "metadata": {},
   "source": [
    "# Data Exploration & Analysis\n",
    "\n",
    "We'll be using rainfall records for Newcastle NSW retrieved from the Australian Bureau of Meteorology, this can be downloaded at: http://www.bom.gov.au/jsp/ncc/cdio/weatherData/av?p_nccObsCode=136&p_display_type=dailyDataFile&p_startYear=&p_c=&p_stn_num=061055"
   ]
  },
  {
   "cell_type": "code",
   "execution_count": 2,
   "metadata": {},
   "outputs": [
    {
     "name": "stdout",
     "output_type": "stream",
     "text": [
      "    Product code      Bureau of Meteorology station number    Year    Month    Day    Rainfall amount (millimetres)    Period over which rainfall was measured (days)  Quality\n",
      "--  --------------  --------------------------------------  ------  -------  -----  -------------------------------  ------------------------------------------------  ---------\n",
      " 0  IDCJAC0009                                       61055    1862        1      1                                0                                               nan  Y\n"
     ]
    }
   ],
   "source": [
    "rainfall = pd.read_csv('data/IDCJAC0009_061055_1800_Data.csv')\n",
    "print(tabulate(rainfall.head(1),headers=rainfall.columns))"
   ]
  },
  {
   "cell_type": "markdown",
   "metadata": {},
   "source": [
    "Let's clean it up"
   ]
  },
  {
   "cell_type": "code",
   "execution_count": 3,
   "metadata": {},
   "outputs": [
    {
     "data": {
      "text/html": [
       "<div>\n",
       "<style scoped>\n",
       "    .dataframe tbody tr th:only-of-type {\n",
       "        vertical-align: middle;\n",
       "    }\n",
       "\n",
       "    .dataframe tbody tr th {\n",
       "        vertical-align: top;\n",
       "    }\n",
       "\n",
       "    .dataframe thead th {\n",
       "        text-align: right;\n",
       "    }\n",
       "</style>\n",
       "<table border=\"1\" class=\"dataframe\">\n",
       "  <thead>\n",
       "    <tr style=\"text-align: right;\">\n",
       "      <th></th>\n",
       "      <th>value</th>\n",
       "      <th>timestamp</th>\n",
       "    </tr>\n",
       "  </thead>\n",
       "  <tbody>\n",
       "    <tr>\n",
       "      <th>0</th>\n",
       "      <td>0.0</td>\n",
       "      <td>1862-01-01</td>\n",
       "    </tr>\n",
       "    <tr>\n",
       "      <th>1</th>\n",
       "      <td>0.0</td>\n",
       "      <td>1862-01-02</td>\n",
       "    </tr>\n",
       "    <tr>\n",
       "      <th>2</th>\n",
       "      <td>0.0</td>\n",
       "      <td>1862-01-03</td>\n",
       "    </tr>\n",
       "    <tr>\n",
       "      <th>3</th>\n",
       "      <td>0.0</td>\n",
       "      <td>1862-01-04</td>\n",
       "    </tr>\n",
       "    <tr>\n",
       "      <th>4</th>\n",
       "      <td>0.0</td>\n",
       "      <td>1862-01-05</td>\n",
       "    </tr>\n",
       "  </tbody>\n",
       "</table>\n",
       "</div>"
      ],
      "text/plain": [
       "   value  timestamp\n",
       "0    0.0 1862-01-01\n",
       "1    0.0 1862-01-02\n",
       "2    0.0 1862-01-03\n",
       "3    0.0 1862-01-04\n",
       "4    0.0 1862-01-05"
      ]
     },
     "execution_count": 3,
     "metadata": {},
     "output_type": "execute_result"
    }
   ],
   "source": [
    "rainfall['timestamp'] = pd.to_datetime(rainfall[['Year', 'Month', 'Day']])\n",
    "rainfall = rainfall.drop(['Product code','Bureau of Meteorology station number','Year','Month','Day','Period over which rainfall was measured (days)','Quality'],axis=1)\n",
    "rainfall = rainfall.rename(columns={\"Rainfall amount (millimetres)\": \"value\"})\n",
    "rainfall.head()"
   ]
  },
  {
   "cell_type": "markdown",
   "metadata": {},
   "source": [
    "Now that we've reduced the dataset into it's simplest form, timestamped data points, now we can start going into some feature engineering. Firstly we'll check some generic metrics of the dataset we're working with"
   ]
  },
  {
   "cell_type": "code",
   "execution_count": 4,
   "metadata": {},
   "outputs": [
    {
     "name": "stdout",
     "output_type": "stream",
     "text": [
      "First date: 1862-01-01 00:00:00, last date: 2022-04-07 00:00:00\n",
      "Number of points: 58536\n",
      "Number of missing points: 1239\n"
     ]
    }
   ],
   "source": [
    "print(f\"First date: {rainfall.timestamp.min()}, last date: {rainfall.timestamp.max()}\")\n",
    "print(f\"Number of points: {len(rainfall)}\")\n",
    "print(f\"Number of missing points: {rainfall['value'].isna().sum()}\")"
   ]
  },
  {
   "cell_type": "markdown",
   "metadata": {},
   "source": [
    "With missing points making up around 2% of the dataset, there is a few ways we could treat this problem so our model doesn't predict invalid outputs. We could either impute these missing points, or discard them. Example ways of imputing the points could be as simple as taking the last (or next) valid recorded value for the missing point (this is known as back or forward filling), to as complex as modelling the data in different ways (ie, regression) to impute the values. For the simplicity of this experiment, we'll discard the missing timestamps as the timestamps are daily, if the time frame between points was shorter, imputing the values could be justified. "
   ]
  },
  {
   "cell_type": "code",
   "execution_count": 5,
   "metadata": {},
   "outputs": [],
   "source": [
    "rainfall = rainfall.dropna(subset=[\"value\"])\n",
    "rainfall = rainfall.set_index('timestamp')"
   ]
  },
  {
   "cell_type": "markdown",
   "metadata": {},
   "source": [
    "## Feature Engineering\n",
    "\n",
    "Feature engineering is arguably the most important part of machine learning, as systems are only as good as what they are given, the old adage of 'shit in, shit out' holds true in this industry. Since we are trying to predict what the next value is with our rainfall model, we'll want to give the model what the previous rainfall values were. We do this by creating new columns called 'time lags' where it takes the value from n points in past and this becomes a feature. For example, if we were to look at the `lag7` column, that would contain the recorded rainfall a week prior to the selected data point.\n",
    "\n",
    "For the first records in the dataset, since there is no value before it, this is a missing data point, and we have to discard these records as well, meaning that the choice on how many time lags to generate should consider the value of the first records in the dataset."
   ]
  },
  {
   "cell_type": "code",
   "execution_count": 6,
   "metadata": {},
   "outputs": [
    {
     "data": {
      "text/html": [
       "<div>\n",
       "<style scoped>\n",
       "    .dataframe tbody tr th:only-of-type {\n",
       "        vertical-align: middle;\n",
       "    }\n",
       "\n",
       "    .dataframe tbody tr th {\n",
       "        vertical-align: top;\n",
       "    }\n",
       "\n",
       "    .dataframe thead th {\n",
       "        text-align: right;\n",
       "    }\n",
       "</style>\n",
       "<table border=\"1\" class=\"dataframe\">\n",
       "  <thead>\n",
       "    <tr style=\"text-align: right;\">\n",
       "      <th></th>\n",
       "      <th>value</th>\n",
       "      <th>lag1</th>\n",
       "      <th>lag2</th>\n",
       "      <th>lag3</th>\n",
       "      <th>lag4</th>\n",
       "      <th>lag5</th>\n",
       "      <th>lag6</th>\n",
       "      <th>lag7</th>\n",
       "      <th>lag8</th>\n",
       "      <th>lag9</th>\n",
       "      <th>...</th>\n",
       "      <th>lag91</th>\n",
       "      <th>lag92</th>\n",
       "      <th>lag93</th>\n",
       "      <th>lag94</th>\n",
       "      <th>lag95</th>\n",
       "      <th>lag96</th>\n",
       "      <th>lag97</th>\n",
       "      <th>lag98</th>\n",
       "      <th>lag99</th>\n",
       "      <th>lag100</th>\n",
       "    </tr>\n",
       "    <tr>\n",
       "      <th>timestamp</th>\n",
       "      <th></th>\n",
       "      <th></th>\n",
       "      <th></th>\n",
       "      <th></th>\n",
       "      <th></th>\n",
       "      <th></th>\n",
       "      <th></th>\n",
       "      <th></th>\n",
       "      <th></th>\n",
       "      <th></th>\n",
       "      <th></th>\n",
       "      <th></th>\n",
       "      <th></th>\n",
       "      <th></th>\n",
       "      <th></th>\n",
       "      <th></th>\n",
       "      <th></th>\n",
       "      <th></th>\n",
       "      <th></th>\n",
       "      <th></th>\n",
       "      <th></th>\n",
       "    </tr>\n",
       "  </thead>\n",
       "  <tbody>\n",
       "    <tr>\n",
       "      <th>1862-04-11</th>\n",
       "      <td>1.0</td>\n",
       "      <td>0.8</td>\n",
       "      <td>10.4</td>\n",
       "      <td>1.0</td>\n",
       "      <td>0.8</td>\n",
       "      <td>0.0</td>\n",
       "      <td>7.6</td>\n",
       "      <td>0.0</td>\n",
       "      <td>0.0</td>\n",
       "      <td>3.0</td>\n",
       "      <td>...</td>\n",
       "      <td>0.0</td>\n",
       "      <td>0.0</td>\n",
       "      <td>0.0</td>\n",
       "      <td>0.0</td>\n",
       "      <td>0.0</td>\n",
       "      <td>0.0</td>\n",
       "      <td>0.0</td>\n",
       "      <td>0.0</td>\n",
       "      <td>0.0</td>\n",
       "      <td>0.0</td>\n",
       "    </tr>\n",
       "    <tr>\n",
       "      <th>1862-04-12</th>\n",
       "      <td>0.0</td>\n",
       "      <td>1.0</td>\n",
       "      <td>0.8</td>\n",
       "      <td>10.4</td>\n",
       "      <td>1.0</td>\n",
       "      <td>0.8</td>\n",
       "      <td>0.0</td>\n",
       "      <td>7.6</td>\n",
       "      <td>0.0</td>\n",
       "      <td>0.0</td>\n",
       "      <td>...</td>\n",
       "      <td>0.0</td>\n",
       "      <td>0.0</td>\n",
       "      <td>0.0</td>\n",
       "      <td>0.0</td>\n",
       "      <td>0.0</td>\n",
       "      <td>0.0</td>\n",
       "      <td>0.0</td>\n",
       "      <td>0.0</td>\n",
       "      <td>0.0</td>\n",
       "      <td>0.0</td>\n",
       "    </tr>\n",
       "  </tbody>\n",
       "</table>\n",
       "<p>2 rows × 101 columns</p>\n",
       "</div>"
      ],
      "text/plain": [
       "            value  lag1  lag2  lag3  lag4  lag5  lag6  lag7  lag8  lag9  ...  \\\n",
       "timestamp                                                                ...   \n",
       "1862-04-11    1.0   0.8  10.4   1.0   0.8   0.0   7.6   0.0   0.0   3.0  ...   \n",
       "1862-04-12    0.0   1.0   0.8  10.4   1.0   0.8   0.0   7.6   0.0   0.0  ...   \n",
       "\n",
       "            lag91  lag92  lag93  lag94  lag95  lag96  lag97  lag98  lag99  \\\n",
       "timestamp                                                                   \n",
       "1862-04-11    0.0    0.0    0.0    0.0    0.0    0.0    0.0    0.0    0.0   \n",
       "1862-04-12    0.0    0.0    0.0    0.0    0.0    0.0    0.0    0.0    0.0   \n",
       "\n",
       "            lag100  \n",
       "timestamp           \n",
       "1862-04-11     0.0  \n",
       "1862-04-12     0.0  \n",
       "\n",
       "[2 rows x 101 columns]"
      ]
     },
     "execution_count": 6,
     "metadata": {},
     "output_type": "execute_result"
    }
   ],
   "source": [
    "def generate_time_lags(df, value, n_lags):\n",
    "    df_n = df.copy()\n",
    "    for n in range(1, n_lags + 1):\n",
    "        lagged_values = list(df_n[value].shift(n))\n",
    "        # We use concat here for performance reasons\n",
    "        df_n = pd.concat([df_n, pd.Series(lagged_values, name=f\"lag{n}\",index=df_n.index)],axis=1)\n",
    "    # Remove the first n rows where no 'previous' value is attainable for the number of lags\n",
    "    df_n = df_n.iloc[n_lags:]\n",
    "    return df_n\n",
    "\n",
    "df_gen = generate_time_lags(rainfall, 'value', 100)\n",
    "\n",
    "df_gen.head(2)"
   ]
  },
  {
   "cell_type": "markdown",
   "metadata": {},
   "source": [
    "Let's generate features to be from the characteristics of the timestamp of when it was recorded:"
   ]
  },
  {
   "cell_type": "code",
   "execution_count": 7,
   "metadata": {},
   "outputs": [
    {
     "data": {
      "text/html": [
       "<div>\n",
       "<style scoped>\n",
       "    .dataframe tbody tr th:only-of-type {\n",
       "        vertical-align: middle;\n",
       "    }\n",
       "\n",
       "    .dataframe tbody tr th {\n",
       "        vertical-align: top;\n",
       "    }\n",
       "\n",
       "    .dataframe thead th {\n",
       "        text-align: right;\n",
       "    }\n",
       "</style>\n",
       "<table border=\"1\" class=\"dataframe\">\n",
       "  <thead>\n",
       "    <tr style=\"text-align: right;\">\n",
       "      <th></th>\n",
       "      <th>day</th>\n",
       "      <th>month</th>\n",
       "      <th>day_of_week</th>\n",
       "      <th>week_of_year</th>\n",
       "    </tr>\n",
       "    <tr>\n",
       "      <th>timestamp</th>\n",
       "      <th></th>\n",
       "      <th></th>\n",
       "      <th></th>\n",
       "      <th></th>\n",
       "    </tr>\n",
       "  </thead>\n",
       "  <tbody>\n",
       "    <tr>\n",
       "      <th>1862-04-11</th>\n",
       "      <td>11</td>\n",
       "      <td>4</td>\n",
       "      <td>4</td>\n",
       "      <td>15</td>\n",
       "    </tr>\n",
       "  </tbody>\n",
       "</table>\n",
       "</div>"
      ],
      "text/plain": [
       "            day  month  day_of_week  week_of_year\n",
       "timestamp                                        \n",
       "1862-04-11   11      4            4            15"
      ]
     },
     "execution_count": 7,
     "metadata": {},
     "output_type": "execute_result"
    }
   ],
   "source": [
    "df_features = (\n",
    "                df_gen\n",
    "                .assign(day = df_gen.index.day)\n",
    "                .assign(month = df_gen.index.month)\n",
    "                .assign(day_of_week = df_gen.index.dayofweek)\n",
    "                .assign(week_of_year = df_gen.index.isocalendar().week)\n",
    "              )\n",
    "\n",
    "df_features.head(1).iloc[:,-4:]"
   ]
  },
  {
   "cell_type": "markdown",
   "metadata": {},
   "source": [
    "While us humans recognise that there's only so many days of the week, or weeks in the year, our model isn't going to realise this unless we tell it. To maintain the cyclical nature of these properties, we'll need to encode or transform them in a cyclical nature. To preserve this cyclical nature, using our trusty friends, sine and cosine. This is done a few steps:\n",
    "\n",
    "1. Account for any starting value (ie, our months don't start on the 0th day)\n",
    "2. Divide by the total period (ie, up to 31 days in a month)\n",
    "3. Use these values as the circumference of a circle (cyclical)\n",
    "4. Take the sine and cosine components from this circle\n",
    "\n",
    "Ensuring that our data is consistent with how we understand dates, means we don't need to account for the different months having different number of days as the model being presented with both the month and day allowing to infer these together. One thought may be to combine these two dates to test whether it improves the performance of the model."
   ]
  },
  {
   "cell_type": "code",
   "execution_count": 8,
   "metadata": {},
   "outputs": [],
   "source": [
    "def cyclical_transformer(df, column, period, start_val, drop_original=True):\n",
    "    df[f\"{column}_sin\"] = np.sin(2 * np.pi * (df[column] - start_val) / period)\n",
    "    df[f\"{column}_cos\"] = np.cos(2 * np.pi * (df[column] - start_val) / period)\n",
    "    if drop_original:\n",
    "        df = df.drop(column, axis=1)\n",
    "    return df\n",
    "\n",
    "# The period and start values were determined from the min/max of the columns\n",
    "cyclical_features = {\"day\": (31,1), \"month\": (12,1), \"day_of_week\": (6,0), \"week_of_year\": (53,1)}\n",
    "for cyclical_feature, (period, start_val) in cyclical_features.items():\n",
    "    df_features = cyclical_transformer(df_features, cyclical_feature, period, start_val)"
   ]
  },
  {
   "cell_type": "markdown",
   "metadata": {},
   "source": [
    "Finally we've generated features for our model to use in it's predictions!"
   ]
  },
  {
   "cell_type": "code",
   "execution_count": 9,
   "metadata": {},
   "outputs": [
    {
     "name": "stdout",
     "output_type": "stream",
     "text": [
      "Number of features for the model: 108\n"
     ]
    }
   ],
   "source": [
    "print(f\"Number of features for the model: {(df_features.columns != 'value').sum()}\")"
   ]
  },
  {
   "cell_type": "markdown",
   "metadata": {},
   "source": [
    "## Modelling\n",
    "\n",
    "Apart of modelling, we're going to achieve a few things:\n",
    "\n",
    "1. Split the data into training, testing and validation sets\n",
    "2. Put the data into data loaders for PyTorch\n",
    "3. Write an RNN model\n",
    "4. Create a base optimisation class that we can give any model to (it contains basic common steps like train, evaluate, etc)\n",
    "5. Train our model\n",
    "6. See how well it goes\n",
    "\n",
    "### Splitting the data\n",
    "\n",
    "We make use of `sklearn`'s `train_test_split` heavily here to split up the dataset into it's corresponding groups. Ensuring that we don't shuffle the data while splitting as since we are working with temporal data, the order matters.\n",
    "\n",
    "To make our data friendlier to our model and training (computationally wise), we'll also scale all of our data. For this experiment, we'll use `MinMaxScaler`, which unexpectedly scales all the inputs to a range of 0 to 1. There's lots of other scalers out there too, which all have their pros and cons, so it's always good to experiment: https://scikit-learn.org/stable/auto_examples/preprocessing/plot_all_scaling.html."
   ]
  },
  {
   "cell_type": "code",
   "execution_count": 10,
   "metadata": {},
   "outputs": [],
   "source": [
    "from sklearn.preprocessing import MinMaxScaler\n",
    "from sklearn.model_selection import train_test_split\n",
    "\n",
    "TEST_RATIO = 0.25\n",
    "\n",
    "def feature_label_split(df, target_col):\n",
    "    y = df[[target_col]]\n",
    "    X = df.drop(columns=[target_col])\n",
    "    return X, y\n",
    "\n",
    "def train_validation_test_split(df, target_col,test_ratio):\n",
    "    validation_ratio = test_ratio / (1 - test_ratio)\n",
    "    X, y = feature_label_split(df, target_col)\n",
    "    X_train, X_test, y_train, y_test = train_test_split(X, y, test_size=test_ratio, shuffle=False)\n",
    "    X_train, X_validation, y_train, y_validation = train_test_split(X_train, y_train, test_size=validation_ratio, shuffle=False)\n",
    "    return X_train, X_validation, X_test, y_train, y_validation, y_test\n",
    "\n",
    "X_train, X_validation, X_test, y_train, y_validation, y_test = train_validation_test_split(df_features, 'value', TEST_RATIO)\n",
    "\n",
    "scaler = MinMaxScaler()\n",
    "\n",
    "X_train_scaled = scaler.fit_transform(X_train)\n",
    "X_validation_scaled = scaler.transform(X_validation)\n",
    "X_test_scaled = scaler.transform(X_test)\n",
    "\n",
    "y_train_scaled = scaler.fit_transform(y_train)\n",
    "y_validation_scaled = scaler.transform(y_validation)\n",
    "y_test_scaled = scaler.transform(y_test)\n",
    "\n",
    "\n"
   ]
  },
  {
   "cell_type": "markdown",
   "metadata": {},
   "source": [
    "### Data loaders\n",
    "\n",
    "> DataLoader ( TensorData ( Tensor( Data ) ) )\n",
    "\n",
    "We've got our features generated, data cleaned, scaled and now it's time to put them into the data formats required for PyTorch. The base data type that we'll use for the sets is known as `Tensor`, which translates to n-dimensional array. We group them inside a `TensorDataset`, and put that inside the `DataLoader` with a specified `batch_size` which will be how it's processed through the model. We also tell our `DataLoader` to `drop_last` which translates to if the last batch isn't full of points then it won't be provided to the model.\n",
    "\n",
    "Foot note of 64 was chosen for it being my favourite number, but this is something that can and should be tweaked to for the application."
   ]
  },
  {
   "cell_type": "code",
   "execution_count": 11,
   "metadata": {},
   "outputs": [],
   "source": [
    "BATCH_SIZE = 64\n",
    "\n",
    "train = torch.utils.data.TensorDataset(torch.Tensor(X_train_scaled),torch.Tensor(y_train_scaled))\n",
    "validation = torch.utils.data.TensorDataset(torch.Tensor(X_validation_scaled),torch.Tensor(y_validation_scaled))\n",
    "test = torch.utils.data.TensorDataset(torch.Tensor(X_test_scaled),torch.Tensor(y_test_scaled))\n",
    "\n",
    "train_loader = torch.utils.data.DataLoader(train,batch_size=BATCH_SIZE,shuffle=False, drop_last=True)\n",
    "validation_loader = torch.utils.data.DataLoader(validation,batch_size=BATCH_SIZE,shuffle=False, drop_last=True)\n",
    "test_loader = torch.utils.data.DataLoader(test,batch_size=BATCH_SIZE,shuffle=False, drop_last=True)\n"
   ]
  },
  {
   "cell_type": "markdown",
   "metadata": {},
   "source": [
    "### RNN Model\n",
    "\n",
    "Awesome! It's time for the highly coveted model building step, as we set out to use a recurrent neural network (RNN) in this experiment, we'll do exactly that following PyTorch standard guidelines.\n",
    "\n",
    "RNN's typically take in a few inputs:\n",
    "\n",
    "- `Input dimension` How many inputs are given to the model\n",
    "- `Hidden dimension` How big is the vector of 'decision making' numbers that the model uses\n",
    "- `Layer dimension` How many vectors of decision making numbers should there be\n",
    "- `Output dimension` How many things are we trying to predict at the end\n",
    "- `Dropout probability` How many things should be randomly ignored to ensure our model generalises\n",
    "\n",
    "We give our model it's method of forward propagation which takes the input and hidden layers and gives them to the model, which can then be looped to propagate the values through. With the final step in the model being a simple reduction from the hidden layer to our desired output.\n",
    "\n",
    "There are many types of RNN models out there, with this being a very crude representation of one, other widely used RNN types are: LSTM, GRU, Bi directional and more which all have their pros and cons."
   ]
  },
  {
   "cell_type": "code",
   "execution_count": 12,
   "metadata": {},
   "outputs": [],
   "source": [
    "class RNNModel(torch.nn.Module):\n",
    "    def __init__(self, input_dimension, hidden_dimension, layer_dimension, output_dimension, dropout_probability):\n",
    "        super(RNNModel, self).__init__()\n",
    "\n",
    "        self.hidden_dimension = hidden_dimension\n",
    "        self.layer_dimension = layer_dimension\n",
    "\n",
    "        self.rnn = torch.nn.RNN(\n",
    "            input_size=input_dimension, hidden_size=hidden_dimension, num_layers=layer_dimension, batch_first=True, dropout=dropout_probability\n",
    "        )\n",
    "        self.fc = torch.nn.Linear(hidden_dimension, output_dimension)\n",
    "\n",
    "    def forward(self, x):\n",
    "        # Hidden state\n",
    "        h0 = torch.zeros(self.layer_dimension, x.size(0), self.hidden_dimension).requires_grad_()\n",
    "\n",
    "        out, h0 = self.rnn(x, h0.detach())\n",
    "\n",
    "        out = out[:, -1, :]\n",
    "\n",
    "        out = self.fc(out)\n",
    "        return out"
   ]
  },
  {
   "cell_type": "markdown",
   "metadata": {},
   "source": [
    "### Optimisation\n",
    "\n",
    "One super handy tip for training machine learning models of similar type, is to generalise the optimisation step, such that models can be developed independently, which reduces boilerplate code in that you don't need to keep defining how to train. This is exactly what we'll do here.\n",
    "\n",
    "The training step followings the process of:\n",
    "\n",
    "- Feeding the raw inputs to the model\n",
    "- Comparing the received predictions against the actual (to compute loss)\n",
    "- Backward propagating to fine tune the weights of the model\n",
    "- Rinse and repeat\n",
    "\n",
    "The training of the model follows:\n",
    "\n",
    "1. Go through the above training step with the batches of the training set\n",
    "2. Do quite the same with the validation set\n",
    "3. Repeat this over a number of times (or epochs)\n",
    "4. Compare the losses between the model in training and validation (if something is wildly different here we have a problem)"
   ]
  },
  {
   "cell_type": "code",
   "execution_count": 13,
   "metadata": {},
   "outputs": [],
   "source": [
    "class Optimisation:\n",
    "    def __init__(self, model, loss_fn, optimizer):\n",
    "        self.model = model\n",
    "        self.loss_fn = loss_fn\n",
    "        self.optimizer = optimizer\n",
    "        self.train_losses = []\n",
    "        self.val_losses = []\n",
    "\n",
    "    def train_step(self, x, y):\n",
    "        self.model.train()\n",
    "        yhat = self.model(x)\n",
    "\n",
    "        loss = self.loss_fn(y, yhat)\n",
    "\n",
    "        # PyTorch automatically determines how to back propagate!\n",
    "        loss.backward()\n",
    "\n",
    "        self.optimizer.step()\n",
    "        self.optimizer.zero_grad()\n",
    "\n",
    "        return loss.item()\n",
    "\n",
    "    def train(self, train_loader, val_loader, batch_size=64, n_epochs=50, n_features=1):\n",
    "        model_path = f'models/{self.model}_{datetime.now().strftime(\"%Y-%m-%d %H:%M:%S\").replace(\" \", \"_\")}'\n",
    "\n",
    "        for epoch in range(1, n_epochs + 1):\n",
    "\n",
    "            batch_losses = []\n",
    "\n",
    "            # Training set\n",
    "            for x_batch, y_batch in train_loader:\n",
    "                x_batch = x_batch.view([batch_size, -1, n_features])\n",
    "                loss = self.train_step(x_batch, y_batch)\n",
    "                batch_losses.append(loss)\n",
    "            training_loss = np.mean(batch_losses)\n",
    "            self.train_losses.append(training_loss)\n",
    "\n",
    "            # Validation set\n",
    "            with torch.no_grad():\n",
    "                batch_val_losses = []\n",
    "                for x_val, y_val in val_loader:\n",
    "                    x_val = x_val.view([batch_size, -1, n_features])\n",
    "                    self.model.eval()\n",
    "                    yhat = self.model(x_val)\n",
    "                    val_loss = self.loss_fn(y_val, yhat).item()\n",
    "                    batch_val_losses.append(val_loss)\n",
    "                validation_loss = np.mean(batch_val_losses)\n",
    "                self.val_losses.append(validation_loss)\n",
    "\n",
    "            if (epoch <= 10) | (epoch % 50 == 0):\n",
    "                print(\n",
    "                    f\"[{epoch}/{n_epochs}] Training loss: {training_loss:.4f}\\t Validation loss: {validation_loss:.4f}\"\n",
    "                )\n",
    "\n",
    "        torch.save(self.model.state_dict(), model_path)\n",
    "\n",
    "    def evaluate(self, test_loader, batch_size=1, n_features=1):\n",
    "\n",
    "        # Test set\n",
    "        with torch.no_grad():\n",
    "            predictions = []\n",
    "            values = []\n",
    "            for x_test, y_test in test_loader:\n",
    "                x_test = x_test.view([batch_size, -1, n_features])\n",
    "                self.model.eval()\n",
    "                yhat = self.model(x_test)\n",
    "                predictions.append(yhat.detach().numpy())\n",
    "                values.append(y_test.detach().numpy())\n",
    "\n",
    "        return predictions, values\n",
    "\n",
    "    def plot_losses(self):\n",
    "        plt.plot(self.train_losses, label=\"Training loss\")\n",
    "        plt.plot(self.val_losses, label=\"Validation loss\")\n",
    "        plt.legend()\n",
    "        plt.title(\"Losses\")\n",
    "        plt.show()\n",
    "        plt.close()"
   ]
  },
  {
   "cell_type": "markdown",
   "metadata": {},
   "source": [
    "### Train!\n",
    "\n",
    "All we need to do now is set up all the variables for our model, and give them to our optimisation class to do the heavy lifting for us."
   ]
  },
  {
   "cell_type": "code",
   "execution_count": 14,
   "metadata": {},
   "outputs": [
    {
     "name": "stdout",
     "output_type": "stream",
     "text": [
      "[1/100] Training loss: 0.0014\t Validation loss: 0.0011\n",
      "[2/100] Training loss: 0.0013\t Validation loss: 0.0011\n",
      "[3/100] Training loss: 0.0012\t Validation loss: 0.0010\n",
      "[4/100] Training loss: 0.0012\t Validation loss: 0.0010\n",
      "[5/100] Training loss: 0.0012\t Validation loss: 0.0010\n",
      "[6/100] Training loss: 0.0012\t Validation loss: 0.0010\n",
      "[7/100] Training loss: 0.0012\t Validation loss: 0.0010\n",
      "[8/100] Training loss: 0.0012\t Validation loss: 0.0010\n",
      "[9/100] Training loss: 0.0012\t Validation loss: 0.0010\n",
      "[10/100] Training loss: 0.0012\t Validation loss: 0.0010\n",
      "[50/100] Training loss: 0.0011\t Validation loss: 0.0010\n",
      "[100/100] Training loss: 0.0012\t Validation loss: 0.0010\n"
     ]
    },
    {
     "data": {
      "image/png": "[encoded data removed]",
      "text/plain": [
       "<Figure size 432x288 with 1 Axes>"
      ]
     },
     "metadata": {
      "needs_background": "light"
     },
     "output_type": "display_data"
    }
   ],
   "source": [
    "import torch.optim as optim\n",
    "\n",
    "input_dimension = len(X_train.columns)\n",
    "output_dimension = 1\n",
    "hidden_dimension = 64\n",
    "layer_dimension = 3\n",
    "dropout = 0.2\n",
    "n_epochs = 100\n",
    "learning_rate = 1e-3\n",
    "weight_decay = 1e-6\n",
    "\n",
    "model_params = {'input_dimension': input_dimension,\n",
    "                'hidden_dimension' : hidden_dimension,\n",
    "                'layer_dimension' : layer_dimension,\n",
    "                'output_dimension' : output_dimension,\n",
    "                'dropout_probability' : dropout}\n",
    "\n",
    "model = RNNModel(**model_params)\n",
    "\n",
    "loss_fn = torch.nn.MSELoss(reduction=\"mean\")\n",
    "optimizer = optim.Adam(model.parameters(), lr=learning_rate, weight_decay=weight_decay)\n",
    "\n",
    "opt = Optimisation(model=model, loss_fn=loss_fn, optimizer=optimizer)\n",
    "opt.train(train_loader, validation_loader, n_epochs=n_epochs, n_features=input_dimension)\n",
    "opt.plot_losses()"
   ]
  },
  {
   "cell_type": "markdown",
   "metadata": {},
   "source": [
    "As we can see above, the loss reached a steady state very quickly, which typically means that further training may not provide substantial improvement."
   ]
  },
  {
   "cell_type": "markdown",
   "metadata": {},
   "source": [
    "### Evaluate\n",
    "\n",
    "Now it's time to evaluate how our model did against what the actual values were, but to do this we'll need to undo the scaling that we applied earlier."
   ]
  },
  {
   "cell_type": "code",
   "execution_count": 15,
   "metadata": {},
   "outputs": [
    {
     "data": {
      "text/html": [
       "<div>\n",
       "<style scoped>\n",
       "    .dataframe tbody tr th:only-of-type {\n",
       "        vertical-align: middle;\n",
       "    }\n",
       "\n",
       "    .dataframe tbody tr th {\n",
       "        vertical-align: top;\n",
       "    }\n",
       "\n",
       "    .dataframe thead th {\n",
       "        text-align: right;\n",
       "    }\n",
       "</style>\n",
       "<table border=\"1\" class=\"dataframe\">\n",
       "  <thead>\n",
       "    <tr style=\"text-align: right;\">\n",
       "      <th></th>\n",
       "      <th>value</th>\n",
       "      <th>prediction</th>\n",
       "    </tr>\n",
       "    <tr>\n",
       "      <th>timestamp</th>\n",
       "      <th></th>\n",
       "      <th></th>\n",
       "    </tr>\n",
       "  </thead>\n",
       "  <tbody>\n",
       "    <tr>\n",
       "      <th>1982-02-22</th>\n",
       "      <td>0.000000</td>\n",
       "      <td>1.062535</td>\n",
       "    </tr>\n",
       "    <tr>\n",
       "      <th>1982-02-23</th>\n",
       "      <td>0.000000</td>\n",
       "      <td>1.145566</td>\n",
       "    </tr>\n",
       "    <tr>\n",
       "      <th>1982-02-24</th>\n",
       "      <td>23.599998</td>\n",
       "      <td>0.911956</td>\n",
       "    </tr>\n",
       "    <tr>\n",
       "      <th>1982-02-25</th>\n",
       "      <td>16.799999</td>\n",
       "      <td>8.584241</td>\n",
       "    </tr>\n",
       "    <tr>\n",
       "      <th>1982-02-26</th>\n",
       "      <td>9.800000</td>\n",
       "      <td>7.131365</td>\n",
       "    </tr>\n",
       "  </tbody>\n",
       "</table>\n",
       "</div>"
      ],
      "text/plain": [
       "                value  prediction\n",
       "timestamp                        \n",
       "1982-02-22   0.000000    1.062535\n",
       "1982-02-23   0.000000    1.145566\n",
       "1982-02-24  23.599998    0.911956\n",
       "1982-02-25  16.799999    8.584241\n",
       "1982-02-26   9.800000    7.131365"
      ]
     },
     "execution_count": 15,
     "metadata": {},
     "output_type": "execute_result"
    }
   ],
   "source": [
    "predictions, values = opt.evaluate(test_loader, batch_size=64, n_features=input_dimension)\n",
    "\n",
    "def inverse_transform(scaler, df, columns):\n",
    "    for col in columns:\n",
    "        df[col] = scaler.inverse_transform(df[col])\n",
    "    return df\n",
    "\n",
    "\n",
    "def format_predictions(predictions, values, df_test, scaler):\n",
    "    vals = np.concatenate(values, axis=0).ravel()\n",
    "    preds = np.concatenate(predictions, axis=0).ravel()\n",
    "    df_result = pd.DataFrame(data={\"value\": vals, \"prediction\": preds}, index=df_test.head(len(vals)).index)\n",
    "    df_result = df_result.sort_index()\n",
    "    df_result = inverse_transform(scaler, df_result, [[\"value\", \"prediction\"]])\n",
    "    return df_result\n",
    "\n",
    "\n",
    "df_result = format_predictions(predictions, values, X_test, scaler)\n",
    "\n",
    "df_result.head(5)"
   ]
  },
  {
   "cell_type": "markdown",
   "metadata": {},
   "source": [
    "## Results\n",
    "\n",
    "Sifting through the entire results comparing in a table form isn't fun, so let's use measures specifically designed to tell us how representative the predictions are.\n",
    "\n",
    "For this we'll use:\n",
    "\n",
    "- Mean Absolute Error - Sum of the prediction errors dividing by the sample size - Lower score means better fit but depends on the range of the prediction\n",
    "- Root Mean Squared Error - Standard deviation of the prediction errors - Lower score means better fit but depends on the range of the prediction\n",
    "- R squared - Variance of prediction - High score means small difference between true and predicted"
   ]
  },
  {
   "cell_type": "code",
   "execution_count": 16,
   "metadata": {},
   "outputs": [
    {
     "data": {
      "text/plain": [
       "{'mae': 3.6706777, 'rmse': 8.808983500246619, 'r2': 0.07143107409593741}"
      ]
     },
     "execution_count": 16,
     "metadata": {},
     "output_type": "execute_result"
    }
   ],
   "source": [
    "from sklearn.metrics import mean_absolute_error, mean_squared_error, r2_score\n",
    "\n",
    "def calculate_metrics(df, source_col):\n",
    "    return {'mae' : mean_absolute_error(df[source_col], df.prediction),\n",
    "            'rmse' : mean_squared_error(df[source_col], df.prediction) ** 0.5,\n",
    "            'r2' : r2_score(df[source_col], df.prediction)}\n",
    "\n",
    "result_metrics = calculate_metrics(df_result,'value')\n",
    "\n",
    "result_metrics"
   ]
  },
  {
   "cell_type": "code",
   "execution_count": 17,
   "metadata": {},
   "outputs": [
    {
     "data": {
      "text/plain": [
       "{'mae': 4.161167894393423,\n",
       " 'rmse': 8.772121882200775,\n",
       " 'r2': 0.07767815563196889}"
      ]
     },
     "execution_count": 17,
     "metadata": {},
     "output_type": "execute_result"
    }
   ],
   "source": [
    "from sklearn.linear_model import LinearRegression\n",
    "\n",
    "def build_baseline_model(df, test_ratio, target_col):\n",
    "    X, y = feature_label_split(df, target_col)\n",
    "    X_train, X_test, y_train, y_test = train_test_split(\n",
    "        X, y, test_size=test_ratio, shuffle=False\n",
    "    )\n",
    "    model = LinearRegression()\n",
    "    model.fit(X_train.to_numpy(), y_train.to_numpy())\n",
    "    prediction = model.predict(X_test.to_numpy())\n",
    "\n",
    "    result = pd.DataFrame(y_test)\n",
    "    result[\"prediction\"] = prediction\n",
    "    result = result.sort_index()\n",
    "\n",
    "    return result\n",
    "\n",
    "df_baseline = build_baseline_model(df_features, TEST_RATIO, 'value')\n",
    "baseline_metrics = calculate_metrics(df_baseline,'value')\n",
    "\n",
    "baseline_metrics"
   ]
  },
  {
   "cell_type": "code",
   "execution_count": 18,
   "metadata": {},
   "outputs": [
    {
     "data": {
      "text/plain": [
       "<AxesSubplot:xlabel='timestamp'>"
      ]
     },
     "execution_count": 18,
     "metadata": {},
     "output_type": "execute_result"
    },
    {
     "data": {
      "image/png": "[encoded data removed]",
      "text/plain": [
       "<Figure size 432x288 with 1 Axes>"
      ]
     },
     "metadata": {
      "needs_background": "light"
     },
     "output_type": "display_data"
    }
   ],
   "source": [
    "ax = df_baseline.prediction.plot(color='blue',legend=True)\n",
    "\n",
    "df_baseline.value.plot(color='red', ax=ax, legend=True,alpha=0.5)\n",
    "\n",
    "df_result.prediction.plot(color='yellow',ax=ax,legend=True, alpha=0.8)"
   ]
  },
  {
   "cell_type": "markdown",
   "metadata": {},
   "source": [
    "Woohoo, we've implemented a RNN that predicts rainfall, to a degree. While the output definitely leaves some to be desired, this means there's plenty of room for improvement. Places for improving upon this model would be:\n",
    "\n",
    "- Other types of RNNs (LSTM, GRU, etc)\n",
    "- Different features (ie, min/max temperatures, average wind speed)\n",
    "- Fine tuning of training variables (ie, epochs, training rate, etc)"
   ]
  }
 ],
 "metadata": {
  "interpreter": {
   "hash": "71539b9b269266b35d5d41e457d6e976be24d16618f896b4546eb6a7615fc9ed"
  },
  "kernelspec": {
   "display_name": "Python 3.10.4 ('weather-rnn')",
   "language": "python",
   "name": "python3"
  },
  "language_info": {
   "codemirror_mode": {
    "name": "ipython",
    "version": 3
   },
   "file_extension": ".py",
   "mimetype": "text/x-python",
   "name": "python",
   "nbconvert_exporter": "python",
   "pygments_lexer": "ipython3",
   "version": "3.10.4"
  },
  "orig_nbformat": 4
 },
 "nbformat": 4,
 "nbformat_minor": 2
}
