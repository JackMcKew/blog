{
 "cells": [
  {
   "cell_type": "markdown",
   "metadata": {},
   "source": [
    "Setup rendering dependencies for Google Colaboratory."
   ]
  },
  {
   "cell_type": "code",
   "execution_count": 7,
   "metadata": {},
   "outputs": [],
   "source": [
    "!pip install gym pyvirtualdisplay > /dev/null 2>&1\n",
    "!pip install 'gym[classic_control]' > /dev/null 2>&1\n",
    "!brew install -y xvfb python-opengl ffmpeg > /dev/null 2>&1"
   ]
  },
  {
   "cell_type": "markdown",
   "metadata": {},
   "source": [
    "Install d3rlpy!"
   ]
  },
  {
   "cell_type": "code",
   "execution_count": 8,
   "metadata": {},
   "outputs": [
    {
     "name": "stdout",
     "output_type": "stream",
     "text": [
      "Requirement already satisfied: d3rlpy in /Users/jackmckew/miniconda3/envs/d3/lib/python3.11/site-packages (1.1.1)\n",
      "Requirement already satisfied: torch in /Users/jackmckew/miniconda3/envs/d3/lib/python3.11/site-packages (from d3rlpy) (2.0.0)\n",
      "Requirement already satisfied: scikit-learn in /Users/jackmckew/miniconda3/envs/d3/lib/python3.11/site-packages (from d3rlpy) (1.2.2)\n",
      "Requirement already satisfied: tensorboardX in /Users/jackmckew/miniconda3/envs/d3/lib/python3.11/site-packages (from d3rlpy) (2.6)\n",
      "Requirement already satisfied: tqdm in /Users/jackmckew/miniconda3/envs/d3/lib/python3.11/site-packages (from d3rlpy) (4.65.0)\n",
      "Requirement already satisfied: h5py in /Users/jackmckew/miniconda3/envs/d3/lib/python3.11/site-packages (from d3rlpy) (3.8.0)\n",
      "Requirement already satisfied: gym in /Users/jackmckew/miniconda3/envs/d3/lib/python3.11/site-packages (from d3rlpy) (0.26.2)\n",
      "Requirement already satisfied: click in /Users/jackmckew/miniconda3/envs/d3/lib/python3.11/site-packages (from d3rlpy) (8.1.3)\n",
      "Requirement already satisfied: typing-extensions in /Users/jackmckew/miniconda3/envs/d3/lib/python3.11/site-packages (from d3rlpy) (4.5.0)\n",
      "Requirement already satisfied: scipy in /Users/jackmckew/miniconda3/envs/d3/lib/python3.11/site-packages (from d3rlpy) (1.10.1)\n",
      "Requirement already satisfied: structlog in /Users/jackmckew/miniconda3/envs/d3/lib/python3.11/site-packages (from d3rlpy) (23.1.0)\n",
      "Requirement already satisfied: colorama in /Users/jackmckew/miniconda3/envs/d3/lib/python3.11/site-packages (from d3rlpy) (0.4.6)\n",
      "Requirement already satisfied: numpy>=1.18.0 in /Users/jackmckew/miniconda3/envs/d3/lib/python3.11/site-packages (from gym->d3rlpy) (1.24.2)\n",
      "Requirement already satisfied: cloudpickle>=1.2.0 in /Users/jackmckew/miniconda3/envs/d3/lib/python3.11/site-packages (from gym->d3rlpy) (2.2.1)\n",
      "Requirement already satisfied: gym-notices>=0.0.4 in /Users/jackmckew/miniconda3/envs/d3/lib/python3.11/site-packages (from gym->d3rlpy) (0.0.8)\n",
      "Requirement already satisfied: joblib>=1.1.1 in /Users/jackmckew/miniconda3/envs/d3/lib/python3.11/site-packages (from scikit-learn->d3rlpy) (1.2.0)\n",
      "Requirement already satisfied: threadpoolctl>=2.0.0 in /Users/jackmckew/miniconda3/envs/d3/lib/python3.11/site-packages (from scikit-learn->d3rlpy) (3.1.0)\n",
      "Requirement already satisfied: packaging in /Users/jackmckew/miniconda3/envs/d3/lib/python3.11/site-packages (from tensorboardX->d3rlpy) (23.1)\n",
      "Requirement already satisfied: protobuf<4,>=3.8.0 in /Users/jackmckew/miniconda3/envs/d3/lib/python3.11/site-packages (from tensorboardX->d3rlpy) (3.20.3)\n",
      "Requirement already satisfied: filelock in /Users/jackmckew/miniconda3/envs/d3/lib/python3.11/site-packages (from torch->d3rlpy) (3.11.0)\n",
      "Requirement already satisfied: sympy in /Users/jackmckew/miniconda3/envs/d3/lib/python3.11/site-packages (from torch->d3rlpy) (1.11.1)\n",
      "Requirement already satisfied: networkx in /Users/jackmckew/miniconda3/envs/d3/lib/python3.11/site-packages (from torch->d3rlpy) (3.1)\n",
      "Requirement already satisfied: jinja2 in /Users/jackmckew/miniconda3/envs/d3/lib/python3.11/site-packages (from torch->d3rlpy) (3.1.2)\n",
      "Requirement already satisfied: MarkupSafe>=2.0 in /Users/jackmckew/miniconda3/envs/d3/lib/python3.11/site-packages (from jinja2->torch->d3rlpy) (2.1.2)\n",
      "Requirement already satisfied: mpmath>=0.19 in /Users/jackmckew/miniconda3/envs/d3/lib/python3.11/site-packages (from sympy->torch->d3rlpy) (1.3.0)\n"
     ]
    }
   ],
   "source": [
    "!pip install d3rlpy"
   ]
  },
  {
   "cell_type": "markdown",
   "metadata": {},
   "source": [
    "Setup cartpole dataset."
   ]
  },
  {
   "cell_type": "code",
   "execution_count": 9,
   "metadata": {},
   "outputs": [
    {
     "name": "stderr",
     "output_type": "stream",
     "text": [
      "/Users/jackmckew/miniconda3/envs/d3/lib/python3.11/site-packages/gym/envs/registration.py:555: UserWarning: \u001b[33mWARN: The environment CartPole-v0 is out of date. You should consider upgrading to version `v1`.\u001b[0m\n",
      "  logger.warn(\n"
     ]
    }
   ],
   "source": [
    "from d3rlpy.datasets import get_cartpole\n",
    "\n",
    "# get CartPole dataset\n",
    "dataset, env = get_cartpole()"
   ]
  },
  {
   "cell_type": "markdown",
   "metadata": {},
   "source": [
    "Setup data-driven deep reinforcement learning algorithm."
   ]
  },
  {
   "cell_type": "code",
   "execution_count": 10,
   "metadata": {},
   "outputs": [
    {
     "name": "stdout",
     "output_type": "stream",
     "text": [
      "\u001b[2m2023-04-14 23:55:34\u001b[0m [\u001b[32m\u001b[1mdebug    \u001b[0m] \u001b[1mRoundIterator is selected.\u001b[0m\n",
      "\u001b[2m2023-04-14 23:55:34\u001b[0m [\u001b[32m\u001b[1minfo     \u001b[0m] \u001b[1mDirectory is created at d3rlpy_logs/DiscreteCQL_20230414235534\u001b[0m\n",
      "\u001b[2m2023-04-14 23:55:34\u001b[0m [\u001b[32m\u001b[1mdebug    \u001b[0m] \u001b[1mBuilding models...\u001b[0m\n",
      "\u001b[2m2023-04-14 23:55:34\u001b[0m [\u001b[32m\u001b[1mdebug    \u001b[0m] \u001b[1mModels have been built.\u001b[0m\n",
      "\u001b[2m2023-04-14 23:55:34\u001b[0m [\u001b[32m\u001b[1minfo     \u001b[0m] \u001b[1mParameters are saved to d3rlpy_logs/DiscreteCQL_20230414235534/params.json\u001b[0m \u001b[36mparams\u001b[0m=\u001b[35m{'action_scaler': None, 'alpha': 1.0, 'batch_size': 32, 'encoder_factory': {'type': 'default', 'params': {'activation': 'relu', 'use_batch_norm': False, 'dropout_rate': None}}, 'gamma': 0.99, 'generated_maxlen': 100000, 'learning_rate': 6.25e-05, 'n_critics': 1, 'n_frames': 1, 'n_steps': 1, 'optim_factory': {'optim_cls': 'Adam', 'betas': (0.9, 0.999), 'eps': 1e-08, 'weight_decay': 0, 'amsgrad': False}, 'q_func_factory': {'type': 'mean', 'params': {'share_encoder': False}}, 'real_ratio': 1.0, 'reward_scaler': None, 'scaler': None, 'target_update_interval': 8000, 'use_gpu': None, 'algorithm': 'DiscreteCQL', 'observation_shape': (4,), 'action_size': 2}\u001b[0m\n"
     ]
    },
    {
     "data": {
      "application/vnd.jupyter.widget-view+json": {
       "model_id": "5f099fa75ab14866b3625d8a1aa0f118",
       "version_major": 2,
       "version_minor": 0
      },
      "text/plain": [
       "Epoch 1/1:   0%|          | 0/2473 [00:00<?, ?it/s]"
      ]
     },
     "metadata": {},
     "output_type": "display_data"
    },
    {
     "ename": "AttributeError",
     "evalue": "'list' object has no attribute 'to'",
     "output_type": "error",
     "traceback": [
      "\u001b[0;31m---------------------------------------------------------------------------\u001b[0m",
      "\u001b[0;31mAttributeError\u001b[0m                            Traceback (most recent call last)",
      "Cell \u001b[0;32mIn[10], line 15\u001b[0m\n\u001b[1;32m     12\u001b[0m train_episodes, test_episodes \u001b[39m=\u001b[39m train_test_split(dataset, test_size\u001b[39m=\u001b[39m\u001b[39m0.2\u001b[39m)\n\u001b[1;32m     14\u001b[0m \u001b[39m# start training\u001b[39;00m\n\u001b[0;32m---> 15\u001b[0m cql\u001b[39m.\u001b[39;49mfit(train_episodes,\n\u001b[1;32m     16\u001b[0m         eval_episodes\u001b[39m=\u001b[39;49mtest_episodes,\n\u001b[1;32m     17\u001b[0m         n_epochs\u001b[39m=\u001b[39;49m\u001b[39m1\u001b[39;49m,\n\u001b[1;32m     18\u001b[0m         scorers\u001b[39m=\u001b[39;49m{\n\u001b[1;32m     19\u001b[0m             \u001b[39m'\u001b[39;49m\u001b[39menvironment\u001b[39;49m\u001b[39m'\u001b[39;49m: evaluate_on_environment(env), \u001b[39m# evaluate with CartPol-v0 environment\u001b[39;49;00m\n\u001b[1;32m     20\u001b[0m             \u001b[39m'\u001b[39;49m\u001b[39madvantage\u001b[39;49m\u001b[39m'\u001b[39;49m: discounted_sum_of_advantage_scorer, \u001b[39m# smaller is better\u001b[39;49;00m\n\u001b[1;32m     21\u001b[0m             \u001b[39m'\u001b[39;49m\u001b[39mtd_error\u001b[39;49m\u001b[39m'\u001b[39;49m: td_error_scorer, \u001b[39m# smaller is better\u001b[39;49;00m\n\u001b[1;32m     22\u001b[0m             \u001b[39m'\u001b[39;49m\u001b[39mvalue_scale\u001b[39;49m\u001b[39m'\u001b[39;49m: average_value_estimation_scorer \u001b[39m# smaller is better\u001b[39;49;00m\n\u001b[1;32m     23\u001b[0m         })\n",
      "File \u001b[0;32m~/miniconda3/envs/d3/lib/python3.11/site-packages/d3rlpy/base.py:406\u001b[0m, in \u001b[0;36mLearnableBase.fit\u001b[0;34m(self, dataset, n_epochs, n_steps, n_steps_per_epoch, save_metrics, experiment_name, with_timestamp, logdir, verbose, show_progress, tensorboard_dir, eval_episodes, save_interval, scorers, shuffle, callback)\u001b[0m\n\u001b[1;32m    349\u001b[0m \u001b[39mdef\u001b[39;00m \u001b[39mfit\u001b[39m(\n\u001b[1;32m    350\u001b[0m     \u001b[39mself\u001b[39m,\n\u001b[1;32m    351\u001b[0m     dataset: Union[List[Episode], List[Transition], MDPDataset],\n\u001b[0;32m   (...)\u001b[0m\n\u001b[1;32m    368\u001b[0m     callback: Optional[Callable[[\u001b[39m\"\u001b[39m\u001b[39mLearnableBase\u001b[39m\u001b[39m\"\u001b[39m, \u001b[39mint\u001b[39m, \u001b[39mint\u001b[39m], \u001b[39mNone\u001b[39;00m]] \u001b[39m=\u001b[39m \u001b[39mNone\u001b[39;00m,\n\u001b[1;32m    369\u001b[0m ) \u001b[39m-\u001b[39m\u001b[39m>\u001b[39m List[Tuple[\u001b[39mint\u001b[39m, Dict[\u001b[39mstr\u001b[39m, \u001b[39mfloat\u001b[39m]]]:\n\u001b[1;32m    370\u001b[0m \u001b[39m    \u001b[39m\u001b[39m\"\"\"Trains with the given dataset.\u001b[39;00m\n\u001b[1;32m    371\u001b[0m \n\u001b[1;32m    372\u001b[0m \u001b[39m    .. code-block:: python\u001b[39;00m\n\u001b[0;32m   (...)\u001b[0m\n\u001b[1;32m    404\u001b[0m \n\u001b[1;32m    405\u001b[0m \u001b[39m    \"\"\"\u001b[39;00m\n\u001b[0;32m--> 406\u001b[0m     results \u001b[39m=\u001b[39m \u001b[39mlist\u001b[39;49m(\n\u001b[1;32m    407\u001b[0m         \u001b[39mself\u001b[39;49m\u001b[39m.\u001b[39;49mfitter(\n\u001b[1;32m    408\u001b[0m             dataset,\n\u001b[1;32m    409\u001b[0m             n_epochs,\n\u001b[1;32m    410\u001b[0m             n_steps,\n\u001b[1;32m    411\u001b[0m             n_steps_per_epoch,\n\u001b[1;32m    412\u001b[0m             save_metrics,\n\u001b[1;32m    413\u001b[0m             experiment_name,\n\u001b[1;32m    414\u001b[0m             with_timestamp,\n\u001b[1;32m    415\u001b[0m             logdir,\n\u001b[1;32m    416\u001b[0m             verbose,\n\u001b[1;32m    417\u001b[0m             show_progress,\n\u001b[1;32m    418\u001b[0m             tensorboard_dir,\n\u001b[1;32m    419\u001b[0m             eval_episodes,\n\u001b[1;32m    420\u001b[0m             save_interval,\n\u001b[1;32m    421\u001b[0m             scorers,\n\u001b[1;32m    422\u001b[0m             shuffle,\n\u001b[1;32m    423\u001b[0m             callback,\n\u001b[1;32m    424\u001b[0m         )\n\u001b[1;32m    425\u001b[0m     )\n\u001b[1;32m    426\u001b[0m     \u001b[39mreturn\u001b[39;00m results\n",
      "File \u001b[0;32m~/miniconda3/envs/d3/lib/python3.11/site-packages/d3rlpy/base.py:665\u001b[0m, in \u001b[0;36mLearnableBase.fitter\u001b[0;34m(self, dataset, n_epochs, n_steps, n_steps_per_epoch, save_metrics, experiment_name, with_timestamp, logdir, verbose, show_progress, tensorboard_dir, eval_episodes, save_interval, scorers, shuffle, callback)\u001b[0m\n\u001b[1;32m    662\u001b[0m         \u001b[39mself\u001b[39m\u001b[39m.\u001b[39m_loss_history[name]\u001b[39m.\u001b[39mappend(np\u001b[39m.\u001b[39mmean(vals))\n\u001b[1;32m    664\u001b[0m \u001b[39mif\u001b[39;00m scorers \u001b[39mand\u001b[39;00m eval_episodes:\n\u001b[0;32m--> 665\u001b[0m     \u001b[39mself\u001b[39;49m\u001b[39m.\u001b[39;49m_evaluate(eval_episodes, scorers, logger)\n\u001b[1;32m    667\u001b[0m \u001b[39m# save metrics\u001b[39;00m\n\u001b[1;32m    668\u001b[0m metrics \u001b[39m=\u001b[39m logger\u001b[39m.\u001b[39mcommit(epoch, total_step)\n",
      "File \u001b[0;32m~/miniconda3/envs/d3/lib/python3.11/site-packages/d3rlpy/base.py:802\u001b[0m, in \u001b[0;36mLearnableBase._evaluate\u001b[0;34m(self, episodes, scorers, logger)\u001b[0m\n\u001b[1;32m    794\u001b[0m \u001b[39mdef\u001b[39;00m \u001b[39m_evaluate\u001b[39m(\n\u001b[1;32m    795\u001b[0m     \u001b[39mself\u001b[39m,\n\u001b[1;32m    796\u001b[0m     episodes: List[Episode],\n\u001b[1;32m    797\u001b[0m     scorers: Dict[\u001b[39mstr\u001b[39m, Callable[[Any, List[Episode]], \u001b[39mfloat\u001b[39m]],\n\u001b[1;32m    798\u001b[0m     logger: D3RLPyLogger,\n\u001b[1;32m    799\u001b[0m ) \u001b[39m-\u001b[39m\u001b[39m>\u001b[39m \u001b[39mNone\u001b[39;00m:\n\u001b[1;32m    800\u001b[0m     \u001b[39mfor\u001b[39;00m name, scorer \u001b[39min\u001b[39;00m scorers\u001b[39m.\u001b[39mitems():\n\u001b[1;32m    801\u001b[0m         \u001b[39m# evaluation with test data\u001b[39;00m\n\u001b[0;32m--> 802\u001b[0m         test_score \u001b[39m=\u001b[39m scorer(\u001b[39mself\u001b[39;49m, episodes)\n\u001b[1;32m    804\u001b[0m         \u001b[39m# logging metrics\u001b[39;00m\n\u001b[1;32m    805\u001b[0m         logger\u001b[39m.\u001b[39madd_metric(name, test_score)\n",
      "File \u001b[0;32m~/miniconda3/envs/d3/lib/python3.11/site-packages/d3rlpy/metrics/scorer.py:472\u001b[0m, in \u001b[0;36mevaluate_on_environment.<locals>.scorer\u001b[0;34m(algo, *args)\u001b[0m\n\u001b[1;32m    470\u001b[0m         action \u001b[39m=\u001b[39m algo\u001b[39m.\u001b[39mpredict([stacked_observation\u001b[39m.\u001b[39meval()])[\u001b[39m0\u001b[39m]\n\u001b[1;32m    471\u001b[0m     \u001b[39melse\u001b[39;00m:\n\u001b[0;32m--> 472\u001b[0m         action \u001b[39m=\u001b[39m algo\u001b[39m.\u001b[39;49mpredict([observation])[\u001b[39m0\u001b[39m]\n\u001b[1;32m    474\u001b[0m observation, reward, done, _ \u001b[39m=\u001b[39m env\u001b[39m.\u001b[39mstep(action)\n\u001b[1;32m    475\u001b[0m episode_reward \u001b[39m+\u001b[39m\u001b[39m=\u001b[39m reward\n",
      "File \u001b[0;32m~/miniconda3/envs/d3/lib/python3.11/site-packages/d3rlpy/algos/base.py:127\u001b[0m, in \u001b[0;36mAlgoBase.predict\u001b[0;34m(self, x)\u001b[0m\n\u001b[1;32m    108\u001b[0m \u001b[39m\u001b[39m\u001b[39m\"\"\"Returns greedy actions.\u001b[39;00m\n\u001b[1;32m    109\u001b[0m \n\u001b[1;32m    110\u001b[0m \u001b[39m.. code-block:: python\u001b[39;00m\n\u001b[0;32m   (...)\u001b[0m\n\u001b[1;32m    124\u001b[0m \n\u001b[1;32m    125\u001b[0m \u001b[39m\"\"\"\u001b[39;00m\n\u001b[1;32m    126\u001b[0m \u001b[39massert\u001b[39;00m \u001b[39mself\u001b[39m\u001b[39m.\u001b[39m_impl \u001b[39mis\u001b[39;00m \u001b[39mnot\u001b[39;00m \u001b[39mNone\u001b[39;00m, IMPL_NOT_INITIALIZED_ERROR\n\u001b[0;32m--> 127\u001b[0m \u001b[39mreturn\u001b[39;00m \u001b[39mself\u001b[39;49m\u001b[39m.\u001b[39;49m_impl\u001b[39m.\u001b[39;49mpredict_best_action(x)\n",
      "File \u001b[0;32m~/miniconda3/envs/d3/lib/python3.11/site-packages/d3rlpy/torch_utility.py:305\u001b[0m, in \u001b[0;36meval_api.<locals>.wrapper\u001b[0;34m(self, *args, **kwargs)\u001b[0m\n\u001b[1;32m    303\u001b[0m \u001b[39mdef\u001b[39;00m \u001b[39mwrapper\u001b[39m(\u001b[39mself\u001b[39m: Any, \u001b[39m*\u001b[39margs: Any, \u001b[39m*\u001b[39m\u001b[39m*\u001b[39mkwargs: Any) \u001b[39m-\u001b[39m\u001b[39m>\u001b[39m np\u001b[39m.\u001b[39mndarray:\n\u001b[1;32m    304\u001b[0m     set_eval_mode(\u001b[39mself\u001b[39m)\n\u001b[0;32m--> 305\u001b[0m     \u001b[39mreturn\u001b[39;00m f(\u001b[39mself\u001b[39;49m, \u001b[39m*\u001b[39;49margs, \u001b[39m*\u001b[39;49m\u001b[39m*\u001b[39;49mkwargs)\n",
      "File \u001b[0;32m~/miniconda3/envs/d3/lib/python3.11/site-packages/d3rlpy/torch_utility.py:246\u001b[0m, in \u001b[0;36mtorch_api.<locals>._torch_api.<locals>.wrapper\u001b[0;34m(self, *args, **kwargs)\u001b[0m\n\u001b[1;32m    244\u001b[0m \u001b[39melif\u001b[39;00m \u001b[39misinstance\u001b[39m(val, \u001b[39mlist\u001b[39m):\n\u001b[1;32m    245\u001b[0m     tensor \u001b[39m=\u001b[39m default_collate(val)\n\u001b[0;32m--> 246\u001b[0m     tensor \u001b[39m=\u001b[39m tensor\u001b[39m.\u001b[39;49mto(\u001b[39mself\u001b[39m\u001b[39m.\u001b[39mdevice)\n\u001b[1;32m    247\u001b[0m \u001b[39melif\u001b[39;00m \u001b[39misinstance\u001b[39m(val, np\u001b[39m.\u001b[39mndarray):\n\u001b[1;32m    248\u001b[0m     \u001b[39mif\u001b[39;00m val\u001b[39m.\u001b[39mdtype \u001b[39m==\u001b[39m np\u001b[39m.\u001b[39muint8:\n",
      "\u001b[0;31mAttributeError\u001b[0m: 'list' object has no attribute 'to'"
     ]
    }
   ],
   "source": [
    "from d3rlpy.algos import DiscreteCQL\n",
    "from d3rlpy.metrics.scorer import discounted_sum_of_advantage_scorer\n",
    "from d3rlpy.metrics.scorer import evaluate_on_environment\n",
    "from d3rlpy.metrics.scorer import td_error_scorer\n",
    "from d3rlpy.metrics.scorer import average_value_estimation_scorer\n",
    "from sklearn.model_selection import train_test_split\n",
    "\n",
    "# setup CQL algorithm\n",
    "cql = DiscreteCQL(use_gpu=False)\n",
    "\n",
    "# split train and test episodes\n",
    "train_episodes, test_episodes = train_test_split(dataset, test_size=0.2)\n",
    "\n",
    "# start training\n",
    "cql.fit(train_episodes,\n",
    "        eval_episodes=test_episodes,\n",
    "        n_epochs=1,\n",
    "        scorers={\n",
    "            'environment': evaluate_on_environment(env), # evaluate with CartPol-v0 environment\n",
    "            'advantage': discounted_sum_of_advantage_scorer, # smaller is better\n",
    "            'td_error': td_error_scorer, # smaller is better\n",
    "            'value_scale': average_value_estimation_scorer # smaller is better\n",
    "        })"
   ]
  },
  {
   "cell_type": "markdown",
   "metadata": {},
   "source": [
    "Setup rendering utilities for Google Colaboratory."
   ]
  },
  {
   "cell_type": "code",
   "execution_count": 11,
   "metadata": {},
   "outputs": [
    {
     "ename": "FileNotFoundError",
     "evalue": "[Errno 2] No such file or directory: 'Xvfb'",
     "output_type": "error",
     "traceback": [
      "\u001b[0;31m---------------------------------------------------------------------------\u001b[0m",
      "\u001b[0;31mFileNotFoundError\u001b[0m                         Traceback (most recent call last)",
      "Cell \u001b[0;32mIn[11], line 11\u001b[0m\n\u001b[1;32m      8\u001b[0m \u001b[39mfrom\u001b[39;00m \u001b[39mpyvirtualdisplay\u001b[39;00m \u001b[39mimport\u001b[39;00m Display\n\u001b[1;32m     10\u001b[0m \u001b[39m# start virtual display\u001b[39;00m\n\u001b[0;32m---> 11\u001b[0m display \u001b[39m=\u001b[39m Display(visible\u001b[39m=\u001b[39;49m\u001b[39m0\u001b[39;49m, size\u001b[39m=\u001b[39;49m(\u001b[39m1400\u001b[39;49m, \u001b[39m900\u001b[39;49m))\n\u001b[1;32m     12\u001b[0m display\u001b[39m.\u001b[39mstart()\n\u001b[1;32m     14\u001b[0m \u001b[39m# play recorded video\u001b[39;00m\n",
      "File \u001b[0;32m~/miniconda3/envs/d3/lib/python3.11/site-packages/pyvirtualdisplay/display.py:54\u001b[0m, in \u001b[0;36mDisplay.__init__\u001b[0;34m(self, backend, visible, size, color_depth, bgcolor, use_xauth, retries, extra_args, manage_global_env, **kwargs)\u001b[0m\n\u001b[1;32m     51\u001b[0m \u001b[39mif\u001b[39;00m \u001b[39mnot\u001b[39;00m \u001b[39mcls\u001b[39m:\n\u001b[1;32m     52\u001b[0m     \u001b[39mraise\u001b[39;00m \u001b[39mValueError\u001b[39;00m(\u001b[39m\"\u001b[39m\u001b[39munknown backend: \u001b[39m\u001b[39m%s\u001b[39;00m\u001b[39m\"\u001b[39m \u001b[39m%\u001b[39m \u001b[39mself\u001b[39m\u001b[39m.\u001b[39m_backend)\n\u001b[0;32m---> 54\u001b[0m \u001b[39mself\u001b[39m\u001b[39m.\u001b[39m_obj \u001b[39m=\u001b[39m \u001b[39mcls\u001b[39;49m(\n\u001b[1;32m     55\u001b[0m     size\u001b[39m=\u001b[39;49msize,\n\u001b[1;32m     56\u001b[0m     color_depth\u001b[39m=\u001b[39;49mcolor_depth,\n\u001b[1;32m     57\u001b[0m     bgcolor\u001b[39m=\u001b[39;49mbgcolor,\n\u001b[1;32m     58\u001b[0m     retries\u001b[39m=\u001b[39;49mretries,\n\u001b[1;32m     59\u001b[0m     use_xauth\u001b[39m=\u001b[39;49muse_xauth,\n\u001b[1;32m     60\u001b[0m     \u001b[39m# check_startup=check_startup,\u001b[39;49;00m\n\u001b[1;32m     61\u001b[0m     extra_args\u001b[39m=\u001b[39;49mextra_args,\n\u001b[1;32m     62\u001b[0m     manage_global_env\u001b[39m=\u001b[39;49mmanage_global_env,\n\u001b[1;32m     63\u001b[0m     \u001b[39m*\u001b[39;49m\u001b[39m*\u001b[39;49mkwargs\n\u001b[1;32m     64\u001b[0m )\n",
      "File \u001b[0;32m~/miniconda3/envs/d3/lib/python3.11/site-packages/pyvirtualdisplay/xvfb.py:44\u001b[0m, in \u001b[0;36mXvfbDisplay.__init__\u001b[0;34m(self, size, color_depth, bgcolor, use_xauth, fbdir, dpi, retries, extra_args, manage_global_env)\u001b[0m\n\u001b[1;32m     41\u001b[0m \u001b[39mself\u001b[39m\u001b[39m.\u001b[39m_fbdir \u001b[39m=\u001b[39m fbdir\n\u001b[1;32m     42\u001b[0m \u001b[39mself\u001b[39m\u001b[39m.\u001b[39m_dpi \u001b[39m=\u001b[39m dpi\n\u001b[0;32m---> 44\u001b[0m AbstractDisplay\u001b[39m.\u001b[39;49m\u001b[39m__init__\u001b[39;49m(\n\u001b[1;32m     45\u001b[0m     \u001b[39mself\u001b[39;49m,\n\u001b[1;32m     46\u001b[0m     PROGRAM,\n\u001b[1;32m     47\u001b[0m     use_xauth\u001b[39m=\u001b[39;49muse_xauth,\n\u001b[1;32m     48\u001b[0m     retries\u001b[39m=\u001b[39;49mretries,\n\u001b[1;32m     49\u001b[0m     extra_args\u001b[39m=\u001b[39;49mextra_args,\n\u001b[1;32m     50\u001b[0m     manage_global_env\u001b[39m=\u001b[39;49mmanage_global_env,\n\u001b[1;32m     51\u001b[0m )\n",
      "File \u001b[0;32m~/miniconda3/envs/d3/lib/python3.11/site-packages/pyvirtualdisplay/abstractdisplay.py:85\u001b[0m, in \u001b[0;36mAbstractDisplay.__init__\u001b[0;34m(self, program, use_xauth, retries, extra_args, manage_global_env)\u001b[0m\n\u001b[1;32m     82\u001b[0m \u001b[39mself\u001b[39m\u001b[39m.\u001b[39m_pipe_wfd \u001b[39m=\u001b[39m \u001b[39mNone\u001b[39;00m\n\u001b[1;32m     83\u001b[0m \u001b[39mself\u001b[39m\u001b[39m.\u001b[39m_retries_current \u001b[39m=\u001b[39m \u001b[39m0\u001b[39m\n\u001b[0;32m---> 85\u001b[0m helptext \u001b[39m=\u001b[39m get_helptext(program)\n\u001b[1;32m     86\u001b[0m \u001b[39mself\u001b[39m\u001b[39m.\u001b[39m_has_displayfd \u001b[39m=\u001b[39m \u001b[39m\"\u001b[39m\u001b[39m-displayfd\u001b[39m\u001b[39m\"\u001b[39m \u001b[39min\u001b[39;00m helptext\n\u001b[1;32m     87\u001b[0m \u001b[39mif\u001b[39;00m \u001b[39mnot\u001b[39;00m \u001b[39mself\u001b[39m\u001b[39m.\u001b[39m_has_displayfd:\n",
      "File \u001b[0;32m~/miniconda3/envs/d3/lib/python3.11/site-packages/pyvirtualdisplay/util.py:13\u001b[0m, in \u001b[0;36mget_helptext\u001b[0;34m(program)\u001b[0m\n\u001b[1;32m      6\u001b[0m cmd \u001b[39m=\u001b[39m [program, \u001b[39m\"\u001b[39m\u001b[39m-help\u001b[39m\u001b[39m\"\u001b[39m]\n\u001b[1;32m      8\u001b[0m \u001b[39m# py3.7+\u001b[39;00m\n\u001b[1;32m      9\u001b[0m \u001b[39m# p = subprocess.run(cmd, capture_output=True)\u001b[39;00m\n\u001b[1;32m     10\u001b[0m \u001b[39m# stderr = p.stderr\u001b[39;00m\n\u001b[1;32m     11\u001b[0m \n\u001b[1;32m     12\u001b[0m \u001b[39m# py3.6 also\u001b[39;00m\n\u001b[0;32m---> 13\u001b[0m p \u001b[39m=\u001b[39m subprocess\u001b[39m.\u001b[39;49mPopen(\n\u001b[1;32m     14\u001b[0m     cmd,\n\u001b[1;32m     15\u001b[0m     stdout\u001b[39m=\u001b[39;49msubprocess\u001b[39m.\u001b[39;49mPIPE,\n\u001b[1;32m     16\u001b[0m     stderr\u001b[39m=\u001b[39;49msubprocess\u001b[39m.\u001b[39;49mPIPE,\n\u001b[1;32m     17\u001b[0m     shell\u001b[39m=\u001b[39;49m\u001b[39mFalse\u001b[39;49;00m,\n\u001b[1;32m     18\u001b[0m )\n\u001b[1;32m     19\u001b[0m _, stderr \u001b[39m=\u001b[39m p\u001b[39m.\u001b[39mcommunicate()\n\u001b[1;32m     21\u001b[0m helptext \u001b[39m=\u001b[39m stderr\u001b[39m.\u001b[39mdecode(\u001b[39m\"\u001b[39m\u001b[39mutf-8\u001b[39m\u001b[39m\"\u001b[39m, \u001b[39m\"\u001b[39m\u001b[39mignore\u001b[39m\u001b[39m\"\u001b[39m)\n",
      "File \u001b[0;32m~/miniconda3/envs/d3/lib/python3.11/subprocess.py:1024\u001b[0m, in \u001b[0;36mPopen.__init__\u001b[0;34m(self, args, bufsize, executable, stdin, stdout, stderr, preexec_fn, close_fds, shell, cwd, env, universal_newlines, startupinfo, creationflags, restore_signals, start_new_session, pass_fds, user, group, extra_groups, encoding, errors, text, umask, pipesize, process_group)\u001b[0m\n\u001b[1;32m   1020\u001b[0m         \u001b[39mif\u001b[39;00m \u001b[39mself\u001b[39m\u001b[39m.\u001b[39mtext_mode:\n\u001b[1;32m   1021\u001b[0m             \u001b[39mself\u001b[39m\u001b[39m.\u001b[39mstderr \u001b[39m=\u001b[39m io\u001b[39m.\u001b[39mTextIOWrapper(\u001b[39mself\u001b[39m\u001b[39m.\u001b[39mstderr,\n\u001b[1;32m   1022\u001b[0m                     encoding\u001b[39m=\u001b[39mencoding, errors\u001b[39m=\u001b[39merrors)\n\u001b[0;32m-> 1024\u001b[0m     \u001b[39mself\u001b[39;49m\u001b[39m.\u001b[39;49m_execute_child(args, executable, preexec_fn, close_fds,\n\u001b[1;32m   1025\u001b[0m                         pass_fds, cwd, env,\n\u001b[1;32m   1026\u001b[0m                         startupinfo, creationflags, shell,\n\u001b[1;32m   1027\u001b[0m                         p2cread, p2cwrite,\n\u001b[1;32m   1028\u001b[0m                         c2pread, c2pwrite,\n\u001b[1;32m   1029\u001b[0m                         errread, errwrite,\n\u001b[1;32m   1030\u001b[0m                         restore_signals,\n\u001b[1;32m   1031\u001b[0m                         gid, gids, uid, umask,\n\u001b[1;32m   1032\u001b[0m                         start_new_session, process_group)\n\u001b[1;32m   1033\u001b[0m \u001b[39mexcept\u001b[39;00m:\n\u001b[1;32m   1034\u001b[0m     \u001b[39m# Cleanup if the child failed starting.\u001b[39;00m\n\u001b[1;32m   1035\u001b[0m     \u001b[39mfor\u001b[39;00m f \u001b[39min\u001b[39;00m \u001b[39mfilter\u001b[39m(\u001b[39mNone\u001b[39;00m, (\u001b[39mself\u001b[39m\u001b[39m.\u001b[39mstdin, \u001b[39mself\u001b[39m\u001b[39m.\u001b[39mstdout, \u001b[39mself\u001b[39m\u001b[39m.\u001b[39mstderr)):\n",
      "File \u001b[0;32m~/miniconda3/envs/d3/lib/python3.11/subprocess.py:1917\u001b[0m, in \u001b[0;36mPopen._execute_child\u001b[0;34m(self, args, executable, preexec_fn, close_fds, pass_fds, cwd, env, startupinfo, creationflags, shell, p2cread, p2cwrite, c2pread, c2pwrite, errread, errwrite, restore_signals, gid, gids, uid, umask, start_new_session, process_group)\u001b[0m\n\u001b[1;32m   1915\u001b[0m     \u001b[39mif\u001b[39;00m errno_num \u001b[39m!=\u001b[39m \u001b[39m0\u001b[39m:\n\u001b[1;32m   1916\u001b[0m         err_msg \u001b[39m=\u001b[39m os\u001b[39m.\u001b[39mstrerror(errno_num)\n\u001b[0;32m-> 1917\u001b[0m     \u001b[39mraise\u001b[39;00m child_exception_type(errno_num, err_msg, err_filename)\n\u001b[1;32m   1918\u001b[0m \u001b[39mraise\u001b[39;00m child_exception_type(err_msg)\n",
      "\u001b[0;31mFileNotFoundError\u001b[0m: [Errno 2] No such file or directory: 'Xvfb'"
     ]
    }
   ],
   "source": [
    "import glob\n",
    "import io\n",
    "import base64\n",
    "\n",
    "from gym.wrappers import RecordVideo\n",
    "from IPython.display import HTML\n",
    "from IPython import display as ipythondisplay\n",
    "from pyvirtualdisplay import Display\n",
    "\n",
    "# start virtual display\n",
    "display = Display(visible=0, size=(1400, 900))\n",
    "display.start()\n",
    "\n",
    "# play recorded video\n",
    "def show_video():\n",
    "    mp4list = glob.glob('video/*.mp4')\n",
    "    if len(mp4list) > 0:\n",
    "        mp4 = mp4list[0]\n",
    "        video = io.open(mp4, 'r+b').read()\n",
    "        encoded = base64.b64encode(video)\n",
    "        ipythondisplay.display(HTML(data='''\n",
    "            <video alt=\"test\" autoplay loop controls style=\"height: 400px;\">\n",
    "                <source src=\"data:video/mp4;base64,{0}\" type=\"video/mp4\" />\n",
    "            </video>'''.format(encoded.decode('ascii'))))\n",
    "    else: \n",
    "        print(\"Could not find video\")"
   ]
  },
  {
   "cell_type": "markdown",
   "metadata": {},
   "source": [
    "Record video!"
   ]
  },
  {
   "cell_type": "code",
   "execution_count": 12,
   "metadata": {},
   "outputs": [
    {
     "ename": "DependencyNotInstalled",
     "evalue": "MoviePy is not installed, run `pip install moviepy`",
     "output_type": "error",
     "traceback": [
      "\u001b[0;31m---------------------------------------------------------------------------\u001b[0m",
      "\u001b[0;31mModuleNotFoundError\u001b[0m                       Traceback (most recent call last)",
      "File \u001b[0;32m~/miniconda3/envs/d3/lib/python3.11/site-packages/gym/wrappers/monitoring/video_recorder.py:43\u001b[0m, in \u001b[0;36mVideoRecorder.__init__\u001b[0;34m(self, env, path, metadata, enabled, base_path)\u001b[0m\n\u001b[1;32m     41\u001b[0m \u001b[39mtry\u001b[39;00m:\n\u001b[1;32m     42\u001b[0m     \u001b[39m# check that moviepy is now installed\u001b[39;00m\n\u001b[0;32m---> 43\u001b[0m     \u001b[39mimport\u001b[39;00m \u001b[39mmoviepy\u001b[39;00m  \u001b[39m# noqa: F401\u001b[39;00m\n\u001b[1;32m     44\u001b[0m \u001b[39mexcept\u001b[39;00m \u001b[39mImportError\u001b[39;00m:\n",
      "\u001b[0;31mModuleNotFoundError\u001b[0m: No module named 'moviepy'",
      "\nDuring handling of the above exception, another exception occurred:\n",
      "\u001b[0;31mDependencyNotInstalled\u001b[0m                    Traceback (most recent call last)",
      "Cell \u001b[0;32mIn[12], line 5\u001b[0m\n\u001b[1;32m      2\u001b[0m env \u001b[39m=\u001b[39m RecordVideo(env, \u001b[39m'\u001b[39m\u001b[39m./video\u001b[39m\u001b[39m'\u001b[39m)\n\u001b[1;32m      4\u001b[0m \u001b[39m# evaluate\u001b[39;00m\n\u001b[0;32m----> 5\u001b[0m evaluate_on_environment(env)(cql)\n",
      "File \u001b[0;32m~/miniconda3/envs/d3/lib/python3.11/site-packages/d3rlpy/metrics/scorer.py:456\u001b[0m, in \u001b[0;36mevaluate_on_environment.<locals>.scorer\u001b[0;34m(algo, *args)\u001b[0m\n\u001b[1;32m    454\u001b[0m episode_rewards \u001b[39m=\u001b[39m []\n\u001b[1;32m    455\u001b[0m \u001b[39mfor\u001b[39;00m _ \u001b[39min\u001b[39;00m \u001b[39mrange\u001b[39m(n_trials):\n\u001b[0;32m--> 456\u001b[0m     observation \u001b[39m=\u001b[39m env\u001b[39m.\u001b[39;49mreset()\n\u001b[1;32m    457\u001b[0m     episode_reward \u001b[39m=\u001b[39m \u001b[39m0.0\u001b[39m\n\u001b[1;32m    459\u001b[0m     \u001b[39m# frame stacking\u001b[39;00m\n",
      "File \u001b[0;32m~/miniconda3/envs/d3/lib/python3.11/site-packages/gym/wrappers/record_video.py:106\u001b[0m, in \u001b[0;36mRecordVideo.reset\u001b[0;34m(self, **kwargs)\u001b[0m\n\u001b[1;32m    104\u001b[0m             \u001b[39mself\u001b[39m\u001b[39m.\u001b[39mclose_video_recorder()\n\u001b[1;32m    105\u001b[0m \u001b[39melif\u001b[39;00m \u001b[39mself\u001b[39m\u001b[39m.\u001b[39m_video_enabled():\n\u001b[0;32m--> 106\u001b[0m     \u001b[39mself\u001b[39;49m\u001b[39m.\u001b[39;49mstart_video_recorder()\n\u001b[1;32m    107\u001b[0m \u001b[39mreturn\u001b[39;00m observations\n",
      "File \u001b[0;32m~/miniconda3/envs/d3/lib/python3.11/site-packages/gym/wrappers/record_video.py:118\u001b[0m, in \u001b[0;36mRecordVideo.start_video_recorder\u001b[0;34m(self)\u001b[0m\n\u001b[1;32m    115\u001b[0m     video_name \u001b[39m=\u001b[39m \u001b[39mf\u001b[39m\u001b[39m\"\u001b[39m\u001b[39m{\u001b[39;00m\u001b[39mself\u001b[39m\u001b[39m.\u001b[39mname_prefix\u001b[39m}\u001b[39;00m\u001b[39m-episode-\u001b[39m\u001b[39m{\u001b[39;00m\u001b[39mself\u001b[39m\u001b[39m.\u001b[39mepisode_id\u001b[39m}\u001b[39;00m\u001b[39m\"\u001b[39m\n\u001b[1;32m    117\u001b[0m base_path \u001b[39m=\u001b[39m os\u001b[39m.\u001b[39mpath\u001b[39m.\u001b[39mjoin(\u001b[39mself\u001b[39m\u001b[39m.\u001b[39mvideo_folder, video_name)\n\u001b[0;32m--> 118\u001b[0m \u001b[39mself\u001b[39m\u001b[39m.\u001b[39mvideo_recorder \u001b[39m=\u001b[39m video_recorder\u001b[39m.\u001b[39;49mVideoRecorder(\n\u001b[1;32m    119\u001b[0m     env\u001b[39m=\u001b[39;49m\u001b[39mself\u001b[39;49m\u001b[39m.\u001b[39;49menv,\n\u001b[1;32m    120\u001b[0m     base_path\u001b[39m=\u001b[39;49mbase_path,\n\u001b[1;32m    121\u001b[0m     metadata\u001b[39m=\u001b[39;49m{\u001b[39m\"\u001b[39;49m\u001b[39mstep_id\u001b[39;49m\u001b[39m\"\u001b[39;49m: \u001b[39mself\u001b[39;49m\u001b[39m.\u001b[39;49mstep_id, \u001b[39m\"\u001b[39;49m\u001b[39mepisode_id\u001b[39;49m\u001b[39m\"\u001b[39;49m: \u001b[39mself\u001b[39;49m\u001b[39m.\u001b[39;49mepisode_id},\n\u001b[1;32m    122\u001b[0m )\n\u001b[1;32m    124\u001b[0m \u001b[39mself\u001b[39m\u001b[39m.\u001b[39mvideo_recorder\u001b[39m.\u001b[39mcapture_frame()\n\u001b[1;32m    125\u001b[0m \u001b[39mself\u001b[39m\u001b[39m.\u001b[39mrecorded_frames \u001b[39m=\u001b[39m \u001b[39m1\u001b[39m\n",
      "File \u001b[0;32m~/miniconda3/envs/d3/lib/python3.11/site-packages/gym/wrappers/monitoring/video_recorder.py:45\u001b[0m, in \u001b[0;36mVideoRecorder.__init__\u001b[0;34m(self, env, path, metadata, enabled, base_path)\u001b[0m\n\u001b[1;32m     43\u001b[0m     \u001b[39mimport\u001b[39;00m \u001b[39mmoviepy\u001b[39;00m  \u001b[39m# noqa: F401\u001b[39;00m\n\u001b[1;32m     44\u001b[0m \u001b[39mexcept\u001b[39;00m \u001b[39mImportError\u001b[39;00m:\n\u001b[0;32m---> 45\u001b[0m     \u001b[39mraise\u001b[39;00m error\u001b[39m.\u001b[39mDependencyNotInstalled(\n\u001b[1;32m     46\u001b[0m         \u001b[39m\"\u001b[39m\u001b[39mMoviePy is not installed, run `pip install moviepy`\u001b[39m\u001b[39m\"\u001b[39m\n\u001b[1;32m     47\u001b[0m     )\n\u001b[1;32m     49\u001b[0m \u001b[39mself\u001b[39m\u001b[39m.\u001b[39m_async \u001b[39m=\u001b[39m env\u001b[39m.\u001b[39mmetadata\u001b[39m.\u001b[39mget(\u001b[39m\"\u001b[39m\u001b[39msemantics.async\u001b[39m\u001b[39m\"\u001b[39m)\n\u001b[1;32m     50\u001b[0m \u001b[39mself\u001b[39m\u001b[39m.\u001b[39menabled \u001b[39m=\u001b[39m enabled\n",
      "\u001b[0;31mDependencyNotInstalled\u001b[0m: MoviePy is not installed, run `pip install moviepy`"
     ]
    }
   ],
   "source": [
    "# wrap RecordVideo wrapper\n",
    "env = RecordVideo(env, './video')\n",
    "\n",
    "# evaluate\n",
    "evaluate_on_environment(env)(cql)"
   ]
  },
  {
   "cell_type": "markdown",
   "metadata": {},
   "source": [
    "Let's see how it works!"
   ]
  },
  {
   "cell_type": "code",
   "execution_count": null,
   "metadata": {},
   "outputs": [],
   "source": [
    "show_video()"
   ]
  }
 ],
 "metadata": {
  "kernelspec": {
   "display_name": "Python 3",
   "language": "python",
   "name": "python3"
  },
  "language_info": {
   "codemirror_mode": {
    "name": "ipython",
    "version": 3
   },
   "file_extension": ".py",
   "mimetype": "text/x-python",
   "name": "python",
   "nbconvert_exporter": "python",
   "pygments_lexer": "ipython3",
   "version": "3.11.3"
  }
 },
 "nbformat": 4,
 "nbformat_minor": 4
}
