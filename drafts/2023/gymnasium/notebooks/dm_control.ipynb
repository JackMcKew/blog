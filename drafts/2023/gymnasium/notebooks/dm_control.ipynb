{
  "cells": [
    {
      "cell_type": "markdown",
      "metadata": {
        "id": "MpkYHwCqk7W-"
      },
      "source": [
        "# **`dm_control` tutorial**\n",
        "\n",
        "[![Open In Colab](https://colab.research.google.com/assets/colab-badge.svg)](https://colab.research.google.com/github/deepmind/dm_control/blob/main/tutorial.ipynb)\n",
        "\n",
        "\n",
        "\n",
        "\n",
        "\n",
        "\n"
      ]
    },
    {
      "cell_type": "markdown",
      "metadata": {
        "id": "_UbO9uhtBSX5"
      },
      "source": [
        "> <p><small><small>Copyright 2020 The dm_control Authors.</small></p>\n",
        "> <p><small><small>Licensed under the Apache License, Version 2.0 (the \"License\"); you may not use this file except in compliance with the License. You may obtain a copy of the License at <a href=\"http://www.apache.org/licenses/LICENSE-2.0\">http://www.apache.org/licenses/LICENSE-2.0</a>.</small></small></p>\n",
        "> <p><small><small>Unless required by applicable law or agreed to in writing, software distributed under the License is distributed on an \"AS IS\" BASIS, WITHOUT WARRANTIES OR CONDITIONS OF ANY KIND, either express or implied. See the License for the specific language governing permissions and limitations under the License.</small></small></p>"
      ]
    },
    {
      "cell_type": "markdown",
      "metadata": {
        "id": "aThGKGp0cD76"
      },
      "source": [
        "This notebook provides an overview tutorial of DeepMind's `dm_control` package, hosted at the [deepmind/dm_control](https://github.com/deepmind/dm_control) repository on GitHub.\n",
        "\n",
        "It is adjunct to this [tech report](http://arxiv.org/abs/2006.12983).\n",
        "\n",
        "**A Colab runtime with GPU acceleration is required.** If you're using a CPU-only runtime, you can switch using the menu \"Runtime > Change runtime type\"."
      ]
    },
    {
      "cell_type": "markdown",
      "metadata": {
        "id": "YkBQUjm6gbGF"
      },
      "source": [
        "<!-- Internal installation instructions. -->"
      ]
    },
    {
      "cell_type": "markdown",
      "metadata": {
        "id": "YvyGCsgSCxHQ"
      },
      "source": [
        "### Installing `dm_control` on Colab"
      ]
    },
    {
      "cell_type": "code",
      "execution_count": 1,
      "metadata": {
        "id": "IbZxYDxzoz5R"
      },
      "outputs": [
        {
          "name": "stdout",
          "output_type": "stream",
          "text": [
            "Installing dm_control...\n",
            "Checking that the dm_control installation succeeded...\n"
          ]
        }
      ],
      "source": [
        "#@title Run to install MuJoCo and `dm_control`\n",
        "import distutils.util\n",
        "import subprocess\n",
        "# if subprocess.run('nvidia-smi').returncode:\n",
        "#   raise RuntimeError(\n",
        "#       'Cannot communicate with GPU. '\n",
        "#       'Make sure you are using a GPU Colab runtime. '\n",
        "#       'Go to the Runtime menu and select Choose runtime type.')\n",
        "\n",
        "print('Installing dm_control...')\n",
        "\n",
        "# Configure dm_control to use the EGL rendering backend (requires GPU)\n",
        "# %env MUJOCO_GL=egl\n",
        "\n",
        "print('Checking that the dm_control installation succeeded...')\n",
        "try:\n",
        "  from dm_control import suite\n",
        "  env = suite.load('cartpole', 'swingup')\n",
        "  pixels = env.physics.render()\n",
        "except Exception as e:\n",
        "  raise e from RuntimeError(\n",
        "      'Something went wrong during installation. Check the shell output above '\n",
        "      'for more information.\\n'\n",
        "      'If using a hosted Colab runtime, make sure you enable GPU acceleration '\n",
        "      'by going to the Runtime menu and selecting \"Choose runtime type\".')\n",
        "else:\n",
        "  del pixels, suite\n",
        "\n",
        "# !echo Installed dm_control $(pip show dm_control | grep -Po \"(?<=Version: ).+\")"
      ]
    },
    {
      "cell_type": "markdown",
      "metadata": {
        "id": "wtDN43hIJh2C"
      },
      "source": [
        "# Imports\n",
        "\n",
        "Run both of these cells:"
      ]
    },
    {
      "cell_type": "code",
      "execution_count": 2,
      "metadata": {
        "id": "T5f4w3Kq2X14"
      },
      "outputs": [],
      "source": [
        "#@title All `dm_control` imports required for this tutorial\n",
        "\n",
        "# The basic mujoco wrapper.\n",
        "from dm_control import mujoco\n",
        "\n",
        "# Access to enums and MuJoCo library functions.\n",
        "from dm_control.mujoco.wrapper.mjbindings import enums\n",
        "from dm_control.mujoco.wrapper.mjbindings import mjlib\n",
        "\n",
        "# PyMJCF\n",
        "from dm_control import mjcf\n",
        "\n",
        "# Composer high level imports\n",
        "from dm_control import composer\n",
        "from dm_control.composer.observation import observable\n",
        "from dm_control.composer import variation\n",
        "\n",
        "# Imports for Composer tutorial example\n",
        "from dm_control.composer.variation import distributions\n",
        "from dm_control.composer.variation import noises\n",
        "from dm_control.locomotion.arenas import floors\n",
        "\n",
        "# Control Suite\n",
        "from dm_control import suite\n",
        "\n",
        "# Run through corridor example\n",
        "from dm_control.locomotion.walkers import cmu_humanoid\n",
        "from dm_control.locomotion.arenas import corridors as corridor_arenas\n",
        "from dm_control.locomotion.tasks import corridors as corridor_tasks\n",
        "\n",
        "# Soccer\n",
        "from dm_control.locomotion import soccer\n",
        "\n",
        "# Manipulation\n",
        "from dm_control import manipulation"
      ]
    },
    {
      "cell_type": "code",
      "execution_count": 3,
      "metadata": {
        "id": "gKc1FNhKiVJX"
      },
      "outputs": [],
      "source": [
        "#@title Other imports and helper functions\n",
        "\n",
        "# General\n",
        "import copy\n",
        "import os\n",
        "import itertools\n",
        "from IPython.display import clear_output\n",
        "import numpy as np\n",
        "\n",
        "# Graphics-related\n",
        "import matplotlib\n",
        "import matplotlib.animation as animation\n",
        "import matplotlib.pyplot as plt\n",
        "from IPython.display import HTML\n",
        "import PIL.Image\n",
        "# Internal loading of video libraries.\n",
        "\n",
        "# Use svg backend for figure rendering\n",
        "%config InlineBackend.figure_format = 'svg'\n",
        "\n",
        "# Font sizes\n",
        "SMALL_SIZE = 8\n",
        "MEDIUM_SIZE = 10\n",
        "BIGGER_SIZE = 12\n",
        "plt.rc('font', size=SMALL_SIZE)          # controls default text sizes\n",
        "plt.rc('axes', titlesize=SMALL_SIZE)     # fontsize of the axes title\n",
        "plt.rc('axes', labelsize=MEDIUM_SIZE)    # fontsize of the x and y labels\n",
        "plt.rc('xtick', labelsize=SMALL_SIZE)    # fontsize of the tick labels\n",
        "plt.rc('ytick', labelsize=SMALL_SIZE)    # fontsize of the tick labels\n",
        "plt.rc('legend', fontsize=SMALL_SIZE)    # legend fontsize\n",
        "plt.rc('figure', titlesize=BIGGER_SIZE)  # fontsize of the figure title\n",
        "\n",
        "# Inline video helper function\n",
        "if os.environ.get('COLAB_NOTEBOOK_TEST', False):\n",
        "  # We skip video generation during tests, as it is quite expensive.\n",
        "  display_video = lambda *args, **kwargs: None\n",
        "else:\n",
        "  def display_video(frames, framerate=30):\n",
        "    height, width, _ = frames[0].shape\n",
        "    dpi = 70\n",
        "    orig_backend = matplotlib.get_backend()\n",
        "    matplotlib.use('Agg')  # Switch to headless 'Agg' to inhibit figure rendering.\n",
        "    fig, ax = plt.subplots(1, 1, figsize=(width / dpi, height / dpi), dpi=dpi)\n",
        "    matplotlib.use(orig_backend)  # Switch back to the original backend.\n",
        "    ax.set_axis_off()\n",
        "    ax.set_aspect('equal')\n",
        "    ax.set_position([0, 0, 1, 1])\n",
        "    im = ax.imshow(frames[0])\n",
        "    def update(frame):\n",
        "      im.set_data(frame)\n",
        "      return [im]\n",
        "    interval = 1000/framerate\n",
        "    anim = animation.FuncAnimation(fig=fig, func=update, frames=frames,\n",
        "                                   interval=interval, blit=True, repeat=False)\n",
        "    return HTML(anim.to_html5_video())\n",
        "\n",
        "# Seed numpy's global RNG so that cell outputs are deterministic. We also try to\n",
        "# use RandomState instances that are local to a single cell wherever possible.\n",
        "np.random.seed(42)"
      ]
    },
    {
      "cell_type": "markdown",
      "metadata": {
        "id": "jZXz9rPYGA-Y"
      },
      "source": [
        "# Model definition, compilation and rendering\n",
        "\n"
      ]
    },
    {
      "cell_type": "markdown",
      "metadata": {
        "id": "MRBaZsf1d7Gb"
      },
      "source": [
        "We begin by describing some basic concepts of the [MuJoCo](http://mujoco.org/) physics simulation library, but recommend the [official documentation](http://mujoco.org/book/) for details.\n",
        "\n",
        "Let's define a simple model with two geoms and a light."
      ]
    },
    {
      "cell_type": "code",
      "execution_count": 4,
      "metadata": {
        "id": "ZS2utl59ZTsr"
      },
      "outputs": [
        {
          "data": {
            "image/png": "[encoded data removed]",
            "text/plain": [
              "<PIL.Image.Image image mode=RGB size=320x240>"
            ]
          },
          "execution_count": 4,
          "metadata": {},
          "output_type": "execute_result"
        }
      ],
      "source": [
        "#@title A static model {vertical-output: true}\n",
        "\n",
        "static_model = \"\"\"\n",
        "<mujoco>\n",
        "  <worldbody>\n",
        "    <light name=\"top\" pos=\"0 0 1\"/>\n",
        "    <geom name=\"red_box\" type=\"box\" size=\".2 .2 .2\" rgba=\"1 0 0 1\"/>\n",
        "    <geom name=\"green_sphere\" pos=\".2 .2 .2\" size=\".1\" rgba=\"0 1 0 1\"/>\n",
        "  </worldbody>\n",
        "</mujoco>\n",
        "\"\"\"\n",
        "physics = mujoco.Physics.from_xml_string(static_model)\n",
        "pixels = physics.render()\n",
        "PIL.Image.fromarray(pixels)"
      ]
    },
    {
      "cell_type": "markdown",
      "metadata": {
        "id": "p4vPllljTJh8"
      },
      "source": [
        "`static_model` is written in MuJoCo's XML-based [MJCF](http://www.mujoco.org/book/modeling.html) modeling language. The `from_xml_string()` method invokes the model compiler, which instantiates the library's internal data structures. These can be accessed via the `physics` object, see below."
      ]
    },
    {
      "cell_type": "markdown",
      "metadata": {
        "id": "MdUF2UYmR4TA"
      },
      "source": [
        "## Adding DOFs and simulating, advanced rendering\n",
        "This is a perfectly legitimate model, but if we simulate it, nothing will happen except for time advancing. This is because this model has no degrees of freedom (DOFs). We add DOFs by adding **joints** to bodies, specifying how they can move with respect to their parents. Let us add a hinge joint and re-render, visualizing the joint axis."
      ]
    },
    {
      "cell_type": "code",
      "execution_count": 5,
      "metadata": {
        "id": "R7zokzd_yeEg"
      },
      "outputs": [
        {
          "data": {
            "image/png": "[encoded data removed]",
            "text/plain": [
              "<PIL.Image.Image image mode=RGB size=320x240>"
            ]
          },
          "execution_count": 5,
          "metadata": {},
          "output_type": "execute_result"
        }
      ],
      "source": [
        "#@title A child body with a joint { vertical-output: true }\n",
        "\n",
        "swinging_body = \"\"\"\n",
        "<mujoco>\n",
        "  <worldbody>\n",
        "    <light name=\"top\" pos=\"0 0 1\"/>\n",
        "    <body name=\"box_and_sphere\" euler=\"0 0 -30\">  \n",
        "      <joint name=\"swing\" type=\"hinge\" axis=\"1 -1 0\" pos=\"-.2 -.2 -.2\"/>\n",
        "      <geom name=\"red_box\" type=\"box\" size=\".2 .2 .2\" rgba=\"1 0 0 1\"/>\n",
        "      <geom name=\"green_sphere\" pos=\".2 .2 .2\" size=\".1\" rgba=\"0 1 0 1\"/>\n",
        "    </body>\n",
        "  </worldbody>\n",
        "</mujoco>\n",
        "\"\"\"\n",
        "physics = mujoco.Physics.from_xml_string(swinging_body)\n",
        "# Visualize the joint axis.\n",
        "scene_option = mujoco.wrapper.core.MjvOption()\n",
        "scene_option.flags[enums.mjtVisFlag.mjVIS_JOINT] = True\n",
        "pixels = physics.render(scene_option=scene_option)\n",
        "PIL.Image.fromarray(pixels)"
      ]
    },
    {
      "cell_type": "markdown",
      "metadata": {
        "id": "INOGGV0PTQus"
      },
      "source": [
        "The things that move (and which have inertia) are called *bodies*. The body's child `joint` specifies how that body can move with respect to its parent, in this case `box_and_sphere` w.r.t the `worldbody`. \n",
        "\n",
        "Note that the body's frame is **rotated** with an `euler` directive, and its children, the geoms and the joint, rotate with it. This is to emphasize the local-to-parent-frame nature of position and orientation directives in MJCF.\n",
        "\n",
        "Let's make a video, to get a sense of the dynamics and to see the body swinging under gravity."
      ]
    },
    {
      "cell_type": "code",
      "execution_count": 6,
      "metadata": {
        "id": "Z_57VMUDpGrj"
      },
      "outputs": [
        {
          "data": {
            "text/html": [
              "<video width=\"320\" height=\"240\" controls autoplay>\n",
              "  <source type=\"video/mp4\" src=\"data:video/mp4;base64,AAAAIGZ0eXBNNFYgAAACAE00ViBpc29taXNvMmF2YzEAAAAIZnJlZQAAZJRtZGF0AAACrgYF//+q\n",
              "3EXpvebZSLeWLNgg2SPu73gyNjQgLSBjb3JlIDE2NCByMzA5NSBiYWVlNDAwIC0gSC4yNjQvTVBF\n",
              "Ry00IEFWQyBjb2RlYyAtIENvcHlsZWZ0IDIwMDMtMjAyMiAtIGh0dHA6Ly93d3cudmlkZW9sYW4u\n",
              "b3JnL3gyNjQuaHRtbCAtIG9wdGlvbnM6IGNhYmFjPTEgcmVmPTMgZGVibG9jaz0xOjA6MCBhbmFs\n",
              "eXNlPTB4MzoweDExMyBtZT1oZXggc3VibWU9NyBwc3k9MSBwc3lfcmQ9MS4wMDowLjAwIG1peGVk\n",
              "X3JlZj0xIG1lX3JhbmdlPTE2IGNocm9tYV9tZT0xIHRyZWxsaXM9MSA4eDhkY3Q9MSBjcW09MCBk\n",
              "ZWFkem9uZT0yMSwxMSBmYXN0X3Bza2lwPTEgY2hyb21hX3FwX29mZnNldD0tMiB0aHJlYWRzPTcg\n",
              "bG9va2FoZWFkX3RocmVhZHM9MSBzbGljZWRfdGhyZWFkcz0wIG5yPTAgZGVjaW1hdGU9MSBpbnRl\n",
              "cmxhY2VkPTAgYmx1cmF5X2NvbXBhdD0wIGNvbnN0cmFpbmVkX2ludHJhPTAgYmZyYW1lcz0zIGJf\n",
              "cHlyYW1pZD0yIGJfYWRhcHQ9MSBiX2JpYXM9MCBkaXJlY3Q9MSB3ZWlnaHRiPTEgb3Blbl9nb3A9\n",
              "MCB3ZWlnaHRwPTIga2V5aW50PTI1MCBrZXlpbnRfbWluPTI1IHNjZW5lY3V0PTQwIGludHJhX3Jl\n",
              "ZnJlc2g9MCByY19sb29rYWhlYWQ9NDAgcmM9Y3JmIG1idHJlZT0xIGNyZj0yMy4wIHFjb21wPTAu\n",
              "NjAgcXBtaW49MCBxcG1heD02OSBxcHN0ZXA9NCBpcF9yYXRpbz0xLjQwIGFxPTE6MS4wMACAAAAG\n",
              "W2WIhAAz//727L4FNhTIUJcRLMXaSnA+KqSAgHc0wAAHFuWITtf+897PgGnBIxLT4G76Bvj7Mn34\n",
              "wNsPfuzp+i088FybiiCC+wRKqWlTJUd5s4FoeGs6qLIiS4wNKuEWH3tLSpcp8XYIHVrhukGaRoVC\n",
              "SvwMqKxskacDfbXMY3Rp47ZN/HJ0ttb//4RMjvB7u/1q+IOmkdVN3aIdrBujO+ZwCK5z9eO98Oqv\n",
              "y4jrEK526WqO6n604pKVvTl+3roCDWS4h4uJ+srsxbJmPYtgx93qAkP4TGuP2Nvpu/nYKfnoU5yP\n",
              "0Uetd5ZNhH686TUsTWb387tpL3GXfnb0+ICeea/uul59ROmEE+2mE17e2KGdLJ7Fm47TjSH5DK+J\n",
              "esoruJoxQvQcjh2uuJKfSDWfKtEq4w4UiGuiwTlD+oNCJTCq/Q7EHlwszYurYZSd/i9ByC/FYpOy\n",
              "uPh3IDN+GSS6WOE+MiOGnjKuwtfcVipoDuGwF/zHM8XKjzioXdSqDq3fElpiNDBGuK+YEmZGU8it\n",
              "ZYci5ujGZsaP+7cBAMu++zeHhCvdmYhxw181Ms6rL1WwNDMjlSn0XCslNXkhZ9vBy5bN9xSEoWac\n",
              "lsN14p8Qo6BNfd+OWfl1BHvT6x+mU8XSa2u1aBGW1MmcJj3YyUXkEW8V+rQd6wLrr+AU9PAfmcds\n",
              "ndt079vP0kx6HRrfKeEMSXeUTCm8Kf3ClCXs/xt3FLakIwGydyL3SBFnRA6PNWsO9h24ZluVovuw\n",
              "uAs0jFobbn+6RkQR9LwbWlNGf7gDfmiPrLSGEwpBcV/oKb+08UYCyD9nZgc5QZYY2XlOj+IBZNbz\n",
              "TOZ9vfyklvq86Lvtr9iFvrPLiL5+sJC9OIZVcinPdhHLLVpsG8zXZnoe8W6lFP6R7kzill8oB3Dg\n",
              "TE8PKX2l7WasFfmxpLAeg9Z0F6rg431+NopaDK9dBh+AOc0dD+3mh8rx2kei+LCk1UV9MWTX9oXm\n",
              "6HR+r9bhFBzvsXfvoIagkEsx/E0EEbhWCPyZVyqqMp0geCIhWmT+31B/N/Fl3cMyD1M3aId+UPTj\n",
              "24HRm7DKDdyA1Sev0JgCXD5VTOQrzFIDHz5qhc+IVpnoZChfhM/isJ5Nt2gIwCU5YZSiLQ7GE3t9\n",
              "+8DjfO7/dUPlxayL1oVZI06TFJvAWG9rsKZI3PaQSqZCbcziYUazTe2goQdETMwb1tlRfN2+Re9Q\n",
              "E9JwufQ8SpLY4J/hHu24QOP2/NsgoqPPTByO13xlBQ2PqXo5/5pZ/lvx3fFifjDmEbsTfizMwmxr\n",
              "I7LzCxXw2RLbKbRrVl6P4Gxc+Y0uZORP4SIG4eyDNR3OfScnpnKZ5cjZuleK4uU+GB+835l60P8f\n",
              "BjtxQHJdg18LosQFSGYHzQuWxZG48w3CRInQEkky3z9XiP29020yizl/mBIqhxdO8jFGYknIX8zf\n",
              "phPINgqbuZhN5AQAzthfeY0Gk8bMJXk8kwuOVCbNUA6BRarIEwof9wLrdBXgV/BCJaR6fbOLjizj\n",
              "XP2DfCi3izPo0kAEBoUSX+HxCcYRpPI9Z6UfwDE0BqtQq1ldfIu3cprZJiDIhMSiv8RSnN2cLkAg\n",
              "HngvNKBODDW0EeP9Ct9saKPRGIU5HItS/cQwacDtvExVwn010UPp30e7bqzQZJQX6d7ZOfv/6Dw9\n",
              "uOKQMijGGqoj8BzlMA3Dc+yOUtCzAYZE3Uegikslnp84UmH14+rUL2a9hsMwWrE2ThaLxZijrMUi\n",
              "tVGYy7VW7ceK1k5HF1ld8iYFRfzpehR0XqOGVTx4JQpakjJzo0kt2742FX/k6t19i7sgdePtKAi+\n",
              "QlL4+W9akT8N1dtqer/cxUG1+bvg5aa+U6KI2sFkyF6oFqCBUYBgEpnVh3JtFicIjWrWBj9j9ULM\n",
              "MB1KN+Ytm17nWONO54x47hPTK8kxDaQcANw920DXEz64IOOLKKMJGk8z4yZ5aBRE38BZPgFaBPqg\n",
              "qpIgZrN/s48AEPJwI1qTqo+T0bd+UcE7Ns7uFympDUvBOauLJosY/xBUvj84nWTl/Je5IFgatOkP\n",
              "wP4r5QOUYCVtFenUPgmTSPKp3Iby/S4aKLjCp0sD+YPMrxVHRNTg14aXFqbkBwcd7XrHQ3abs1Us\n",
              "LKmSGJBcAnGIsOmaC6yZdnkNDOP+ZwALIDvRYKAAAz8AAAGlQZojbEM//p4QDX8WJg32ryhhP1EG\n",
              "irEMTqrMrHDJoACbklVbnYHT1o4oTOEco/fNdY9DN27PUckN/4YPq1sPXKNLg5dJwVJtiMoJqQ0N\n",
              "AH4gD4VTMC0kz7qnJs8QCX7Jsp8IN2Y/PS4hrsCwxveeerWBCHtcStjmP2BbIe/qQgEC7uIIrtll\n",
              "xmxoitzw2/jJiJcpMYG4HWBBcFxr6SJT1os1g8+yiX7xKvxnL/56ilsR0VLWVlgrdGOqAHKyxobK\n",
              "7+FKqN5onbKa57JCvFok0rQRH4t4RwbF6BIqPfPmUc+e2x0f+6iRZziu1U+VbWOFt7q1ykFOGvxh\n",
              "HrBVysOvsVoAJadFjMB68FPIZgAOfZx/NNBIWqhacBXCADyA2Zf2WZLIVYU7urzrDOvGWRLQdGQM\n",
              "1R6EnVufNLFO4ehcj5jkogOhX5TIsDPktmtZu3UYX9DwnBICgYMpxotb/DDTKmxffA5s8vRtFnod\n",
              "ipo0jPUeTX416BFvH4+xG+ebYxOGPdkjWhM7EHbIExy1PZaCK4rxC4O1Du762RZ1ZBGW8WyPx5Cq\n",
              "IQAAAIZBnkF4hX8Bx0CwD5znSUGKL2S+VJfUvffCBJ6bnhOEmrXFX3Vda3obVEtF6RhybK1rWGZS\n",
              "2zt3pg4iCjc0Mpt34FSR5mrRA5Bq/lU9dCz680TVhsO3r31zY+EN+abIsTFuKwT5Fn9rnLz5JvMO\n",
              "ZYCc+7NFK+CVOmmfCjJAeaALcb5tZkgSgQAAALMBnmJqQn8CSRGNxoGhF2UU17e3jMAALKRubEcR\n",
              "6ElSTTcfScv6MGYT+G9FpVTrie/f0eGqQihXBA/0vQhC1vhriPQOyStt8A8oKL760EgyEcII+fau\n",
              "vfbiwY1GGc4z0k2QvXVidG17i3u1evJlxNThmWgU0L9mcEghfTyew//zEWbDyHjyXM3O95oWqPrK\n",
              "hqqu7xSRR8EFuKiIgpXijS2mc8Ed6hHk95jVtQn9PaVRPOTomAAAAW9BmmRJqEFomUwIZ//+nhAF\n",
              "FXaPeVCvQHadX93oyudwnV5fiEmmwsLmjGNFwSAEikhDPzWDiolyz5viOqDQkOeKbPVJvqohmZWs\n",
              "71ckc9hRuVPmywemfDaLScwXV3XjMqb2VyfJCdtzN2Q8ncUvALp9dJm5ZudRm972no3s7YuaKA3A\n",
              "z1C9VctGO637ti/PKq5pq+w8gm6htW+dcRZ9Z1urlcCxBERpzx8wPgxfOzXVFmZ8U8SVkHREwnus\n",
              "4ZocXY9MxBN2pYycKNqxEYSiM2H4S5ZU3rIaSCzjeCsS2HlLp0BkFKr+rpFa9Nsx9P9yIv6TEFEs\n",
              "mSZKnypY25x7yqA9jaO3k9T0DXIvODj5KiH30rgb92KAe9zqYRRV33GO1lEt4dggY57xlkQZM890\n",
              "QbelK6yocUmOr0XYk2vvgnSeapYKF1EvK1ZRe/Lmf5cRg6yjlpTP+G6xgEMV3uWxj7ariTpziDtm\n",
              "lUkEyjqukW0hAAAB3UGahUnhClJlMCGf/p4QBR/Y0ZqWRfvMBW3nHgDR84AGbt3h3tP8yZAV1i5i\n",
              "9GkvMbtuHJRAl9XbnwwSni3pth7VtKaTO2018cC4JdVJr3Gsgj+9WqwhR+H4C2mRaLhhrCNGPZ3r\n",
              "hEZo5r5V31ARYzsPIkyV3pi9padWw+AnzlH4NII0x7MTAewz+kZqiUZuzpZARxehEzxUeC/nNcCs\n",
              "nDhb8sO9mIXC3XT8ne5qVOWUTvUkvrhtr6FFxQ6UV8dGUY8efNbRSB4wc1cNiBC/5Ej37xjsE2UM\n",
              "FgepvgtTobNJjPrTRI/6lXwZGhoXLvQF5a0SUuKYvKU9uRBuPFrWzhw5HUPBYEGv4hdK4QXLYLzx\n",
              "6D5oYGpCwPFj1yyXYdresLrgtswm8V+7RL+wiOPJmQzJbke6Q89QkMZDQ1U8vo1poSDr21HPf0Oj\n",
              "YJQdAmkMqYnk+BxZ+A3T5p7ktpI1Q0v1+QbK9qzDR9XkHbx1+7z1zjdbUeET6y813frUT2qVQTHk\n",
              "chUgrs6KIriNUFP/Qjw7qxvHe1QBJBeTg31moVdy8y1BiR/iu2IkjFjwNHWYtvj5fae/+N98warM\n",
              "oNGVeRmbY/r+AldyaIehHITcxRVrR0HhHkVA2Zj6fjm2YQAAAyJBmqhJ4Q6JlMCF//6MsAUP1u25\n",
              "BlvmICNsl5QyxfXyKnpYg0JvDLvrUGOl8ucWrrAAXg7IaGuFydlE/9R/fTfobyW4r+2qTaB9oUiO\n",
              "/q7Q4Nzy+P+4IpWvuqUetN57ojaoyKrx2548JnTAy0G4vmfg/UGir7Q6Bfi5jYn5kHg+HZL8VZAt\n",
              "RwnUtt7zG/327WecH+Vy2R490yuNh3a07jEBeCw9r6mvT5jFI9LQYQ4LV7Ob55K7nxogq5n4HmmT\n",
              "Nltd9jXCSE7jBq35bKCdsbv6cojkq3faTXT62960yn7c25gRQ0+mAVU23Ucybroc7n9Y7cU3bn1m\n",
              "WnlM6nOq64yULZwqu09CKeneFDcpkdBKarKb0Jc/hwqYzo8g+K3oGhXJVM5wXvu7iqg5N4t5nvBY\n",
              "3Y57dyvZQJIKjbnaYJV1GlsaFqMU4oWwNPyJfx71lYqPzhXdlDFvzQtHWpiQNc7TH/a5a4C3a64c\n",
              "7kYeDtVd3rEx5HwrD2cg8kTFqEmzIHfrEqt7XCWCcBVKeniqYSFx9pFgqEtio58iMn0VDEcNj/8P\n",
              "oe6Vc1bAfkdgRb1yACau8SJV4SWsVUQjfvNA4qk7uNwa9wNFNsxg6W3s9WVtIbwXdmq7SSHTTWxP\n",
              "2w0gMZGfYBna4xNYnnRYh5bJjIb5wxsoPrHFWj7EiJXSnPV/UglPIGVt+1XmwS6Ua5piGtchNAG1\n",
              "I+XK5E4EjahuYcKQ9cYDJv2dRMMubxhoNkCPJ+liwRKnk8qFeveXxFikWTB/ozhpkgjH2cmL31L7\n",
              "DAbSwA1ybhDEvKdey/UfUKtHzEum437EQyCFWnLsXjebMpkvpdl4upmBxLHNqh6Z4gc3hLNvyzlV\n",
              "rNUo+vOFKyP0o/XAdUoemVDfgapiAyknaxdpnCCmW6mLCNNmIvmlumxjbpIbl3+ljKfGWrxy1aJT\n",
              "ZSZXYBqUW7Bq85E924PaiPjJ7c2rCQrQRHUo7zkpr/Agohq79iAK+30zCEENIBSi7gEavyf7V+2L\n",
              "uwqBUIa6FMb47qlb52g82roOm8AEw/+50oJkfNCIV6R6+Pbt+3LpkQzPAAABrkGexkURPCv/AQaQ\n",
              "ntktrIAbWFf+QI1waQljZ7ZjROLMnHtVciDHjDHwquzEAJYQb7v2CgY5G04+pqs6VRThzzaYIYnM\n",
              "QPgKk6YoOkxvkkEF1fMPRqseyLCEV0k9itlxjcCHmbPT6UFHwbymBxupNXyylMvVcyW2lZAKCX5Y\n",
              "MbgWSQVO4TCy9R8glork64HnNVyml2+qVVwED42DmmIjUr2SnOorAo3j88CtBlLEf/NJJqcSJ/sE\n",
              "HKFKbeFas5jfI5T51c29zRS5CIfuB93gpSrEIXNe2Q/8MTkUumbJAW2UfgKeybuA8Cw/7hBJZppQ\n",
              "1SR8uOTV2sSe5tLZqKq4jVZ3MBHjM+KVgOUBrxIgVZsvoSfXc3HCL5HR+n/XTvXlZ7H3/+Rnk3eY\n",
              "GRwWWbjxoeeHTdJ/yttaYoAPTz8Jp4TKGKunEf635wtfadbzOFsLf1GL0MrxUH85clyT5XVT9bYV\n",
              "30PS6wOnNb2QCXqvpV3h59yNh1+DTanqn+a4MPhdkjipDrUYbTIgttu9pGYgH3LAmBKzTZwAh98K\n",
              "zSlOX0S/Hz7sDlHz/rgvCXfEl0EAAAEpAZ7nakJ/AM4JwhEcsc4ofi32SVzcvTm0jaepSIgBZBTv\n",
              "KldhmzWF1lKigC5vSv6JKEziTkSUm0tr4I5Pzn2BmIx0KmpqTbEQC2ZD/ms1PQrRfxVLj+5m0Y1L\n",
              "+yg8DeJ7YnFoQ2PYKCSPvsaYK3UMU0f3UjDZ8fSu/l6f5Fz776ewYO+E+sS2ApRi/x2pifJW2SO3\n",
              "Ff4FDSvKti0QhcitLPWT+G9C9RhsJK8YsDADAtmlp/ZrgPWEEgU8VxqDlRcDXwwuBN9dZYNaqenv\n",
              "OkIF6x4FxP9zcmmTz3SfUX5Q+poquOhMh85dmLhEZKE39hBuaIALR6xm5TXd2uQ1vXzWrcT338Rg\n",
              "PbfltXm+jpTjKfZjIEmmZzQsZrUPGECrEtXzgYYQJGaWTmhRAAAB70Ga6UmoQWiZTAhX//44QAbH\n",
              "f+lChnLZxTA5L4Bt+U2XgdNMy/1neXTvy//xsLG0Wwv1Jv7/9/rfPgMDacMLqARObURqU10iRXzi\n",
              "XYNTPrNvTYElLAEkJRdI+gTyL7lPTDf4C+Zc6Bzv97GsjbmnLuc2cpdZy+I8tbQFAdL+lejHOS6G\n",
              "naSXV70QjFos0dE5uHpGCD+UcYdd/vRsG28tx0Rr0N9n2+cyrlZkvtdUyVn6YYO9y4XskCxNgGKl\n",
              "ax6+HjkJVGGEKmwYfaqGwF7mdLtylDN2x8wS9KKb7nrhWubly/OxtxlmmIjbznh93ZWnbi4EWHJv\n",
              "LJyu2egy6DXLQNHWKnbT5yGay4v1aAQ9yNIv/jiBJs3H+NLV+0Xs6fw3gPLvShIey0V4/bdjWmiF\n",
              "GNNKUAj8lbrs6sgNgmiHaJyr+IWqAIdCpHEuyDN0/G+CsGOrBpfjiODZQn740jyrwhm0sarilspz\n",
              "W50gkgjb7FqWVMc27TH5U5ajY9SRu93fbC/xNxBZJrQffYPVD4/VVLW+zRXDCP2E+sAQHYznJe+v\n",
              "1y9WHyn/qfPEHKczdiNbmnoxszh60IPAvliFSmc5VQg4hSmfT4qW6HP2rmZ4464i2i3yoTZ9/SNy\n",
              "6N7cqwlis3+uDywvtc7MkAoktBto2AAAArtBmwxJ4QpSZTAhP/3xAA/vpu7Dc5mCsTrXGuP3+i7g\n",
              "oMHYE76joDdgnnZeF1cEdSD9YniJMU5x5Nqp0o1eurVsJSHWwbfRYzk5m1Ka3JdBOsX0YYp8Oewx\n",
              "q36puncs7CoO6QNext8opPzrH8JzYWEL5MYHygI6uebRAaZOj4TaW2i6Fjw22dnIBhub2WF4BeIa\n",
              "wWL+FXTQqrcuYCni0Rrmqs+iTKVGAGC1hC5OjDCY6sKqiZ5U0AxN6NiUzuHJF6HAEhrsqI7+1iRO\n",
              "k91A9QsCDblSP5TtbWEYAyeia6tldwCEsGCFIP/gQHuw4MF3mBWbR5gSlPdPgz6MaAOJiIfbT46b\n",
              "RWbZ7EoTx/VmQkTXSoBgYlo9fLg4iiYb2+1qwak9Eeid8ogK6HdSmDH8gBIutx3WfpCfpyYXki1Z\n",
              "pa1RkFRAAWTMVLW1NpP9O2ijSz3byOwlzoVGIi42+vvODiCAbr2YdsMdZUivcZMgyzq1QFGKPZDF\n",
              "9YzSlai/YswZuFXuh5nw9dEvYp4TPtiTAMlm2TucYA7DiAMMQ9lLyGQIJG3Y3NLv/MNX6PHXhu6r\n",
              "0r8KYnGa7+7K69HSrIgfYxAAO6ik04ZHPNbSfJBtrUZxdkLkpB3JtaNd4WzOL011RhoEKddoGtP3\n",
              "CjtNrOFuzRjn0zXdvAWGUU2pfUnTSmaXGVFxdnsnD02AG62Y3IiquZNsNkcDKnXaVVWSMwNuFnHl\n",
              "ke+rou2eS9E9WkvZMgPSsuywMJPHi0l1E+sVK3KHkk/A6DkgsaKcW32HFf2dpMiELgQAOsBN/pZP\n",
              "BZTu6gfDhAANqpbvNJURnFFXZTdweIwQlFAygRzhdbhwnd7zamXrjlVSdWT0cGatn7EAhACC32Z6\n",
              "yoH1DIF4AsmmEYXu9GVdNTyvcAJP4qG8Gcj85j42R0hJm9AoP6yr3GEAAAIUQZ8qRTRMJ/8AdAJv\n",
              "m/KGEfZg+4TIAOJiCnKALkeNy/V/5uSaq2nyRmxYKwUKKMQr8FPcYb5NQZltNr+D8/MZAxdsC02x\n",
              "fYMfr9IRz110/DA+ShCiAkDfJ4IRGHLJ4st3cTlptyazC4zFWCLcYcXOjCYc73u1FXhx/Ue8vXnP\n",
              "TqF+sud04gnKSC0jz6Ubwz9qS6vc/ef5oJu/ln1nIyw2S8+UwzYij0atlVNssM8eLM1J6OwfsED7\n",
              "OxVHaOX7Iur7qbYk6ViycU+g8j6ssMbSLtca3SDVQXz0b5bELDWE0eyQRg76RR2dG5ozm2OAunWA\n",
              "ayfenqiucbWf0Q7slYtd60kgEJ6xpR5xGVqW/NoJ2dH3ht6Lr1eefAL+QjERNdl0AVfbGcaDPhak\n",
              "fxlmHiZrtlQM3aqqyLdjxf3bmZ/AVLFLU/fzA6RbeSaA8Qx7YKMygxGj2XMaB/cqHld4ouKtBOzZ\n",
              "/IgvMf1zNY7D7TXlJUjpmhxCAGJS3LUC3Xt4h3he55oLNSC1qTW1LcthwzoWY/Kb8I2aGdoXHzsM\n",
              "rgQ8tg4JFhpNxMrNsBUFnhDbEoH0iYuU8nz/n9mRE0fyZucoiVE3dA+KjRvvHW3M4a6YuxvlS8A+\n",
              "3YBPzqrKxB7+7EkDcSj9lpFZ1xScJgmkCPGD4uH6RGGlJ6EDJ6yarjDxnpIWRHOLFCA81eS33ZRk\n",
              "vXghAerBwAAAAekBn0tqQn8AR2K4qlYYn8k6ACgrMgHQql4UmCgz5YiTiMd0R4zq0stJfKv1lvvp\n",
              "MoGRHXw7pjNzLC7Qf8W9YE9d7+VAZvT6fdUm1XRcDckiAJI3wZ9iAgy7hkvCeGyZ4ervpZean/ED\n",
              "ST9/UtIig5U2OwcrzKMdpFryAOHEcBWW5DDn3DGsislUXUwUugaK5GkxReTtzQd6Kjuz/l1rYOBp\n",
              "0VjVcDeeUm6COKPK+PavYLrQtGgYIV6i0ymz+QOfoJpmc0tW2uzT4cjFil2a7PoEWvEQMsWsCBjy\n",
              "+rsjqFwkG1qJD+0Ydanpa98NCGay64VaWBuXcSaVfDCzIWZmOf8FpS5X3CKjoCYQbClyOc2DCtfW\n",
              "xI/p2RvuQv9fjqnRSZCDUq6LlJB2U8qZO0pIZZFR+ENzvAYOgKG8pZbMnXBa9vWiaRH03Z0IqjkC\n",
              "OMn3QB+SmRo+p1I4ws+q5+lwgIlZWiBxO1VnzZJKvxg7Brx06uWtxk+G1vbZqKjlFuY9H32QLpJt\n",
              "5QKMkTbLX7FMMSKopDfAHqwc2mbThIlKA4Z6ocP5ieWT86VT0Fsnda1+DNCFJBB0bp4x3RNn8iBw\n",
              "eI01fdMtOn801zBqnW8ho+rYFg4UQwtnNmdDUnyFARxEQasuuAqAQ1qk204AAAHNQZtNSahBaJlM\n",
              "CE///fEAA7npuXzUBAIjs+PYAiENCxbJmD/10xZcA1456qBnTopESxpLKmjxiDCpyfJFqVoL//05\n",
              "j+JUwJxGZVdr4FYCPGN2G2T3n2PylNjW5Qr0PIYZ/jgAvgCt7YJhWZbnCm+IBtk+eB01P1XDNSrD\n",
              "B5yMmkhatUyAJo21hYwl08gJ9hUoaCOuUeS3+Uubcpfm7XaktlifZ5ITdYLpkBbC3QyLEenPwXuX\n",
              "vKLqj0VZRQcU/DMgq1rU7IbdgvuFYnEtZ2/5knGR0UJ9rQCWvSohc+HCrZfqRsmQ9MlzpsIEhurE\n",
              "otT5O9O9nioZ5rzyv+tuzKaaLRsEam9SQMZPtjL2pYkpj731GwHDWACpBGG3CKjpFuktlTA5uwFJ\n",
              "KsZr+uZ8d6rondwScHZnHjV1hGx+DiXl41lQvOB/QXXmq2uE2wN+Fh0YLB/AnoBH/lFeLVlSsPiP\n",
              "B71vcLAVitd6j47R0gU9I18rrnIfaa4837O2ChkgQwPK9TBcQVW42Pfmwa520IJj3ejizXoPFuMc\n",
              "IjW9hMLomq6dGneSTTV7cYgpv7PiQv9X+l5Rj8/SD7LqbP2ZHnq7acj1Ze6+QKaML8TFoeMAAAKo\n",
              "QZtvSeEKUmUwURLCf/3xAAPP6bvPU3A7VNQFBwteLVSAGuTmTQzgghpwPujhuCW2EBMrnxJK4AzJ\n",
              "lzkIHruiA+uQ/n9r0SHVRdXXPz/o/3b3iVf1KH+UbQaxjVSbOyE9TzXy2dZFXzbDlD8Qyh7ZFvBv\n",
              "JRRniyUqiR+6SiryY5OZTpnNy+DOABrx23qYwxcxowZd6iEkbS7+YTcT8YC8hsS+G5iPU9IHUZuM\n",
              "eWWlecRDH/u2pOCkSMMiQmNZnxhagMPVs1bkmdVbXmRX4ZjdJ96+JAngzAL21JPMkL8S+J5XtNMY\n",
              "jElL0PhLC/XgrrZ+XcIuiv9g0/Qd+ZibesaGBJku1y7VE7XIjjlvbU0AR9toiLVbgH+G09O1z49g\n",
              "+5CLIOS2f4bSKiX1As/KF7Vx/TLPyAAY5w3WUbVnziAZstRi0LfI7AnvPih7nFHEPRLyfN4DvZi3\n",
              "hA6NiHOboPprGC+EH2VPJeeScAzRSudEjnZ4449qRU7bZOHprxnCXnIUTgMU/hqdv7TjwOX4Tj5c\n",
              "ZD8n73cXbYACGGHBdSLc0d4vQSnyy8G0iZebN+LiXju1O4iO9MQqszuEfku74Fax/hBC+Ey8ODuv\n",
              "QEbe74sfb/eXrgSycPyh7Ybt2cxASoNBWnF48WpF1M1Rbux3nyGNciEa6ABG3FDWmcnpBlpDUADJ\n",
              "lt4FWAFH8S5jTXZq8f1Dy4a8VgpOuuYEREKSJlx8DOC/9b2+J91vp/SVGOdadrkAiotLYpMm8CWq\n",
              "DJVKUW9m9JMsZ5QL1xISW59wnMlt/K7vhW0C3vI7SJselVV9VuQ6UXzPRnfX+kEmUKzdm3I5dB9Q\n",
              "SIrbnZt+s/Q+k2XskhZ7nniQ7lMH8RyubNn3P/wNz538KueLNHEZHAmUsXcE2K8XCw+ApFMAAAFy\n",
              "AZ+OakJ/ABuhWrEhSzH+Xj1AFVW7m2ouCrBdkbPmaZg7ds91RRtdLTP+0DrVNZkh2kMk51TSIhY1\n",
              "r4vJnwUceytBFh5F/YMOdbXslnzADBdDhXL9gKptjy46CV7aLuzLRpi9yP88TJ51k/iiHbUnHj73\n",
              "dRHbjLsaeFqC5z521pRbOuH+t9wFE2rzvwanoIOrJkBDMnYgvzlykB0pC+ZjCTWH0FzYXAkcraAa\n",
              "/8ZxFiTHJ/OeqRETu7pPO4yJwoCWSazZGdCV39HnLJI1a4zqD9JFz/l4ERQ5OJR8VAc9DdEl7baG\n",
              "4JQf8sgs7mK+umNaYRJ8IlQMYt49UPbX8FVbvL/aaUbykrqQY6DLHJZMaFak0kOeRU8WYzU7Fwfh\n",
              "B0JeDbCwMdyD07KbDk6o9reluOBvK6ROoxqQpNpIXwieT3dXnS4Uhn1Cv5TltZySgGO893pty4Wo\n",
              "9BE6sKXNeGmqpRmDwpa5QvuTFfcpaWabx/ABAwAAApRBm5JJ4Q6JlMCE//3xAARzhNzFKnTgBEpC\n",
              "SXHbYE5T7PHg2FEZTwok4GjexUFD/mY5910FGwPNIJJdry78PxBoHwKv36gfM7uWwbbC9EvJxogc\n",
              "I1yqe4Ts2lzr+0Nr9VMqPlgNkWFO04FLtrEM0ly6aJ8nkyCN0sfNf4cLKmSHqcW33P58DvjWaMXQ\n",
              "KlZDFnALDx/Oa5gqr3w+HK6RpHbCe9oBWF55BbhR3vFxQMD2lt/C6swb6ns+glJKTZoxAI8xU8pb\n",
              "2LrnChCJmIQcc4FOV/pgg/ouF2Y91U+eD7BQqJ46FAUprI+XTvu1v2gQ7ozwIHzc8olW1eZ+g6dv\n",
              "VD+GYLnYeo0TVfJtxyWjnv8AFUUpTxfDLmhqkcqSGmgZ250wdh13OBe9R1vCjsfbVkZu/8Sh+qQ5\n",
              "Jk0CPkU3nTUPEyiaTc8ldYbDH2GeV5goYGLMqoz5tt7tgGWo357VX2Ursz/JiVzCM3XMoBEgTrae\n",
              "MkWAIE35FLS39hlm5Ey/SO5uzDMXuWe+gxBZOjRi9ovy6bEtf59YKYlnaxPqaFECxLfcbi8RqIVZ\n",
              "349hmOB4OF+RY8YA6A0zjlJDq3BtKJvrfW/rbAglMnFVhyaCMNhZ0c6gN+AXaDUKUThqk6tDmhQW\n",
              "sJ8pvMloLA6EMzrwaiGRpGJAjUT89USPpKEGmzAk5pSDlSVugA8ivmFh4pX+jSNXWoWpUUpaastS\n",
              "/yzzlpYxARlA9Q6HXzNAoOhf9XmPjwN6bdE4gjhiL7KSmfWVNL2IH++y+CVdNWgq1CYpE3OJcGfl\n",
              "/kDm3CyRS1jThgh+jRG2MAlMBDvWMNA3QZXtYRJLbF/UI+/vvuuUEzt/jrUB+Ce9yNL1WO1Iwzwx\n",
              "pUV+Cu1v39wAAAFrQZ+wRRU8J/8AH8eAmcv31OCy/CO+jAHIhV7rBrgw0ftXvgFO30kKnSFx/cEK\n",
              "taMqadxlmndzdZEaYUxxRqvVoFe+nNPGIH2On5cZQFwebNVG//iV6JHVRHA24R1tAozHoYJfqZMc\n",
              "IOAQMWJ2GFfTFnFVr10qJopKb3IQxqzjJz6yZcUdMM+QDJepadONDRLwH7WjG9hrtlw8pOCrSAI6\n",
              "RZDXmZijTcH58ufK9k/knUWCrQOBNQomyuMSmoxAY5gLKty96bEYZ68jPaWSJBJx/MmkasR0tpi5\n",
              "/QBKimGo1NickKsglOtCnQmzH4IbHzjLFqvmovjK777+J4v9i/q6zuksdrUaazsYvp714LAiSI3x\n",
              "76zqWFTfIvQ08uD09dSXs2RRx3gqukGzhvwdAt9ZCoLS57QZxb6YhCPIoWRv8D57KtWPXiVPMgZu\n",
              "0TB8zzkzYCGWxggL/9U662FMtgTtWukVzaIRsQnopCZFAAABFgGf0WpCfwA0zwFTBZDd8/UsADNp\n",
              "nXCgOzaFUqUg6TDgD/krfvDIvtBushB4BR6MlfAORUR2/IRiJB31RLkIMxOpbVZ4pc2kkwv8Jrfp\n",
              "YBiP/wkdzwdg0PYBMXUKle45nErOFAqrhGv1bOCceczR/rTp3t+QFMbGCQi+Pr4+rupSAa5HyWlb\n",
              "bUGUiiXcGUSrDNBrgsGo58CK9MgRp42xCDLNbcjn0jSNZoVptWpvqV0cbpfMH48YNvH3x7WzJ5Zm\n",
              "QaQ7a8zkRgLbe35cFoounIUjpNta6Dd+9Yke+f2l0W5lmlflVAHdUFcdYaNCwtJr8tTQbdPs3QHq\n",
              "ubwbBdQfk7ef7k3KR84QBQ+su4k3jry0hYE7o+5hAAABcUGb00moQWiZTAhP//3xAAdvpT1qRgqM\n",
              "S5+YwcACxIJ0gwFhdmIt6QrEce7kgWMHcVR7NCRxXpiRIfHTTGWcXjgZrRlKOuaBdCVOR4jqwPdN\n",
              "M7CdB61md1SNaeF+07cw5wHI/oYP2KWzMH76n8sun+ktksIgwJTvyrb0YXfaubQUpzDV/yQsDpcr\n",
              "n2MuPev2Qc77r73GUpPOx414t+3oDaHc2LJn7JyypG2+kdWyJwlTM+TJluFAEPEDsMdoqkFxT6ME\n",
              "0C+TNzZ1Bzd5mjLzUV+SKrRQlV4gRK3ipY/nim4QEejCTVmoxPNdzDgvbW0RLkJcImePAYtI5App\n",
              "vv0GLPNj7WnTQnvFDOXQhkcyeKN3w7clYfXGQ/bYdynTl8D8y3BD1LAuJUkN0L/9sc9eJDjWSJ7H\n",
              "69BvXCwSiR4MD/3EHCluD4q9YSc+yDvx65BBVVaq94/RvBFM1iq8gX6sTXMN3Dpw1gv2yM8WHeR0\n",
              "zLEsBgAAAh5Bm/dJ4QpSZTAhX/44QAg3EvBMZrwBf4jVn2KCUXys4Yoq1ZdIkwhZnGQn+pwKJFNc\n",
              "/MBdVpSE4fIRXVjy89DVs9pWSnU1q4AMnY7nIUUiBvZ5qcOTwPAhHoYqI7ImENAKNS7gTqr7YRGK\n",
              "zS50JtjGagwjTQXiJwxkQrFFUww1JG6lbvqq5TzKublnaTEN3q/OcrTcm6JDk74EfkXQS4MHAli3\n",
              "+S3s4rWGiDBTKLZLRWOhqXNzrARc3kIFVcmFa2qZ175/Dg29/ophw/kgkcm46t+EPdv8lr6ZTMlU\n",
              "fIY36GrfipUGSLmBS000ibAXNhnSt8s1tcH1sUxSwcjJRygbTG8o8HGEDX4dARytfoLQbeiVy+ST\n",
              "m3LPwEEMIrE6LTIj989P1Lv3EW4SW0i3xb+sKI/PnIBU7dfZ4miyfY+0ElorHpspuJv//N9Hxfq/\n",
              "37gwHtntQYgUL0AFJn5LugKPg0ossVhHI+ENo9OCjgzIVNEVqNeYeqAVb6Jrq4PcfAF2MjzE1DfV\n",
              "LMfzYrj5EyXd0s533Djp4y2dcz4CuVSXi+zhwiaZ35HZ34POGrSyHRvsfjZtMpIFVewedo5bBf7L\n",
              "LdTwZTpTeZcAKf/UiJNItVKmqHQW992f1uV2ANMNATCUDfYVxo6XMwY+wPmut+83ZYiAxR8BRClc\n",
              "X/GFd3D7bCSXxXDaJz4KBxvt1qyzRu0MmseUEnrstMIeYUSuYAAAAR5BnhVFNEwn/wCS7a1O3CK8\n",
              "RPZfhAFBtDnjWSrHop2k7Wrl4q7AcZZEiSb1OrjosvBy12iizD6tLVDYPu/6JHU+/RSunPDFcgN3\n",
              "S7QTglwf9gtndcDTj0ic8D7nGobpzVlR1dDheGTFZOOzcp/LrAnNmFRKpLo3t3LFnXg7CJq1OiRU\n",
              "5rzV0DdX3Ki/uh7UhBWLe49Tu+oQtUDv/7HyEHGuu00hfJja6QrJ1kiIQkXLC+kMP5duPX/pD/Qz\n",
              "iyx6GUYeZHLzsR1XScQ8evDpvKssI0qypkaKgeKfdKMeSZVVK4YhHcx7ijre0MHkOuGNHSqVnlam\n",
              "3xIoj3H8bpQlqOUf0ZIhcfTiL0GTVpVh/sm0w1JD5OoXAe8T44NBuCtzAAAAxAGeNHRCfwBdOjWH\n",
              "ZtHJC5IgAFK0s0X1RNPQ28G1UcCEQPuLaC/EtZZA4NfnNWOpNfyENlnIgRCXffqOA+C15BFFnn3k\n",
              "h5RjuVskkypmeHWqQLuwIN9s+CK9ySuNzxZHzjbEN5Aghfx9kpn+iQI6XId1RtEb54JB7IhAug1z\n",
              "Bt1KSOZ+MmyA46z8W+kVDh3q2qe16/fJFzLNM+4XNdiVJrHl6npMXsmBBrsmjjM5JZh+pO1T8x5N\n",
              "7nRPdFa3829T5KqrN8wAAAC7AZ42akJ/AJLtrU1P9bp5cbRrl60OAAiJYyuOVJlcsPpnLifXxLZe\n",
              "Ce32DixIc4aaOksBUFSjEKL2k1iDMBz/nPTQ/F2eWPHH6XBkaWOq+alfZpA+0Nvpu3QgrnbvKH2m\n",
              "zK42fbvYi8aNPwwShCwt7r0863flKI7WmVvRjugth3gmw1rrFwfoCSn4/PmKBLhFLDXW4N9GCv5r\n",
              "Dx69QpS3+fYfUtb4tH6rzSx88i1sfWomKXCmIFvDUBXEgQAAAmhBmjtJqEFomUwIV//+OEAOfqrg\n",
              "nP47wBRx3k3g6Vo2yrqvGMrJohIffZdTO7HlVBm6zQRz8OXwedm9UxOgGUCzmrmnH/QKQsBSgfZl\n",
              "cjYdTYgQZcURMzuVGtipQBqOsHmFtvN/IfpoHIO0FGhZyzmjed1t90QvwgXKu5ZBQrax0CY1WcQ/\n",
              "sstHJIOtJuCCI60lGcFxP5pQ0ANL9VJzKN74n3xXt97rybuXPZGjxxNP/snw3RcqLZl17oBpqK0N\n",
              "qba5iwXnFdNK4e+tzZ7fH/4KyO+SF3hkc2vL1/8RhWJOzhKwEKhaLw1bMHCwnspngsRfIMsFZXDi\n",
              "PYpSsHJ6RXKC5WJUWRblMtPjS6Jl26RBln9z52zyN+1kHxCULudqsEnTyFlqidPWRRs31hxmMaEO\n",
              "ND3t8k3bSyq1O3g2Pc62HBOk4/IEMXfPpihwIXdFmqRazw7JEhhk//OPRjz5MIKDBh2Od5ATBM2M\n",
              "ZlzQzWx/C2Ipq4NR2I668fVvzvqafBbo4wQWRS445aRv0xLrn/oQoYOQCLTmn3SC9iqqYQTCERPC\n",
              "V80aPhreeSHsny+8sdmRrGSNHXqShKqGJek35WcjN1vkrsG3PxMtgYqvjwYtdv76XQgKSBTObxzL\n",
              "ZdtQ/nbCNLzSSy5BuqrJ2nvsAA2bTgIhGp3FYaEYQm4/ZKswm5/6GvOR+lMWSNnSNy7kAHq6uJYz\n",
              "BqbZAzoIRWQFPOza6Ssd5D3bO33nhSzgx+i8iDD394rB1HDG5mJukbe5XSB5zHJ/aWZX20zFcPEY\n",
              "4AR/MWocXNG9tRqdmRKJSEx2pVSsh5+ZpkhhAAAA7kGeWUURLCv/AMi/ykbXkgXuIdnMb0Abbf1A\n",
              "FyJwYW6ylWgLodUMH/q8jKOoD/ggAFMpPpYCTkW3QcftglAOkmDrSfv5nyTwX17vfCV0XR3e9gP/\n",
              "KdVzQ4Q8Z5zLApWaWlWw7kGLzRM6yUu1YWGELOcrhCvrJ0MSf+w7Oe/Yj1+DcZrEXvLj21xlKgev\n",
              "HgXJqQCc8TFrZVpgRGKctTMzYTjlEO3bNzpMEIXEN+LPFLER6E7hAdOeoOeohNS841/TTG8VsqVZ\n",
              "clpgdP/1wNSxrJ6+ZaOM5uYR5p/HJE4KDDnhZwg2UkMpi4HAvekptoAAAACXAZ54dEJ/AJqtOhHk\n",
              "cJx/mH+P1L0FERwp/RIEt/wj5lQAodQXfai7idmQDVSHkJz7ppl1+PItX3EABJrXHNLJznQL0Lks\n",
              "fTeRpsIlNU+ARe6u/z1lZkCuea2UxhNCSuXNZiKa2vM01R1kWm0vnWRw2H5+XG5WT3s0Q2QPGDTN\n",
              "83ux+JSrGaqDQXNDtHeFGjAL3PXR50+XPQAAAGgBnnpqQn8A/kKwz2eBvSGpa7qRzxZLvOgCF/+c\n",
              "oQfcGy/OZXQGb84llaKCtE744iI0dW7C9i3kYMTVRt0joicdBE1Xhx9Kt6lciiBbn3Z4Sv2ogYAB\n",
              "G+17a1tKxQvzKMQa6BAZwbHUQAAAAHxBmn9JqEFsmUwIT//98QAjvEKJe2SCRU9HcDTre+JKP+bs\n",
              "V9nwQt6V7CNOhEDGoHrMqNYTmTqJ69TbxcqKgbHrbjS9SxIOGJh///RaNydxYF03NPhRYiCHWsaf\n",
              "KLqDFd+V+TVx5QRBQY4aIoOR3szajlvbIHlnVaDL6LFBAAAAqEGenUUVLCv/AMiykMBdUqYBPi/A\n",
              "EMz/ZJvCiZsyAKgL+wfvH5TFzfYV1enJ/WO7s/NNoOUhpPpzlwdyT/ZLyVqbD/sVnliF75EdQe4P\n",
              "9V9TD/pa3Rf9HAYGJKGJmGFlE14irbmwdhEfctw5wK2qyu/wWNkxvcXN98U70mXIoGD4iYR1P5m+\n",
              "8yjx/cAbwUXBR0zhLCzP7A3zObyRWb+9Q16iSfHqSqZo+wAAAEkBnrx0Qn8A/dj2EmGB3vaqRRKD\n",
              "9hKjITh7kZgM00O1QBFX4nl1N467CTe6NYBbhtugUUfLsgRj7LVfwtynQwkX0XeBnvfqx+zUAAAA\n",
              "TgGevmpCfwD+L+SRvCmiMiBgKtyivSdU0UbuFVKkerVTSb67bQW/R5k9D+BoGwYI9rqr+yWdvTEP\n",
              "kwGYs7rALjQA2ofRqfZrFQOJv0dzIAAAAWdBmqJJqEFsmUwIT//98QAj/wC+8zDGXg8RmZzFxogD\n",
              "2DGMuTJ64iX7kxF1YGIAmfz/dMKUpkz48nI4wqavjpS17VGvLyiJBVoMv5dbopTf7c1ZUH/elTTg\n",
              "vmn6lbLdRxsN6ndy7fLOON/CLQdDX3oiQcJ1hvWAi4LOg7d6+YCVo4EWIRCCmSgJhqqSLECKxSf8\n",
              "GTKvn2wnblHQnGpKqFulTdh+se0eE4F887mKXRkwbtaxAbJ+FyOznCuxme5xM+XQ2qtUnDVs0cIT\n",
              "1++qbUGffzYEdq/iE1z/dr2jWfQw82PS4v9GPWocE6JRz47g09kJTR8dMG3Gtos5mxJDfFd34Utx\n",
              "80c/t93UA+A8K8tcLjHt4toYeV13+9C0X6X0dvwXRUEbNs7jYNUopfrWv/dfbLthcS7zg6xsqp2u\n",
              "wJq36cXArBGNO/8CwDJ3Q7WqnDnNzhlBV5w4zTZSB5w8g8e2CvUQEODi4QAAAKpBnsBFFSwn/wD+\n",
              "Fq5fnEUt5PYDn8rbnO6od2yi747SPT+AAqwUCmHQZHGRQrcRP7wv2XRijLkWvnFqw6atyjwmbbnK\n",
              "Cy5pP4Zi1NKZsPM0TLr0F1u4X9TcY5CN5Y4k3xjhnG7X3TCQqLlSNPK74prDPJoZD83B3vA4fDO2\n",
              "kNpAXjdMzmT15PK5bbejfY7Madb3K2GgzoBuMOkpQ3L6VFxr8whkPoRCsqLxwAAAAIUBnuFqQn8A\n",
              "7byHWKNQrZHXRc07wAV8Kdd5mpP1JEC1N7UluWoJCKVH5Fono4xi2PxMdL/rTFTZJqD55bdZHJNY\n",
              "Ofty0L792W9sAREmlOJZBYNvbR5i3MxxFovmtZlvrQ/t/+y1RVGPqapZDttQqBD1c4BijksHc1ga\n",
              "ZwGUaUOTUqq0jmHBAAABtUGa5UmoQWyZTAhP//3xABWvYh95EYL9uiIuEIb3CJcew1cLEEFD5pq2\n",
              "HL7a2Ns0b5VQ6gQFoOvXWA2LBpGK4cZeTZDVsH0MUprECT2NYV11sBRQWplJBGkapNJBm778bkII\n",
              "SFR7TW1630G3xiqQKwviw3MiKNWwDb94uENQxK/IiAKGDGYOdzLCf97BAuVL+w5I/V64YscGdH5j\n",
              "agsmskrTUn2UqMs97cCVkzKBcQ0s4AGVRdxD18FUQaUvpKqRIUsVEU3iFd9pp3cL5sAFp6f3K6H2\n",
              "1uSkDOMvE+cIe8tNONIwvVLY2mUQ+wMIkda8mHaAt437R8BdKQRo8Wlqej5qRPdGfsuvwyoxaOYi\n",
              "TiT0kw8wrv/YV0vjzQzhgKinBpmcM62rdZVtJUS+2cjDUfXuOIVwp6FTiSvBXMjnFPHEb35r9KRF\n",
              "WyhQxy/zh1m18S4YXKRJ+9+8XqNTvvAsvXzxZu1475Ab4cWWy2k3sdPgCYItZ3ckBwD9EPCaTWA6\n",
              "Kh61t5Bq5+GDusZ0vtFWMrvZecpea8LqJx6eFCLfJlpJDGH5zywKqY1a4C19E66vvSforZGIAAAA\n",
              "10GfA0UVLCv/ALpybTWFhDPc6vX3hJiGSBJAECDgr8u+T6v+m0lPAPSvOm9+Thd9uw9USF7rbe/T\n",
              "svpP1AkSYLFi1za8BjmjEd9mRtJt7yKeUwQjdWoBg0uStKXvVOwQAhVp+HOJfHKviYxiJ94GRiHk\n",
              "QFhsehl0OZOB/4WoWgQpbTE6Mt6xoyS7VhJZqsHHAYk2OdUU8zED+SWSQlwdcfiM/hM6RBrFZ4ro\n",
              "W6I9k5gQzOTK0UT1SaPqmGMbMmas2xv4lgVi3QbYg+MiiuQ8q/v/VXhxfyG9AAAApwGfJGpCfwDt\n",
              "vIT6JuuZUuEcf/EAbDULQuPl7VkaeI3q2LpNX567fAkpa29o6NJPgPTEySI8h6+72DScUPXX2Xxu\n",
              "m0UhRT0bX9esimL8JwfNJB7ilgQHFt4jWUTWB44US9h5cbplYP2D1MjXf1kHFii640NSQCqJLCdY\n",
              "6WrgsK9iwJaKQ/YK/CdnXgX19GbIYWguhDtKcztOwcN2pCihPLIylAUvI9DxAAACd0GbKUmoQWyZ\n",
              "TAhX//44QAUj2tlrbUqO8ufkhryyoW6O3LQgE17u3OdqWwYYQohqkeiO5TW+0OjCsrszeyhtrJuG\n",
              "428hKCfgNQbWZKTHa+sxqM2d76K0wAgP0OBvndYHqkyw29hq0ZZHcAHMdEHuV8ydBghnd4+QnO/B\n",
              "Y2tXvWwyIXlx/0E3+XH/nKdLnQXa1YlscQXkj1fsWEvgQ32fnYIENGgo4BJmFrwYfrDCLvG6XL4V\n",
              "H5c9K3r6MMSFGICGRRDKbqqByTdmFlimorojMs16A3SOOXJ3OTZ+pnvxENynS8+38bdYPbefPl1R\n",
              "ib+5mZD1me46zyrbZkWY88HV40IKS9HZDF864Rrp4DwViOL8r6s+o4TY+GqeebXx4hA2lUDkl05d\n",
              "uCquAljM6GvfEN7FaYGnHK8ZxOnAsBG1TEVzBmuXKq5yXk8MIdJQcldM6ZA2X0bNglavuKPg6hd9\n",
              "FY4if9geVaoir3yckm0Tkpez/JCF4Rx4X5/iTX18O+HwEarIZYUBafdO/rDTJbDz/QVq8nTec0b6\n",
              "9u5eL/lvjXpVilpHdS3qvYgKzbIjIlRWz66g6jEJaVzt4qfQwFtGmd37LLiBJK1O6WHyZu6Lxnse\n",
              "tBRjnrQEkpGk/ILIvZNwtY9R5r+Jse+uZjzCEEoldT+LtP+2CtvmMnEQHuMKPj2HUd1BgkZ0TP17\n",
              "LwmDlVan9x3qlt9edNe7COfbSkQjjkJg9UKlm1apPcicD8ri8klDEgEtLOEV0z3taxHm68D/wv1Q\n",
              "sMjZNlCl/ljS0JGAliCrRcuYqGWX+I+sudsSsmxxe7uqa5txAzMG38tWvxf+RDH2MrcDz70AAAG9\n",
              "QZ9HRRUsK/8AunJqaMvu07nOK4uNMx6AOUVOwi7UG5AEdeVQ7UdOpOGAkDVu2SggafZ7qYJJCx+G\n",
              "ja2SH1UBEWobsaFk9P7DRQy8ECPrldqAEHUcBRDD4yLz2AC/cKH2xfhUIUnTis4wciPLiSC67SJh\n",
              "2EuLHQs4m1b62h9Md/DgNAd1Q8BL5kMtLTVWscHk32UPzNX/NtON8s/8YlDCoxDOIRuAVL/Es1ai\n",
              "jz3/P7rJEwCer8NjFrOpzl/XtXO8Oz8EbuEJCHQKm8hb0nyb+OZshXinFBg5zYZpVJVFi8Ss+AAq\n",
              "EjONOMRFhfsLQ3pDle6P/pzXp0buZ7nOfafQpgfLRrSW0Ftpw9eJccqQmqlCAtK1OWSwaXVrQb0+\n",
              "wrUS2scxaAbcGR1x1LPXXHZi12dTu1dRDWKqgjIdVY7bPpboEnnp1ARrHsDBiHwucys11j/83XMo\n",
              "Df4AWbsSVFDdPHb2vov0VEPvECc5wxZLdkCU645nerSaUtf2nQnlRnolFivy21TORHi6LAd6kvUN\n",
              "FU1/uCWhDtFXmNpl1CyQ0j1062dctCf+ZptdMkCGfZRb99fDutRmcoVGtsvAUQAAALwBn2Z0Qn8A\n",
              "7WznRHppYoMp1UtSMABCidXPdQ94n0kWdYXOjzSvSKJ1A1xJLJxLq5bBUujw0tk1ssjn5bs4CGHL\n",
              "1kAhRcggguwiALvZaIZ3M5k/Y+ZB3A7z6F3SBjGjry0HhDZxhSmr6YDHv+1FXiBPGIM0Zt5sauRV\n",
              "qZMMHInxV7b/vfUBkQ9QU+q7gmW4mjNN5Xh55+VFdanQhitIkQsep3Y9fleWayD6FUWtgNYu6iUw\n",
              "J7ofEXWMVgsXPAAAAQQBn2hqQn8A7bxzj4ehZsPxHqgATkhQlGNEwY3d50/Agimrn9we52zoa8Eg\n",
              "wpsx3+d3BPagJ5QWVhFDG2zpqtr+Fk7w9cqCW4AHvNLU27x0hwYGYwC7xxZ5tLVi227A+ewpDKOE\n",
              "v9io9lQ92K//lA7fgQqebd7VtyfLkHtf77de7xpDyVx4CNztC6igBxPqU9We5Y6QxBRJbHXyBdbM\n",
              "um5BOe7da5copT8P8wgac2dDSRm3hbW5e9Q8zQIXuTvGJeyXrWTw6k13P2xs0GMZztGicmNi280A\n",
              "gxnU/FRP0CVrmxAHgH7M91RqSaiB7WIKtUQX8LeO5K1NMshszrBOQfzuZZoOXAAAAhVBm2xJqEFs\n",
              "mUwIT//98QAEW+AY3iez2R4m85bYVSgplyAANFJqVxyE3bUwVQMl4/QtYTHzgDfjtun/pj+k4wVi\n",
              "0rciiw/qE1UWzxfvf4uNHNYG7pJKyP8AphDtPyZ1lo51+/IPwGzVP+6uY/lx4OU2+YfkxYc/DLnM\n",
              "K6zGWn0Nmn9HUkGGQm8F6aFc9yWR3ez2XlJyrJEvTa8D+2Tcc7Vs5M/U3hseCy6Cm21B88ObxBh3\n",
              "v59LkvNZ8EEbbDGP/n5ENBS/mn0LJEScY+ewHWxZ10U3GO1Phif/6DiT+S4p0XVqhDg05hkEt2cu\n",
              "NiCDLADw/ZplWuR9hfQ/RKu7uXno2sQeyR/IJu9N4Og6exfnAYJ0b693bC1ApVKpVvrh7u8QZ6oP\n",
              "2O3c9gPdn47vuLeXEFOVZ9tUtNDN04rE4OLcQ3qLALGi56+73p80f+5DMoOwchIVObZMf9sCYYep\n",
              "iM4+b5bLem9mS5fiDnMLHV/hfUmlfEfB+IZE9GwPz7gsmVwRlxUj0x+nmfAN4Xi+LIKDXyvbyXyP\n",
              "B6JASn7wW6pa46aC3V7ZAaS6VwMc6uA2eCtc6Ff8a4qEajvoxYcBN5zPkBfYVQwh7+HHvVlQ6+FA\n",
              "FuF8+7ohNept9HrS1CA2SJeZQ35Td/G3l36zTCfRUm/vCD+hBKC/JI1iI3gBWGNEHW4RtaWyYdol\n",
              "k44BP5PCx0GhVZjFsQAAAUxBn4pFFSwr/wC6cmjt/kdX3DVsoiP9SRKavsPEAKtLBsNIh0pnfuGm\n",
              "KxDbRTvJQymHSSuUAGAPR6L/WJwk+m6r2s/BxwR0e/2aU9xZ2xVAbk29TSWzQlKUKDBpfdH/aPvU\n",
              "rxFW88r3RIf7/FzbPOsYyuItg12gygp7zNOTTJy+ATus2+WQVKaKnyu07lm8S0FUm9TVN285KMMl\n",
              "tUB5YzHndaxp9YvnJrM2PkNsFcl/lMxbH1mGNbsiu82AR0MIr59xJWEUz3RsQWSHa5U+YEswSGZN\n",
              "bLNvd/rb1vtpY9LkNYySRTAWR3Qg5tv54OWIQo3Yxl16jSvsDU4nZnflDwZARBz2e3LfaX6B9f/e\n",
              "U/V3qYAUMhf8iFRZzp+/r9ggpbPyCtEBe2cQXKTHi1CxnHn70T6KF5r2rVoM7CzYGc5M1xvmqXuo\n",
              "Nv81fOI8FAAAAUgBn6tqQn8A7bxwVb6OsAAA33iMR5EwARQbAIwKC+8rGarJH5svno4jYLNohA4a\n",
              "JgLaEJTnogrZfnl8AzUSJfyKDkSegv0IVuHcdYdxYIZSd6EVwD8CtTiLMYC50qxNYA3Fp6hDSVCE\n",
              "yva3Hgs+laqcJfw6bVDwUqmIAbgFjN2WuTo4E5gtsSw35mWD0dEFfqNP9NfnGAJmQ0FhN/mcMddF\n",
              "toS2/MR89Qqr8KvtCtSHN79Kj9d1NeakROmzHU4bwj3IB0bhnFcRLMENtj32y38VbWOfpm53z2gm\n",
              "wXeH8M/lGwfA0xW9DwHqBik3BqiLeQYwwak7CUMzxdGPjw6iCBfG2JTKYWa2UErAu9LjttYnR5mc\n",
              "elh5Yuvb4Pcx4PoB6rEk5WegMiqZJ4SfMGwVm2HZ++txrq7nimJgnQdkMrYXSWUzCI4DGxAMAAAB\n",
              "7UGbrUmoQWyZTAhX//44QAD++o7LAKFJQ0oCg5dXVCCb2E2zW/5+XHSJZvEQ/mvqjDRa//0XVKYO\n",
              "BEyLnBh7rNWJR9M+R5FZ3MdWNf06J536v2thS6wYYcpgMRyHfFhWdcv6eaQbv6d5RdmEc3cPClc7\n",
              "5wnSygdScwAy87SqQt6A8yAuykfZ1nW+sIYixm1c7UaU8FSUr3WJYRS5kNn6HpOafjW8r7KFDRSV\n",
              "gLsexn+QkovyAHWUO11u+YstwxDdkDe0xe4QwJR6PKsEyj1xmsRZ7WhC4JNQuFAq3GZVCabBEAO5\n",
              "Cdwfjto/J9ilr+eKa4dK+/sA7w/iDAGIWJ65twCVjhqrhlF1myku846jwWqo5tZNcARPsoNa0BI7\n",
              "84xFeaozOV1e2ESmIxxc85IzvKBGufBUD8mW+/NYCJwpJL3yUb6Wb2P1MWD8Dhez+Kai76/XFc1L\n",
              "dKo15fFALUB+WuusrFsofkheIItPVhBjvHj9hx2b9yd8WdQRGaPeZskUcEhtGLyAvMO6RET44PXH\n",
              "6/eM9pjL65WAGorxNvj2Len3Dg3yKA4+QmwvTmEcGISowlfdd0y9daqxa8b12gJ7QwTPEFmKvuar\n",
              "dY2tqseizlvKRwQZz1zXM+NPBhYnEy/OTXUDK7bIYucKEv7ROo0AAAMPQZvPSeEKUmUwUVLCf/3x\n",
              "AAYnwvpb7fDv16Wl6jMjvSIEDDBMOwY5XiEPK1HoIhZJk07qcbA0LJYB4O3nZLxCY0wKsIop39TO\n",
              "Cpl7lpZUeiMFkNZ+AOEDswfDWs7sBOL9oslJxZd2TdLkdWDkDa9X9Ud+QBhIRS7wcQCsWJk9cgyU\n",
              "kmy2FLKZWDDrOyZ/8X0MZyuDlAqfi5DtVCz4aR9nyU6wv/Wq7PQH5zsftgFRNGJ+KRMMEdrMM3/X\n",
              "j8g7aMsvRrrcmqMoC3b0EqRutRRUG+uX6SJ/9umheuIBAnZg6f0T/sshdCcvpJhqHjkJ5Kz29Dfu\n",
              "vf4/stzO7jtI3SOoKplZ1AwKvLAwBxwXEmix5NAcKmqiAPkN/X+t7oaj5R45ggeKgDmqaDaxwDS3\n",
              "gxS0vy5KItCAnRuwv/vx4a8c3WNFD1n52by9SxQK864AgIyhDW6x1a+y3BEVdJ9SNgpuguAwkkTP\n",
              "UXKRWB1A9SR9sqliLGfKIPinZ4VZ/+GJI4Xt+o8e+r+WWojAszAf9AO+76izHE6WCAipd59BNtLX\n",
              "KjztaR+/geytAjGCZMlh0lQFedsOtj3VcL4qHVME0zAQYj678ihjnARoa8xCnQYroG+lJ+EExKj0\n",
              "ZBNUmSdxQkJ3l8JdGReEpsPg1+DfFbrIakwXAlOMBrKRMllyg/sTT2y6XgBIx0JLNkI46RtdfTcw\n",
              "xJhZLbHu9R509x5wvPLvWqp14noXh8LJ91mktRKO8af/Hfa99WsHRG/B/yAwpS+uiemgAL5/buaS\n",
              "R5osx6kH65mRZmoH4CoupHyx2pFh0hbb8cJaoebLIKGh4SA0p6n+40tes3FhJtC7xJxKQH3FAdED\n",
              "AS6I9diyIiD394u7WrnwKgbJRI8CKXs/VuGL4gdeYTtBnK/AztFLqSYVVWNuta6WWDeLKCbu6SnM\n",
              "PM5JQdQsGKPp8gpDIaFbyYPRxMOSNnjo3slHiiXQ9I77a2zcnCUEwHOytndATExms2IKNE7OZW7O\n",
              "34/Q6ylQ8ERGwSsT7i0Qql3zSvcEBvvL6PLhAAAB4AGf7mpCfwAsVuszxYBKcRxAA58/lLV8vinx\n",
              "x8VrU7g+jCQavhlKiRKpmyzQIxox0FL+Ogb78tTbqGrmye2WP0BbHmfB4Qxjc29JaXlgNax2TPfr\n",
              "RsIVc9X7onoRvSya57fhznFNXIH7TZljbbt8R0LjLbHU9hdT6mVWqoT5Q+wDEXq6ZwFJkiV+l2ra\n",
              "lg9nmXM555tN0fvpsS/8f/cVh+Ah/tuC4MXlXjhz5IBxMtMhdjPKCoaMkTce/pb/2z6X7QTYEuGJ\n",
              "b8UU84FxGleEamon6fqPtbWa4GalYAGqoaKeHjNm0vDAm4RiG5JnF8FCFDZvvGEr0iISho51XOLn\n",
              "ckkD03RsuwPMVuV+Ahk5rxat7OMowrZ84Oqap1gvg9Aw9u9bZnd1Hq0D4UOV0fXKwHoXUhPqsDEP\n",
              "WyLqc2cuiRHE48YWYU8vXZNCL9SxYUHBezsoekwmjLcec2RCLF4W1qk8Q94OQwqMg/rPYnFp0KMN\n",
              "Z/HxcurbIXeH6Yes+4oJWcXRa1IxwkcbqdMKKSj2imbKBdYyI4fjXRmBl0PUsfjR0po45c17DuYN\n",
              "cQCKZpMFmMJtGk/taM1og0UZ2xtrMi7I+4A3tLnYYptf7rJ/jr22CYXJN2EqhDgo5xrcKnzoSQAA\n",
              "Aq9Bm/BJ4Q6JlMCE//3xAAn+6uBHjgBayx13pwcttjR1Q8+gaJtA6jqH+3DE7Wn5GN/lLt7iXhrU\n",
              "+RUuWcgtdDaXJpnk1YHy6eWhC05NAgWF1FVPJf96F/yA2Z/jghT3fLaLokUbhebYTQlcHXqKSvbk\n",
              "cCWsHwHtoP25nnQbyu7YZQiTue9VmKYiWAtkSAArTpHApYJGC4V7WTLrX33C+zOpdfyUtCtXJ3Sc\n",
              "ckK8dfElquo3bn6xq1Rbm1KNTpN0fhb+sRhd/0NbVePRzmFku/FUS/ttQWEx9Hf41/azmg/uVc4g\n",
              "4qZk1A1cDq+zyHPPtfn6gRVGra+4L3d72dy+QsbI0o+z+n+p5Rz/vpQxwmtgJ33qMU/Kcyr/f1ci\n",
              "5fXd25GUNJuGKpzRzCuG64HSbWvjzvGABfUOj8ZplGVzeVOCP+MvaUAc5vB5yCuiFp8xoalKWr9J\n",
              "27/q2VqYXqDDDWdT96qZocoiK9nTXgCUzxQOctF7Mp6/prYLq3w4HyWrbS7bsBdzmshJF84X/p3A\n",
              "2WRylcilAmkEeYhRmZI1GcPKFftGAxcFewyiKbtPqHjYAEnIm2z5KqavgH9eD0PI2u+ZBlvbkf0X\n",
              "oqWOdVfHDzDFjDfJ3E1xWaqPL5RVtZJzU/IElNXDjffAYafMPvByi4vtQhYbLnb+DEukpkYfhGKT\n",
              "3ah7qD66C15UupHiVnWyv+YtfG/jaHoTjzkdVzXiUsCchIdMBPmZ66omjTdRAgASDUu+7lQ3DgIx\n",
              "qbzSL3XU79O/0mo+EFX0L/5XBlOjlGL1SVw9pK/4y5Bsk1FNybOIzsUTu1ZjBpmPwS7JDaJqRbld\n",
              "4yrpPO7efEO4uAOH289ygcF7vNl4AZbV+iSFIC9sXBSvt345PgNdhhCgqY1UkMgyExLwRd6P1/p+\n",
              "6lLat1oAAAPOQZoSSeEPJlMFFTwz//6eEAHG1z8GQIIAB0j1WQwSZf1GtI7EVOiIhfyVnwu/BYDZ\n",
              "6BPRe4qPOF/7Fn3n7zH2r7iGSTJ90H5AVBGxx0S2JvwY4Q8z3GqL9OjT5vOIS27gjQm43htd9+Ox\n",
              "/cHqLuuSqkl+gkVxeA/gK1fIrfFdOChJLO96x8NnsgNyw1mYgMg1mRo086MSgvA8F1GJS+QYQ+/K\n",
              "u3yEBatR52LBK1Af29xRokt2acrY/aTieXiqy89LBpx9DH9jAX4B1lQf5SrbkoJa9zdaKvpvhLHI\n",
              "noMv4bFRaRawmxknLxceyiP9aHmGCCbz3T+DwOiAWpEsA7vVs7Vr/fDMZG/q2Zl25pxvF5mF2a01\n",
              "Y0E3Z7set/ENOqT6dtNKjFWYIBWO8Lo6yRlBwJ6r1bWeLeIHneJ8j7Ybwwz+eyyxVSjKt/HtE8Op\n",
              "Z76dAt5ZTEbpOMtcyyV5ZhY/BkFfJcCBVfsK8otCmBqXeSRIR3v+8c3Xbc5LkZ0gKP/KUe/dU6zH\n",
              "rQZkvlC4/HaXm9Snq49MHmJO5NfQ+3WdX/MBxIh0s63lVpgL7U8i50iom72yp8V/hG/XCuq+eNtX\n",
              "85zOO8slCCGwznc/bK09EgwPpaLO6VEqA9F7RyWWsuYMw1tU6+IKeByK2Dl3zHHVtCewaGa6ZVgk\n",
              "fCYBUEdREi23dwKEluN4EjbhT8rSC96NxAawM2in8y3Fn4fZHEtP+LGgiEWb7s/U98bAgUge+7P5\n",
              "KLfV4c1OIQ9OFrocVM2R3fgkCltHBPDyRXi+ZQP2AJoqdDfr4ywa+Zuhcmkz2NDY4EbrDvy5FH5x\n",
              "4+on/Xr8VzFMZdBcZcQRPao3e+VxImxrNj8eyInQAEOLnR0iRvkmWyNO6+2LqIAdcNcfCoIY3dbV\n",
              "7fsNSFvceeeoirXTJzD4cqr1m9+b7byoqpNl/aqg0kJaDbxralRpbq31ZIf2FPB2r/PCoXqAtAGr\n",
              "+8K4RVEFoS36Bym1BYCGCmUAtrIxqUiRjXlV5T1b6A81k3eeufn51OeMkgq/uztO7VqpiO49JQj2\n",
              "0YfNyG64SaO+g4h3rS7PM0ZVGPP2BGsxOnYK0+mvu/L4khe5HuDv9bOnQQgYMhFryEOT4iSu751B\n",
              "uiRBS27z8IBH3ab8iI2NNut63ivJd4Yt8oFsxZ9qZh10KbvO/RVfYSEYrFxUdLNHoS0EeJhiS8qO\n",
              "7fb9zb28bMbPjGJCHnVmDxJyiAKqsApW99OYT3RsXosHiT8EbAGSAtyE0zNgUxA5WohcT9gZxMNE\n",
              "vt5ro/jL0G0p9tOG+BAAAAGBAZ4xakJ/AMQ8g7tZ1T4nWX5nSFYDcD9X9gBvDTM/5q8ZOR9qGcyv\n",
              "dd2yyliyQowLxb1ySKk2QVSm1s/nJCJf/zbc3kMnASZVCGTcKf8lpZcyKAR0lfbmgOz8X/9619/+\n",
              "0U9zae3kU69Cv92szMhMOiMuz7kY7zYO7L94Yao/Ez11b/YwTRXu+6MYjz1kWN10/H5ohQdl57h8\n",
              "13ULBWBG3SN+NpvqqzsdAXJE2qm2kRphMJl8mGKtWdiQMr0Yf5SzNm3bCNh2X3STDfbxekpbr8B8\n",
              "sNh2kpI9SlCJ97nKwS3Xvnm9+T7L5glQYgQzY2gOJzz5nIjnCmhQ0vexUxAm1tOGmGbEszG2RPvH\n",
              "5oWql7y46rOf3bvdjEIU6tBoobsLlfCaphaqer50azeKtCxqQ4nH1e3SIdCt/xI59EFJMJIcOUfU\n",
              "GdX/o//EwQJJbPoZ4jwbAewhy8d5pWvTvFUhhG6xJdN9tpcLrzinjHZRSLL/PmSzhoCGJXeheDP4\n",
              "sv3HOQAABNRBmjVJ4Q8mUwIZ//6eEAT3jz4UlFomAG69OJpkp2O7wxGPZ9Er5S9wswu8CxEhvLyu\n",
              "UJVsbfEpUto6Nv5JgunpSmiuhQAvvWVeqYFIB3KrnzSoJJ4Czxc/6ZrvcwRYkJ1X06bSaXdENHeJ\n",
              "5xTOVR5UW5XM6CeN9R8JAXd2pffM9YMS5G2V0lAD3oPdRXFo+sACowSAbW3c5bX8doEL+/2SRbQ8\n",
              "MKr2YFRKrgZ2iXq5x0dylbfED7yr0IJJG48D/qSt7t6i1m+1Fy5PiAopeD9rzEy/RO1Jl700dhAe\n",
              "ABpHtcH2WS835Kn4llO+dyvZDhOycaPjVceTXuCG4SENXJM/zVVGhC2JI/CZj/GIuqbRuWIZwwJ1\n",
              "65XlflK5oIdpiIqWhQAVQsmZ9TdAQyCbPWdSgPO8YAIkGXXLDkxyhQH9Nz+gwAWnS2xKvTGBuAEE\n",
              "jkzK0Ybg+4M5KwIW6x+K5CPNijX46c5nfE2vt7HoQMb92PTHuJ3BIMgmZ3vT6z3d/ybC4uLu6B9M\n",
              "wLKaXhE96lAZUKC6wQVGdS2eUbc6g4FbRKmX8uh8IxzY31knloBeU+ljqRjfYKq2MhhvraO1DoSp\n",
              "SbznI6tnYVKgxDtVqpEAZ5tllHNn0qKqH9WcdvjxDBDB9aMCYNnhPptN4HzSHDGqc6Yx0qq2l+VT\n",
              "lAaj5kauoXmTS8lG63qO5c/fSVP+2hluH3DSRSRK9wHXN2NJT4WzszZ27O8CfZMj5Tt5PlRbiAJ9\n",
              "P1bklz3h5qy7TQXSC6IIrmZXPvuJQk/rW3OiyPrBlVlhgnElz1zkgONg6wAych18oxYi39qF0lfZ\n",
              "ehZ3ZElhFGz5807vBuyKycc68CGtoAj6wSTSQCP6JkCsPWg38TsfvrgF+0cmrXpu9ypZ4HBbiWIe\n",
              "qVq2NCIXe18Ns7Y39qroP55nGzUO6ICTgIZVlf/wBi9rz8n5Kf91awCr+KL8q2kQ8DgjHzmiVszr\n",
              "JkFfi00n9KcaFMylAOPmL/BqLWW+jyLUFL3EtO/dcnKuceULH0Uy79aVUq2k2EItzObhs+H1cnmS\n",
              "dt6WEcox+WG/Ynwus1TNtcxpndYrBZjOfMqfFdzr4NEqUDiIaeoPiLZ6RIpZoJz9RnW/ctLclKTu\n",
              "Atmm9gdC0F/SoLBuTRo96o4ZjhyXxEzYjz/fah1WmMDl+qoh474B/d9X92XKzCYudV51z97twnR7\n",
              "lZZe4lJlRH/UABOV5+vSn53VYcXXxJTRc6lADCkModWtEPgAiADsCyk5+pS4bPq4NG78bqR+zKb4\n",
              "JBeTER6MXRy4BxgU+tqaDTWhf8T+DOcn08/Nl19qtOZsTU87NNSjFWjSM+RYcyS8dqASsPMC1YR5\n",
              "/jf7xRrJkHVd9/6zYWQP4dbXvT+9sDPt5AfwynIlf/LWjq/TuTsTBJjM9OqXXqEVqF+a0tXuuC1L\n",
              "0fCPHutoVbOM328RmWtSGwh330xynKndXmChWbkvz1BMBNPsxaqxTNZNKbyZiAJoTygHdf7iQeHw\n",
              "p4yBkUT0nrJHqP2oyri3RuJjH9h6BnmGWpgRN8nM3qgIrnJjlkjaxIoHbYlJr6BhbYKLntpMdtQc\n",
              "jxNqyEazCLYrRu3QjoNy4PLLWSv0zAydngpsSomChb9Gy5kArY+uGWCY3dOyc7YAAAGMQZ5TRRE8\n",
              "K/8BBtdzF1WN1bxLXeMiQFJKPDYp6AEiCbBkToRQSP8E966HUBlMg7NjI3g/p+fTh7Cnrm10+RxE\n",
              "+ZrBS8Y3hifFGp6QkAlnZZZg/V87e+Bsw5v5BWf6Z3qQ5ffxav7tcEZi0KsCmOI+cZx4MQaSyVtY\n",
              "6UKZbeFeCWmMvHfvnljXlc31d9O80cChCMJfQrPV+o6kG67MchibUalt7mHwgysul5LxyEQbb0+1\n",
              "Q6DHNUhB73AyL3K6x0kvAeXrMyAM3KmkAaM/Y2EujlweplboLUGbftL52XZmiceGu+Qh8Onpk38P\n",
              "b/75FtZXONCFgObAcYFV4eBUXgPLao0RnIb0aKEs1o8ja7CpG6Vaka9fYZsKN4wsNBtRumeuYjbh\n",
              "AE+3T9n8L+SLztVt8i4bUx+mcY74f2hb7mgJ/LJEMA4OB1ip7aUJILYxCTBISXpSo2UwvaLYp4op\n",
              "8qVIYbD0T+J7xeqq4HaDuYwlPEPBXp/8HWclrhkU/F4DiSqc4uKTWLU09aw1HEqAAAABQQGedGpC\n",
              "fwFht1mcv3z+N5HDMHL3jcwYobd3gAG7XavZXjpI2du+7ts0+XKVIHTK3G76ISxe/NtFtCd6d4YU\n",
              "IdxL87VlgS3NtDK2kPvVmh2s7jsklhuqx/2QNV/hJ167spfL3Ze3pOmJ51tRaNzrWMb2Y0C29b2D\n",
              "FEeRGLAm4uUqAExPy/dqk1IPP0YT1Yotwk+tYBDQ/+DT3sofIkmDrKTXlcAbyv48NyIGFJf3Q5fB\n",
              "D9xbmTpvRjR2jEfi+3b4z13Hs2VUxrqnSuBIjJl888HjUu2QK+a8ryPwfFJfMj7pgDxT8nJhNatF\n",
              "Ta7/WJ2BVNMWEQSEOlybQO+PEJ3OB3s9K8KDnxngPDBJb344GHmX9lfRKCGv5mSu4WW2vutfFJWn\n",
              "2hv7QFwacdA16sqP+d6lzmSxoWr3ZpCHUSPMq4WIgQAAAdRBmnZJqEFomUwIZ//+nhAFFXoQ+4xA\n",
              "FJOS0EiJP2wQN4oSPCY2APn0gcX5JpU7QihvjDU9r4j3/bDpwlct8hu0QEMiOjDWb5iSGH9obNW3\n",
              "XYHIVBWqYBNatLu9Fo5gVsMNOGifaE0VS7YARsvnVid9PuO9PTMZMVBBfqIc6TPgxuLV/DCRN4G5\n",
              "sHZE2YUrZd357Wk+xeUXj0sIWVGw3ian0M5ZvHZKR4AXawm4Msx/lsiJMnGUXxdvwN/KqGgY5pnx\n",
              "awKS5nRMnuJ8yxYMcvYo6+mhfm/zCx3C1jTXTAx+vqIe5AL2+d/ylKakhgWNKWMYtMPiEeyxhkpX\n",
              "hRF+x+4AktZ+Nqt2qoOT2Tg7S3binhjIy+6KT/i3txmr3ukVJdUGzV08cE5UrWaFZ4eskpjAvpC3\n",
              "gORpj2Rz6jGfXWMoVzPXOvatYSMh/ivulbXbAJjBIg09tMzZEVtxvzr+mwkd7uPG3ZcFaOZoVWpJ\n",
              "gQIYb14T2XFr1S0YXm4lx3jKclak5zHSj27Yn69aojF8kVRdmIKxds62D6MJM0jyFrbVUZIPcgN2\n",
              "aTJq3b19iF4od4dUHg4HeAT4H8yntLqvIMVAw3a0rafS36h9rIdMkI/xC5pNbQgAAAKQQZqaSeEK\n",
              "UmUwIX/+jLANUe2wFDAKrvQx7TEX2YdOEJmGZNRvZ4zwDVvAp9fDwXOUa39pDiQ6uWwTETiqPknI\n",
              "80fnIcq5/5QMmnMEEfiMTnIXBOvOXukbYKA9ioNPl04gLXetwWsZkXbqstY5Bjm6QArRpWXI/fM2\n",
              "N+GAf+UPGjjbjkFISJb6zhQWy+BtMqziBRPd93WG7flJjJpjB8yJ7VwUst5m4dxHPJ0XEIPUApBd\n",
              "IlRXVO1IM/5zuIE7kbgddunDEFNnyow39X9u8SS6sWR4FCfgktLiEOnY+/3fBfzlu1gptqKnVIl8\n",
              "ujrU5MRUIDH817MI1y5E88KiMjlC1yhMMJzTFb4+hM04Bg2FF9VO24IKV+qU3Kjty4FFh4iRLRQ9\n",
              "95V6vkMgZfcRoJ2r+SNiYvEw7LOXcdWPuegQndLEKjG6WTVP15i6SVP0VVAJDm4cTIGB+u//tMr9\n",
              "WHYsolyEUfv9Pc/G+XLfFzCLVvPHlZylpfHwILVudxiqilB4OCC/eM65oPtKKOUAFVrssNV9JErO\n",
              "U6aUgvaDmCG76YbmnUQ9Ko7SeIxl0ZyQjLOUPis5HwMBtnXDp6GSRT4yUZ3HyNqwt35QdG10Vbvw\n",
              "QUvR36Me6c3Cke8tHzpdZZW+FAcLLUPlw/t6otFFuvVSjstCTA8F3VT8x3BDzylEoIj6SCa7L8i2\n",
              "ohe+poeeLsZnGfRrzfCaiyu1h9p+7lDlsjU6Rb8yut2Ny56ERxYd86E31qbHeJCNANUaOZGNhTdK\n",
              "cqPoiE9YnKHI+izYLTSt//XGtibtZg7G2Lkn7IIV0Tm6mrNtXkt0NWTuJ5f3p7aSrkxWrz1+RuAT\n",
              "AGk7Vdk/H7MzZLIdJ/5D41sDuUXM6GEAAACrQZ64RTRMK/8BxmSV5b+Zd0sDAAzbQ9nrzDJk76Qm\n",
              "nIPaOWMg9q7SqHr7roYQkFuqRK8lbOxtJhDfXkZjkhKNNvfFgyJQCtCyd42+Jy/htQ+OySPug5N0\n",
              "xjOXtdR0gdWwSpVYFpOLhzV5Zqkr0mxzPKLx4fkx64eWt+wGBXsyYvKVqUBWqJIMOAzlhnSM/2he\n",
              "K97iZYkafhC9lGd9ZmaWt+eSAKm4vfOqEf9BAAAA3gGe13RCfwJJ8Wy6dDDG8n0p0SiAFfNhaPHn\n",
              "oPqmsf4ioJOL11Y498Py6DEO+tM0zHWXa1eQLrtaMbt0pWVQNthZpd8Z+C9TiP/wH259Em7AWXLB\n",
              "0oGO9V+/SBoibNo4LkK+NrkeYp6s/6cz5Xd0fo6kxI/d08+0AaGQ82zrj72RlUg5n65GTPNY/G85\n",
              "Q6M4vQNFdwiTa7F9mMq9OAwV1Db73w8iELC1GAcxXoRrkX2IK2X95A3W73ZVmLHuaANX17oxGYH4\n",
              "gv6Rce9VdX7es3We0O/PSlVX7tm46ESIYAAAAGkBntlqQn8CSH3cLUdCYLIxOmdULG9A2dFMBINR\n",
              "woh+lVACt3HVIXVCkVHV9X7qogOJlQLngiS32429s4JqP3msobRisncUScEUBUpOiBR59H6uFecQ\n",
              "On0kTmrvm4gQBRWHXb3PFAG3OaEAAADMQZrcSahBaJlMFPCf/fEAdnYje6d46mJg7E47Y05TCPPv\n",
              "vL9kIcfsdrcP8z6JDDy4ARiQD5mf6jIbieOuNHcu6xvp/Hc0YiYJvJRXLtVOK3fretJtAgLo2+dE\n",
              "2vJQ6M8qFJAdHuwee0du64lc8zTlDBJA/39883m6v6DAGsH0sZcaoqrbwUce3oiUPBwKjXi0xOp4\n",
              "qcQw/WdAa+O91nKn1NRoiaT+IXB4v1dv+2heMT28YeOwv7FSo+Nm2F89pLwr4eQLL72hrNnln+ug\n",
              "AAAAhgGe+2pCfwJJExjKapIIvw/M6B4Gq3ycqbmS9CbjWROCMnAlpW9K91oxAAWk3/0Dge/qfPPO\n",
              "Ju+/eRpCMUJXlRmOmo9pgXpXIykGGFsdIFZTLvNgCKIWq1EGkz5iBDWDRfEKe/0zcU7DclgGJDvm\n",
              "iuPFUw+tIbrXAIBuFJrUOeIMjuuTwAXVAAAFxm1vb3YAAABsbXZoZAAAAAAAAAAAAAAAAAAAA+gA\n",
              "AAfyAAEAAAEAAAAAAAAAAAAAAAABAAAAAAAAAAAAAAAAAAAAAQAAAAAAAAAAAAAAAAAAQAAAAAAA\n",
              "AAAAAAAAAAAAAAAAAAAAAAAAAAAAAAAAAAIAAATwdHJhawAAAFx0a2hkAAAAAwAAAAAAAAAAAAAA\n",
              "AQAAAAAAAAfyAAAAAAAAAAAAAAAAAAAAAAABAAAAAAAAAAAAAAAAAAAAAQAAAAAAAAAAAAAAAAAA\n",
              "QAAAAAFAAAAA8AAAAAAAJGVkdHMAAAAcZWxzdAAAAAAAAAABAAAH8gAABAAAAQAAAAAEaG1kaWEA\n",
              "AAAgbWRoZAAAAAAAAAAAAAAAAAAAPAAAAHoAVcQAAAAAAC1oZGxyAAAAAAAAAAB2aWRlAAAAAAAA\n",
              "AAAAAAAAVmlkZW9IYW5kbGVyAAAABBNtaW5mAAAAFHZtaGQAAAABAAAAAAAAAAAAAAAkZGluZgAA\n",
              "ABxkcmVmAAAAAAAAAAEAAAAMdXJsIAAAAAEAAAPTc3RibAAAALdzdHNkAAAAAAAAAAEAAACnYXZj\n",
              "MQAAAAAAAAABAAAAAAAAAAAAAAAAAAAAAAFAAPAASAAAAEgAAAAAAAAAAQAAAAAAAAAAAAAAAAAA\n",
              "AAAAAAAAAAAAAAAAAAAAAAAAABj//wAAADVhdmNDAWQADf/hABhnZAANrNlBQfoQAAADABAAAAMD\n",
              "wPFCmWABAAZo6+PLIsD9+PgAAAAAHHV1aWRraEDyXyRPxbo5pRvPAyPzAAAAAAAAABhzdHRzAAAA\n",
              "AAAAAAEAAAA9AAACAAAAABRzdHNzAAAAAAAAAAEAAAABAAABsGN0dHMAAAAAAAAANAAAAAEAAAQA\n",
              "AAAAAQAACAAAAAACAAACAAAAAAIAAAQAAAAAAQAACAAAAAACAAACAAAAAAEAAAQAAAAAAQAACAAA\n",
              "AAACAAACAAAAAAEAAAQAAAAAAQAABgAAAAABAAACAAAAAAEAAAgAAAAAAgAAAgAAAAABAAAEAAAA\n",
              "AAEAAAoAAAAAAQAABAAAAAABAAAAAAAAAAEAAAIAAAAAAQAACgAAAAABAAAEAAAAAAEAAAAAAAAA\n",
              "AQAAAgAAAAABAAAKAAAAAAEAAAQAAAAAAQAAAAAAAAABAAACAAAAAAEAAAgAAAAAAgAAAgAAAAAB\n",
              "AAAIAAAAAAIAAAIAAAAAAQAACgAAAAABAAAEAAAAAAEAAAAAAAAAAQAAAgAAAAABAAAIAAAAAAIA\n",
              "AAIAAAAAAQAABAAAAAABAAAGAAAAAAEAAAIAAAAAAQAABAAAAAABAAAGAAAAAAEAAAIAAAAAAQAA\n",
              "CAAAAAACAAACAAAAAAEAAAQAAAAAAQAACgAAAAABAAAEAAAAAAEAAAAAAAAAAQAAAgAAAAABAAAG\n",
              "AAAAAAEAAAIAAAAAHHN0c2MAAAAAAAAAAQAAAAEAAAA9AAAAAQAAAQhzdHN6AAAAAAAAAAAAAAA9\n",
              "AAAJEQAAAakAAACKAAAAtwAAAXMAAAHhAAADJgAAAbIAAAEtAAAB8wAAAr8AAAIYAAAB7QAAAdEA\n",
              "AAKsAAABdgAAApgAAAFvAAABGgAAAXUAAAIiAAABIgAAAMgAAAC/AAACbAAAAPIAAACbAAAAbAAA\n",
              "AIAAAACsAAAATQAAAFIAAAFrAAAArgAAAIkAAAG5AAAA2wAAAKsAAAJ7AAABwQAAAMAAAAEIAAAC\n",
              "GQAAAVAAAAFMAAAB8QAAAxMAAAHkAAACswAAA9IAAAGFAAAE2AAAAZAAAAFFAAAB2AAAApQAAACv\n",
              "AAAA4gAAAG0AAADQAAAAigAAABRzdGNvAAAAAAAAAAEAAAAwAAAAYnVkdGEAAABabWV0YQAAAAAA\n",
              "AAAhaGRscgAAAAAAAAAAbWRpcmFwcGwAAAAAAAAAAAAAAAAtaWxzdAAAACWpdG9vAAAAHWRhdGEA\n",
              "AAABAAAAAExhdmY1OS4yNy4xMDA=\n",
              "\">\n",
              "  Your browser does not support the video tag.\n",
              "</video>"
            ],
            "text/plain": [
              "<IPython.core.display.HTML object>"
            ]
          },
          "execution_count": 6,
          "metadata": {},
          "output_type": "execute_result"
        }
      ],
      "source": [
        "#@title Making a video {vertical-output: true}\n",
        "\n",
        "duration = 2    # (seconds)\n",
        "framerate = 30  # (Hz)\n",
        "\n",
        "# Visualize the joint axis\n",
        "scene_option = mujoco.wrapper.core.MjvOption()\n",
        "scene_option.flags[enums.mjtVisFlag.mjVIS_JOINT] = True\n",
        "\n",
        "# Simulate and display video.\n",
        "frames = []\n",
        "physics.reset()  # Reset state and time\n",
        "while physics.data.time < duration:\n",
        "  physics.step()\n",
        "  if len(frames) < physics.data.time * framerate:\n",
        "    pixels = physics.render(scene_option=scene_option)\n",
        "    frames.append(pixels)\n",
        "display_video(frames, framerate)"
      ]
    },
    {
      "cell_type": "markdown",
      "metadata": {
        "id": "yYvS1UaciMX_"
      },
      "source": [
        "Note how we collect the video frames. Because physics simulation timesteps are generally much smaller than framerates (the default timestep is 2ms), we don't render after each step."
      ]
    },
    {
      "cell_type": "markdown",
      "metadata": {
        "id": "nQ8XOnRQx7T1"
      },
      "source": [
        "## Rendering options\n",
        "\n",
        "Like joint visualisation, additional rendering options are exposed as parameters to the `render` method."
      ]
    },
    {
      "cell_type": "code",
      "execution_count": null,
      "metadata": {
        "id": "AQITZiIgx7T2"
      },
      "outputs": [],
      "source": [
        "#@title Enable transparency and frame visualization {vertical-output: true}\n",
        "\n",
        "scene_option = mujoco.wrapper.core.MjvOption()\n",
        "scene_option.frame = enums.mjtFrame.mjFRAME_GEOM\n",
        "scene_option.flags[enums.mjtVisFlag.mjVIS_TRANSPARENT] = True\n",
        "pixels = physics.render(scene_option=scene_option)\n",
        "PIL.Image.fromarray(pixels)"
      ]
    },
    {
      "cell_type": "code",
      "execution_count": null,
      "metadata": {
        "id": "PDDgY48vx7T6"
      },
      "outputs": [],
      "source": [
        "#@title Depth rendering {vertical-output: true}\n",
        "\n",
        "# depth is a float array, in meters.\n",
        "depth = physics.render(depth=True)\n",
        "# Shift nearest values to the origin.\n",
        "depth -= depth.min()\n",
        "# Scale by 2 mean distances of near rays.\n",
        "depth /= 2*depth[depth <= 1].mean()\n",
        "# Scale to [0, 255]\n",
        "pixels = 255*np.clip(depth, 0, 1)\n",
        "PIL.Image.fromarray(pixels.astype(np.uint8))"
      ]
    },
    {
      "cell_type": "code",
      "execution_count": null,
      "metadata": {
        "id": "PNwiIrgpx7T8"
      },
      "outputs": [],
      "source": [
        "#@title Segmentation rendering {vertical-output: true}\n",
        "\n",
        "seg = physics.render(segmentation=True)\n",
        "# Display the contents of the first channel, which contains object\n",
        "# IDs. The second channel, seg[:, :, 1], contains object types.\n",
        "geom_ids = seg[:, :, 0]\n",
        "# Infinity is mapped to -1\n",
        "geom_ids = geom_ids.astype(np.float64) + 1\n",
        "# Scale to [0, 1]\n",
        "geom_ids = geom_ids / geom_ids.max()\n",
        "pixels = 255*geom_ids\n",
        "PIL.Image.fromarray(pixels.astype(np.uint8))\n"
      ]
    },
    {
      "cell_type": "code",
      "execution_count": null,
      "metadata": {
        "id": "uCJQlv3cQcJQ"
      },
      "outputs": [],
      "source": [
        "#@title Projecting from world to camera coordinates {vertical-output: true}\n",
        "\n",
        "# Get the world coordinates of the box corners\n",
        "box_pos = physics.named.data.geom_xpos['red_box']\n",
        "box_mat = physics.named.data.geom_xmat['red_box'].reshape(3, 3)\n",
        "box_size = physics.named.model.geom_size['red_box']\n",
        "offsets = np.array([-1, 1]) * box_size[:, None]\n",
        "xyz_local = np.stack(itertools.product(*offsets)).T\n",
        "xyz_global = box_pos[:, None] + box_mat @ xyz_local\n",
        "\n",
        "# Camera matrices multiply homogenous [x, y, z, 1] vectors.\n",
        "corners_homogeneous = np.ones((4, xyz_global.shape[1]), dtype=float)\n",
        "corners_homogeneous[:3, :] = xyz_global\n",
        "\n",
        "# Get the camera matrix.\n",
        "camera = mujoco.Camera(physics)\n",
        "camera_matrix = camera.matrix\n",
        "\n",
        "# Project world coordinates into pixel space. See:\n",
        "# https://en.wikipedia.org/wiki/3D_projection#Mathematical_formula\n",
        "xs, ys, s = camera_matrix @ corners_homogeneous\n",
        "# x and y are in the pixel coordinate system.\n",
        "x = xs / s\n",
        "y = ys / s\n",
        "\n",
        "# Render the camera view and overlay the projected corner coordinates.\n",
        "pixels = camera.render()\n",
        "fig, ax = plt.subplots(1, 1)\n",
        "ax.imshow(pixels)\n",
        "ax.plot(x, y, '+', c='w')\n",
        "ax.set_axis_off()"
      ]
    },
    {
      "cell_type": "markdown",
      "metadata": {
        "id": "gf9h_wi9weet"
      },
      "source": [
        "# MuJoCo basics and named indexing"
      ]
    },
    {
      "cell_type": "markdown",
      "metadata": {
        "id": "NCcZxrDDB1Cj"
      },
      "source": [
        "## `mjModel`\n",
        "MuJoCo's `mjModel`, encapsulated in `physics.model`, contains the *model description*, including the default initial state and other fixed quantities which are not a function of the state, e.g. the positions of geoms in the frame of their parent body. The (x, y, z) offsets of the `box` and `sphere` geoms, relative their parent body `box_and_sphere` are given by `model.geom_pos`:"
      ]
    },
    {
      "cell_type": "code",
      "execution_count": null,
      "metadata": {
        "id": "wx8NANvOF8g1"
      },
      "outputs": [],
      "source": [
        "physics.model.geom_pos"
      ]
    },
    {
      "cell_type": "markdown",
      "metadata": {
        "id": "Wee5ATLtIQn_"
      },
      "source": [
        "The `model.opt` structure contains global quantities like"
      ]
    },
    {
      "cell_type": "code",
      "execution_count": null,
      "metadata": {
        "id": "BhzbZIfDIU2-"
      },
      "outputs": [],
      "source": [
        "print('timestep', physics.model.opt.timestep)\n",
        "print('gravity', physics.model.opt.gravity)"
      ]
    },
    {
      "cell_type": "markdown",
      "metadata": {
        "id": "t5hY0fyXFLcf"
      },
      "source": [
        "## `mjData`\n",
        "`mjData`, encapsulated in `physics.data`, contains the *state* and quantities that depend on it. The state is made up of time, generalized positions and generalised velocities. These are respectively `data.time`, `data.qpos` and `data.qvel`. \n",
        "\n",
        "Let's print the state of the swinging body where we left it:"
      ]
    },
    {
      "cell_type": "code",
      "execution_count": null,
      "metadata": {
        "id": "acwZtDwp9mQU"
      },
      "outputs": [],
      "source": [
        "print(physics.data.time, physics.data.qpos, physics.data.qvel)"
      ]
    },
    {
      "cell_type": "markdown",
      "metadata": {
        "id": "7YlmcLcA-WQu"
      },
      "source": [
        "`physics.data` also contains functions of the state, for example the cartesian positions of objects in the world frame. The (x, y, z) positions of our two geoms are in `data.geom_xpos`:"
      ]
    },
    {
      "cell_type": "code",
      "execution_count": null,
      "metadata": {
        "id": "CPwDcAQ0-uUE"
      },
      "outputs": [],
      "source": [
        "print(physics.data.geom_xpos)"
      ]
    },
    {
      "cell_type": "markdown",
      "metadata": {
        "id": "Z0UodCxS_v49"
      },
      "source": [
        "## Named indexing\n",
        "\n",
        "The semantics of the above arrays are made clearer using the `named` wrapper, which assigns names to rows and type names to columns."
      ]
    },
    {
      "cell_type": "code",
      "execution_count": null,
      "metadata": {
        "id": "cLARcaK6-xCU"
      },
      "outputs": [],
      "source": [
        "print(physics.named.data.geom_xpos)"
      ]
    },
    {
      "cell_type": "markdown",
      "metadata": {
        "id": "wgXOUZNZHIx6"
      },
      "source": [
        "Note how `model.geom_pos` and `data.geom_xpos` have similar semantics but very different meanings."
      ]
    },
    {
      "cell_type": "code",
      "execution_count": null,
      "metadata": {
        "id": "-cW61ClRHS8a"
      },
      "outputs": [],
      "source": [
        "print(physics.named.model.geom_pos)"
      ]
    },
    {
      "cell_type": "markdown",
      "metadata": {
        "id": "-lQ0AChVASMv"
      },
      "source": [
        "Name strings can be used to index **into** the relevant quantities, making code much more readable and robust."
      ]
    },
    {
      "cell_type": "code",
      "execution_count": null,
      "metadata": {
        "id": "Rj4ad9fQAnFZ"
      },
      "outputs": [],
      "source": [
        "physics.named.data.geom_xpos['green_sphere', 'z']"
      ]
    },
    {
      "cell_type": "markdown",
      "metadata": {
        "id": "axr_p6APAzFn"
      },
      "source": [
        "Joint names can be used to index into quantities in configuration space (beginning with the letter `q`):"
      ]
    },
    {
      "cell_type": "code",
      "execution_count": null,
      "metadata": {
        "id": "hluF9aDG9O1W"
      },
      "outputs": [],
      "source": [
        "physics.named.data.qpos['swing']"
      ]
    },
    {
      "cell_type": "markdown",
      "metadata": {
        "id": "3IhfyD2Q1pjv"
      },
      "source": [
        "We can mix NumPy slicing operations with named indexing. As an example, we can set the color of the box using its name (`\"red_box\"`) as an index into the rows of the `geom_rgba` array. "
      ]
    },
    {
      "cell_type": "code",
      "execution_count": null,
      "metadata": {
        "id": "f5vVUullUvWH"
      },
      "outputs": [],
      "source": [
        "#@title Changing colors using named indexing{vertical-output: true}\n",
        "\n",
        "random_rgb = np.random.rand(3)\n",
        "physics.named.model.geom_rgba['red_box', :3] = random_rgb\n",
        "pixels = physics.render()\n",
        "PIL.Image.fromarray(pixels)"
      ]
    },
    {
      "cell_type": "markdown",
      "metadata": {
        "id": "elzPPdq-KhLI"
      },
      "source": [
        "Note that while `physics.model` quantities will not be changed by the engine, we can change them ourselves between steps. This however is generally not recommended, the preferred approach being to modify the model at the XML level using the PyMJCF library, see below."
      ]
    },
    {
      "cell_type": "markdown",
      "metadata": {
        "id": "22ENjtVuhwsm"
      },
      "source": [
        "## Setting the state with `reset_context()`\n",
        "\n",
        "In order for `data` quantities that are functions of the state to be in sync with the state, MuJoCo's `mj_step1()` needs to be called. This is facilitated by the `reset_context()` context, please see in-depth discussion in Section 2.1 of the [tech report](https://arxiv.org/abs/2006.12983)."
      ]
    },
    {
      "cell_type": "code",
      "execution_count": null,
      "metadata": {
        "id": "WBPprCtWgXFN"
      },
      "outputs": [],
      "source": [
        "physics.named.data.qpos['swing'] = np.pi\n",
        "print('Without reset_context, spatial positions are not updated:',\n",
        "      physics.named.data.geom_xpos['green_sphere', ['z']])\n",
        "with physics.reset_context():\n",
        "  physics.named.data.qpos['swing'] = np.pi\n",
        "print('After reset_context, positions are up-to-date:',\n",
        "      physics.named.data.geom_xpos['green_sphere', ['z']])"
      ]
    },
    {
      "cell_type": "markdown",
      "metadata": {
        "id": "SHppAOjvSupc"
      },
      "source": [
        "## Free bodies: the self-inverting \"tippe-top\"\n",
        "\n",
        "A free body is a body with a `free` joint, with 6 movement DOFs: 3 translations and 3 rotations. We could give our `box_and_sphere` body a free joint and watch it fall, but let's look at something more interesting. A \"tippe top\" is a spinning toy which flips itself on its head ([Wikipedia](https://en.wikipedia.org/wiki/Tippe_top)). We model it as follows:"
      ]
    },
    {
      "cell_type": "code",
      "execution_count": null,
      "metadata": {
        "id": "xasXQpVMjIwA"
      },
      "outputs": [],
      "source": [
        "#@title The \"tippe-top\" model{vertical-output: true}\n",
        "\n",
        "tippe_top = \"\"\"\n",
        "<mujoco model=\"tippe top\">\n",
        "  <option integrator=\"RK4\"/>\n",
        "  <asset>\n",
        "    <texture name=\"grid\" type=\"2d\" builtin=\"checker\" rgb1=\".1 .2 .3\" \n",
        "     rgb2=\".2 .3 .4\" width=\"300\" height=\"300\"/>\n",
        "    <material name=\"grid\" texture=\"grid\" texrepeat=\"8 8\" reflectance=\".2\"/>\n",
        "  </asset>\n",
        "  <worldbody>\n",
        "    <geom size=\".2 .2 .01\" type=\"plane\" material=\"grid\"/>\n",
        "    <light pos=\"0 0 .6\"/>\n",
        "    <camera name=\"closeup\" pos=\"0 -.1 .07\" xyaxes=\"1 0 0 0 1 2\"/>\n",
        "    <body name=\"top\" pos=\"0 0 .02\">\n",
        "      <freejoint/>\n",
        "      <geom name=\"ball\" type=\"sphere\" size=\".02\" />\n",
        "      <geom name=\"stem\" type=\"cylinder\" pos=\"0 0 .02\" size=\"0.004 .008\"/>\n",
        "      <geom name=\"ballast\" type=\"box\" size=\".023 .023 0.005\"  pos=\"0 0 -.015\" \n",
        "       contype=\"0\" conaffinity=\"0\" group=\"3\"/>\n",
        "    </body>\n",
        "  </worldbody>\n",
        "  <keyframe>\n",
        "    <key name=\"spinning\" qpos=\"0 0 0.02 1 0 0 0\" qvel=\"0 0 0 0 1 200\" />\n",
        "  </keyframe>\n",
        "</mujoco>\n",
        "\"\"\"\n",
        "physics = mujoco.Physics.from_xml_string(tippe_top)\n",
        "PIL.Image.fromarray(physics.render(camera_id='closeup'))"
      ]
    },
    {
      "cell_type": "markdown",
      "metadata": {
        "id": "bvHlr6maJYIG"
      },
      "source": [
        "Note several new features of this model definition:\n",
        "0. The free joint is added with the `<freejoint/>` clause, which is similar to `<joint type=\"free\"/>`, but prohibits unphysical attributes like friction or stiffness.\n",
        "1. We use the `<option/>` clause to set the integrator to the more accurate Runge Kutta 4th order.\n",
        "2. We define the floor's grid material inside the `<asset/>` clause and reference it in the floor geom. \n",
        "3. We use an invisible and non-colliding box geom called `ballast` to move the top's center-of-mass lower. Having a low center of mass is  (counter-intuitively) required for the flipping behaviour to occur.\n",
        "4. We save our initial spinning state as a keyframe. It has a high rotational velocity around the z-axis, but is not perfectly oriented with the world.\n",
        "5. We define a `<camera>` in our model, and then render from it using the `camera_id` argument to `render()`.\n",
        "Let us examine the state:"
      ]
    },
    {
      "cell_type": "code",
      "execution_count": null,
      "metadata": {
        "id": "o4S9nYhHOKmb"
      },
      "outputs": [],
      "source": [
        "print('positions', physics.data.qpos)\n",
        "print('velocities', physics.data.qvel)"
      ]
    },
    {
      "cell_type": "markdown",
      "metadata": {
        "id": "71UgzBAqWdtZ"
      },
      "source": [
        "The velocities are easy to interpret, 6 zeros, one for each DOF. What about the length-7 positions? We can see the initial 2cm height of the body; the subsequent four numbers are the 3D orientation, defined by a *unit quaternion*. These normalized four-vectors, which preserve the topology of the orientation group, are the reason that `data.qpos` can be bigger than `data.qvel`: 3D orientations are represented with **4** numbers while angular velocities are **3** numbers."
      ]
    },
    {
      "cell_type": "code",
      "execution_count": null,
      "metadata": {
        "id": "5P4HkhKNGQvs"
      },
      "outputs": [],
      "source": [
        "#@title Video of the tippe-top {vertical-output: true}\n",
        "\n",
        "duration = 7    # (seconds)\n",
        "framerate = 60  # (Hz)\n",
        "\n",
        "# Simulate and display video.\n",
        "frames = []\n",
        "physics.reset(0)  # Reset to keyframe 0 (load a saved state).\n",
        "while physics.data.time < duration:\n",
        "  physics.step()\n",
        "  if len(frames) < (physics.data.time) * framerate:\n",
        "    pixels = physics.render(camera_id='closeup')\n",
        "    frames.append(pixels)\n",
        "\n",
        "display_video(frames, framerate)"
      ]
    },
    {
      "cell_type": "markdown",
      "metadata": {
        "id": "rRuFKD2ubPgu"
      },
      "source": [
        "### Measuring values from `physics.data`\n",
        "The `physics.data` structure contains all of the dynamic variables and intermediate results produced by the simulation. These are expected to change on each timestep. \n",
        "\n",
        "Below we simulate for 2000 timesteps and plot the state and height of the sphere as a function of time."
      ]
    },
    {
      "cell_type": "code",
      "execution_count": null,
      "metadata": {
        "id": "1XXB6asJoZ2N"
      },
      "outputs": [],
      "source": [
        "#@title Measuring values {vertical-output: true}\n",
        "\n",
        "timevals = []\n",
        "angular_velocity = []\n",
        "stem_height = []\n",
        "\n",
        "# Simulate and save data\n",
        "physics.reset(0)\n",
        "while physics.data.time < duration:\n",
        "  physics.step()\n",
        "  timevals.append(physics.data.time)\n",
        "  angular_velocity.append(physics.data.qvel[3:6].copy())\n",
        "  stem_height.append(physics.named.data.geom_xpos['stem', 'z'])\n",
        "\n",
        "dpi = 100\n",
        "width = 480\n",
        "height = 640\n",
        "figsize = (width / dpi, height / dpi)\n",
        "_, ax = plt.subplots(2, 1, figsize=figsize, dpi=dpi, sharex=True)\n",
        "\n",
        "ax[0].plot(timevals, angular_velocity)\n",
        "ax[0].set_title('angular velocity')\n",
        "ax[0].set_ylabel('radians / second')\n",
        "\n",
        "ax[1].plot(timevals, stem_height)\n",
        "ax[1].set_xlabel('time (seconds)')\n",
        "ax[1].set_ylabel('meters')\n",
        "_ = ax[1].set_title('stem height')"
      ]
    },
    {
      "cell_type": "markdown",
      "metadata": {
        "id": "UAMItwu8e1WR"
      },
      "source": [
        "# PyMJCF tutorial\n",
        "\n",
        "\n"
      ]
    },
    {
      "cell_type": "markdown",
      "metadata": {
        "id": "hPiY8m3MssKM"
      },
      "source": [
        "This library provides a Python object model for MuJoCo's XML-based\n",
        "[MJCF](http://www.mujoco.org/book/modeling.html) physics modeling language. The\n",
        "goal of the library is to allow users to easily interact with and modify MJCF\n",
        "models in Python, similarly to what the JavaScript DOM does for HTML.\n",
        "\n",
        "A key feature of this library is the ability to easily compose multiple separate\n",
        "MJCF models into a larger one. Disambiguation of duplicated names from different\n",
        "models, or multiple instances of the same model, is handled automatically.\n",
        "\n",
        "One typical use case is when we want robots with a variable number of joints. This is a fundamental change to the kinematics, requiring a new XML descriptor and new binary model to be compiled. \n",
        "\n",
        "The following snippets realise this scenario and provide a quick example of this library's use case."
      ]
    },
    {
      "cell_type": "code",
      "execution_count": null,
      "metadata": {
        "id": "gKny5EJ4uVzu"
      },
      "outputs": [],
      "source": [
        "class Leg(object):\n",
        "  \"\"\"A 2-DoF leg with position actuators.\"\"\"\n",
        "  def __init__(self, length, rgba):\n",
        "    self.model = mjcf.RootElement()\n",
        "\n",
        "    # Defaults:\n",
        "    self.model.default.joint.damping = 2\n",
        "    self.model.default.joint.type = 'hinge'\n",
        "    self.model.default.geom.type = 'capsule'\n",
        "    self.model.default.geom.rgba = rgba  # Continued below...\n",
        "\n",
        "    # Thigh:\n",
        "    self.thigh = self.model.worldbody.add('body')\n",
        "    self.hip = self.thigh.add('joint', axis=[0, 0, 1])\n",
        "    self.thigh.add('geom', fromto=[0, 0, 0, length, 0, 0], size=[length/4])\n",
        "\n",
        "    # Hip:\n",
        "    self.shin = self.thigh.add('body', pos=[length, 0, 0])\n",
        "    self.knee = self.shin.add('joint', axis=[0, 1, 0])\n",
        "    self.shin.add('geom', fromto=[0, 0, 0, 0, 0, -length], size=[length/5])\n",
        "\n",
        "    # Position actuators:\n",
        "    self.model.actuator.add('position', joint=self.hip, kp=10)\n",
        "    self.model.actuator.add('position', joint=self.knee, kp=10)"
      ]
    },
    {
      "cell_type": "markdown",
      "metadata": {
        "id": "cFJerI--UtTy"
      },
      "source": [
        "The `Leg` class describes an abstract articulated leg, with two joints and corresponding proportional-derivative actuators. \n",
        "\n",
        "Note that:\n",
        "\n",
        "- MJCF attributes correspond directly to arguments of the `add()` method.\n",
        "- When referencing elements, e.g when specifying the joint to which an actuator is attached, the MJCF element itself is used, rather than the name string."
      ]
    },
    {
      "cell_type": "code",
      "execution_count": null,
      "metadata": {
        "cellView": "both",
        "id": "SESlL_TidKHx"
      },
      "outputs": [],
      "source": [
        "BODY_RADIUS = 0.1\n",
        "BODY_SIZE = (BODY_RADIUS, BODY_RADIUS, BODY_RADIUS / 2)\n",
        "random_state = np.random.RandomState(42)\n",
        "\n",
        "def make_creature(num_legs):\n",
        "  \"\"\"Constructs a creature with `num_legs` legs.\"\"\"\n",
        "  rgba = random_state.uniform([0, 0, 0, 1], [1, 1, 1, 1])\n",
        "  model = mjcf.RootElement()\n",
        "  model.compiler.angle = 'radian'  # Use radians.\n",
        "\n",
        "  # Make the torso geom.\n",
        "  model.worldbody.add(\n",
        "      'geom', name='torso', type='ellipsoid', size=BODY_SIZE, rgba=rgba)\n",
        "\n",
        "  # Attach legs to equidistant sites on the circumference.\n",
        "  for i in range(num_legs):\n",
        "    theta = 2 * i * np.pi / num_legs\n",
        "    hip_pos = BODY_RADIUS * np.array([np.cos(theta), np.sin(theta), 0])\n",
        "    hip_site = model.worldbody.add('site', pos=hip_pos, euler=[0, 0, theta])\n",
        "    leg = Leg(length=BODY_RADIUS, rgba=rgba)\n",
        "    hip_site.attach(leg.model)\n",
        "\n",
        "  return model"
      ]
    },
    {
      "cell_type": "markdown",
      "metadata": {
        "id": "elyuJiI3U3kM"
      },
      "source": [
        "The `make_creature` function uses PyMJCF's `attach()` method to procedurally attach legs to the torso. Note that at this stage both the torso and hip attachment sites are children of the `worldbody`, since their parent body has yet to be instantiated. We'll now make an arena with a chequered floor and two lights, and place our creatures in a grid."
      ]
    },
    {
      "cell_type": "code",
      "execution_count": null,
      "metadata": {
        "id": "F7_Tx9P9U_VJ"
      },
      "outputs": [],
      "source": [
        "#@title Six Creatures on a floor.{vertical-output: true}\n",
        "\n",
        "arena = mjcf.RootElement()\n",
        "chequered = arena.asset.add('texture', type='2d', builtin='checker', width=300,\n",
        "                            height=300, rgb1=[.2, .3, .4], rgb2=[.3, .4, .5])\n",
        "grid = arena.asset.add('material', name='grid', texture=chequered,\n",
        "                       texrepeat=[5, 5], reflectance=.2)\n",
        "arena.worldbody.add('geom', type='plane', size=[2, 2, .1], material=grid)\n",
        "for x in [-2, 2]:\n",
        "  arena.worldbody.add('light', pos=[x, -1, 3], dir=[-x, 1, -2])\n",
        "\n",
        "# Instantiate 6 creatures with 3 to 8 legs.\n",
        "creatures = [make_creature(num_legs=num_legs) for num_legs in range(3, 9)]\n",
        "\n",
        "# Place them on a grid in the arena.\n",
        "height = .15\n",
        "grid = 5 * BODY_RADIUS\n",
        "xpos, ypos, zpos = np.meshgrid([-grid, 0, grid], [0, grid], [height])\n",
        "for i, model in enumerate(creatures):\n",
        "  # Place spawn sites on a grid.\n",
        "  spawn_pos = (xpos.flat[i], ypos.flat[i], zpos.flat[i])\n",
        "  spawn_site = arena.worldbody.add('site', pos=spawn_pos, group=3)\n",
        "  # Attach to the arena at the spawn sites, with a free joint.\n",
        "  spawn_site.attach(model).add('freejoint')\n",
        "\n",
        "# Instantiate the physics and render.\n",
        "physics = mjcf.Physics.from_mjcf_model(arena)\n",
        "PIL.Image.fromarray(physics.render())"
      ]
    },
    {
      "cell_type": "markdown",
      "metadata": {
        "id": "cMfDaD7PfuoI"
      },
      "source": [
        "Multi-legged creatures, ready to roam! Let's inject some controls and watch them move. We'll generate a sinusoidal open-loop control signal of fixed frequency and random phase, recording both video frames and the horizontal positions of the torso geoms, in order to plot the movement trajectories."
      ]
    },
    {
      "cell_type": "code",
      "execution_count": null,
      "metadata": {
        "id": "8Gx39DMEUZDt"
      },
      "outputs": [],
      "source": [
        "#@title Video of the movement{vertical-output: true}\n",
        "#@test {\"timeout\": 600}\n",
        "\n",
        "duration = 10   # (Seconds)\n",
        "framerate = 30  # (Hz)\n",
        "video = []\n",
        "pos_x = []\n",
        "pos_y = []\n",
        "torsos = []  # List of torso geom elements.\n",
        "actuators = []  # List of actuator elements.\n",
        "for creature in creatures:\n",
        "  torsos.append(creature.find('geom', 'torso'))\n",
        "  actuators.extend(creature.find_all('actuator'))\n",
        "\n",
        "# Control signal frequency, phase, amplitude.\n",
        "freq = 5\n",
        "phase = 2 * np.pi * random_state.rand(len(actuators))\n",
        "amp = 0.9\n",
        "\n",
        "# Simulate, saving video frames and torso locations.\n",
        "physics.reset()\n",
        "while physics.data.time < duration:\n",
        "  # Inject controls and step the physics.\n",
        "  physics.bind(actuators).ctrl = amp * np.sin(freq * physics.data.time + phase)\n",
        "  physics.step()\n",
        "\n",
        "  # Save torso horizontal positions using bind().\n",
        "  pos_x.append(physics.bind(torsos).xpos[:, 0].copy())\n",
        "  pos_y.append(physics.bind(torsos).xpos[:, 1].copy())\n",
        "\n",
        "  # Save video frames.\n",
        "  if len(video) < physics.data.time * framerate:\n",
        "    pixels = physics.render()\n",
        "    video.append(pixels.copy())\n",
        "\n",
        "display_video(video, framerate)"
      ]
    },
    {
      "cell_type": "code",
      "execution_count": null,
      "metadata": {
        "id": "u09JfenWYLZu"
      },
      "outputs": [],
      "source": [
        "#@title Movement trajectories{vertical-output: true}\n",
        "\n",
        "creature_colors = physics.bind(torsos).rgba[:, :3]\n",
        "fig, ax = plt.subplots(figsize=(4, 4))\n",
        "ax.set_prop_cycle(color=creature_colors)\n",
        "_ = ax.plot(pos_x, pos_y, linewidth=4)"
      ]
    },
    {
      "cell_type": "markdown",
      "metadata": {
        "id": "kggQyvNpf_Y9"
      },
      "source": [
        "The plot above shows the corresponding movement trajectories of creature positions. Note how `physics.bind(torsos)` was used to access both `xpos` and `rgba` values. Once the `Physics` had been instantiated by `from_mjcf_model()`, the `bind()` method will expose both the associated `mjData` and `mjModel` fields of an `mjcf` element, providing unified access to all quantities in the simulation. "
      ]
    },
    {
      "cell_type": "markdown",
      "metadata": {
        "id": "wcRX_wu_8q8u"
      },
      "source": [
        "# Composer tutorial"
      ]
    },
    {
      "cell_type": "markdown",
      "metadata": {
        "id": "1DMhNPE5tSdw"
      },
      "source": [
        "In this tutorial we will create a task requiring our \"creature\" above to press a colour-changing button on the floor with a prescribed force. We begin by implementing our creature as a `composer.Entity`:"
      ]
    },
    {
      "cell_type": "code",
      "execution_count": 9,
      "metadata": {
        "id": "WwfzIqgNuFKt"
      },
      "outputs": [],
      "source": [
        "#@title The `Creature` class\n",
        "\n",
        "\n",
        "class Creature(composer.Entity):\n",
        "  \"\"\"A multi-legged creature derived from `composer.Entity`.\"\"\"\n",
        "  def _build(self, num_legs):\n",
        "    self._model = make_creature(num_legs)\n",
        "\n",
        "  def _build_observables(self):\n",
        "    return CreatureObservables(self)\n",
        "\n",
        "  @property\n",
        "  def mjcf_model(self):\n",
        "    return self._model\n",
        "\n",
        "  @property\n",
        "  def actuators(self):\n",
        "    return tuple(self._model.find_all('actuator'))\n",
        "\n",
        "\n",
        "# Add simple observable features for joint angles and velocities.\n",
        "class CreatureObservables(composer.Observables):\n",
        "\n",
        "  @composer.observable\n",
        "  def joint_positions(self):\n",
        "    all_joints = self._entity.mjcf_model.find_all('joint')\n",
        "    return observable.MJCFFeature('qpos', all_joints)\n",
        "\n",
        "  @composer.observable\n",
        "  def joint_velocities(self):\n",
        "    all_joints = self._entity.mjcf_model.find_all('joint')\n",
        "    return observable.MJCFFeature('qvel', all_joints)"
      ]
    },
    {
      "cell_type": "markdown",
      "metadata": {
        "id": "CXZOBK6RkjxH"
      },
      "source": [
        "The `Creature` Entity includes generic Observables for joint angles and velocities. Because `find_all()` is called on the `Creature`'s MJCF model, it will only return the creature's leg joints, and not the \"free\" joint with which it will be attached to the world. Note that Composer Entities should override the `_build` and `_build_observables` methods rather than `__init__`. The implementation of `__init__` in the base class calls `_build` and `_build_observables`, in that order, to ensure that the entity's MJCF model is created before its observables. This was a design choice which allows the user to refer to an observable as an attribute (`entity.observables.foo`) while still making it clear which attributes are observables. The stateful `Button` class derives from `composer.Entity` and implements the `initialize_episode` and `after_substep` callbacks."
      ]
    },
    {
      "cell_type": "code",
      "execution_count": 10,
      "metadata": {
        "id": "BE9VU2EOvR-u"
      },
      "outputs": [],
      "source": [
        "#@title The `Button` class\n",
        "\n",
        "NUM_SUBSTEPS = 25  # The number of physics substeps per control timestep.\n",
        "\n",
        "\n",
        "class Button(composer.Entity):\n",
        "  \"\"\"A button Entity which changes colour when pressed with certain force.\"\"\"\n",
        "  def _build(self, target_force_range=(5, 10)):\n",
        "    self._min_force, self._max_force = target_force_range\n",
        "    self._mjcf_model = mjcf.RootElement()\n",
        "    self._geom = self._mjcf_model.worldbody.add(\n",
        "        'geom', type='cylinder', size=[0.25, 0.02], rgba=[1, 0, 0, 1])\n",
        "    self._site = self._mjcf_model.worldbody.add(\n",
        "        'site', type='cylinder', size=self._geom.size*1.01, rgba=[1, 0, 0, 0])\n",
        "    self._sensor = self._mjcf_model.sensor.add('touch', site=self._site)\n",
        "    self._num_activated_steps = 0\n",
        "\n",
        "  def _build_observables(self):\n",
        "    return ButtonObservables(self)\n",
        "\n",
        "  @property\n",
        "  def mjcf_model(self):\n",
        "    return self._mjcf_model\n",
        "  # Update the activation (and colour) if the desired force is applied.\n",
        "  def _update_activation(self, physics):\n",
        "    current_force = physics.bind(self.touch_sensor).sensordata[0]\n",
        "    self._is_activated = (current_force >= self._min_force and\n",
        "                          current_force <= self._max_force)\n",
        "    physics.bind(self._geom).rgba = (\n",
        "        [0, 1, 0, 1] if self._is_activated else [1, 0, 0, 1])\n",
        "    self._num_activated_steps += int(self._is_activated)\n",
        "\n",
        "  def initialize_episode(self, physics, random_state):\n",
        "    self._reward = 0.0\n",
        "    self._num_activated_steps = 0\n",
        "    self._update_activation(physics)\n",
        "\n",
        "  def after_substep(self, physics, random_state):\n",
        "    self._update_activation(physics)\n",
        "\n",
        "  @property\n",
        "  def touch_sensor(self):\n",
        "    return self._sensor\n",
        "\n",
        "  @property\n",
        "  def num_activated_steps(self):\n",
        "    return self._num_activated_steps\n",
        "\n",
        "\n",
        "class ButtonObservables(composer.Observables):\n",
        "  \"\"\"A touch sensor which averages contact force over physics substeps.\"\"\"\n",
        "  @composer.observable\n",
        "  def touch_force(self):\n",
        "    return observable.MJCFFeature('sensordata', self._entity.touch_sensor,\n",
        "                                  buffer_size=NUM_SUBSTEPS, aggregator='mean')"
      ]
    },
    {
      "cell_type": "markdown",
      "metadata": {
        "id": "D9vB5nCwkyIW"
      },
      "source": [
        "Note how the Button counts the number of sub-steps during which it is pressed with the desired force. It also exposes an `Observable` of the force being applied to the button, whose value is an average of the readings over the physics time-steps.\n",
        "\n",
        "We import some `variation` modules and an arena factory:"
      ]
    },
    {
      "cell_type": "code",
      "execution_count": 11,
      "metadata": {
        "id": "aDTTQMHtVawM"
      },
      "outputs": [],
      "source": [
        "#@title Random initialiser using `composer.variation`\n",
        "\n",
        "\n",
        "class UniformCircle(variation.Variation):\n",
        "  \"\"\"A uniformly sampled horizontal point on a circle of radius `distance`.\"\"\"\n",
        "  def __init__(self, distance):\n",
        "    self._distance = distance\n",
        "    self._heading = distributions.Uniform(0, 2*np.pi)\n",
        "\n",
        "  def __call__(self, initial_value=None, current_value=None, random_state=None):\n",
        "    distance, heading = variation.evaluate(\n",
        "        (self._distance, self._heading), random_state=random_state)\n",
        "    return (distance*np.cos(heading), distance*np.sin(heading), 0)"
      ]
    },
    {
      "cell_type": "code",
      "execution_count": 12,
      "metadata": {
        "id": "dgZwP-pvxJdt"
      },
      "outputs": [],
      "source": [
        "#@title The `PressWithSpecificForce` task\n",
        "\n",
        "\n",
        "class PressWithSpecificForce(composer.Task):\n",
        "\n",
        "  def __init__(self, creature):\n",
        "    self._creature = creature\n",
        "    self._arena = floors.Floor()\n",
        "    self._arena.add_free_entity(self._creature)\n",
        "    self._arena.mjcf_model.worldbody.add('light', pos=(0, 0, 4))\n",
        "    self._button = Button()\n",
        "    self._arena.attach(self._button)\n",
        "\n",
        "    # Configure initial poses\n",
        "    self._creature_initial_pose = (0, 0, 0.15)\n",
        "    button_distance = distributions.Uniform(0.5, .75)\n",
        "    self._button_initial_pose = UniformCircle(button_distance)\n",
        "\n",
        "    # Configure variators\n",
        "    self._mjcf_variator = variation.MJCFVariator()\n",
        "    self._physics_variator = variation.PhysicsVariator()\n",
        "\n",
        "    # Configure and enable observables\n",
        "    pos_corrptor = noises.Additive(distributions.Normal(scale=0.01))\n",
        "    self._creature.observables.joint_positions.corruptor = pos_corrptor\n",
        "    self._creature.observables.joint_positions.enabled = True\n",
        "    vel_corruptor = noises.Multiplicative(distributions.LogNormal(sigma=0.01))\n",
        "    self._creature.observables.joint_velocities.corruptor = vel_corruptor\n",
        "    self._creature.observables.joint_velocities.enabled = True\n",
        "    self._button.observables.touch_force.enabled = True\n",
        "\n",
        "    def to_button(physics):\n",
        "      button_pos, _ = self._button.get_pose(physics)\n",
        "      return self._creature.global_vector_to_local_frame(physics, button_pos)\n",
        "\n",
        "    self._task_observables = {}\n",
        "    self._task_observables['button_position'] = observable.Generic(to_button)\n",
        "\n",
        "    for obs in self._task_observables.values():\n",
        "      obs.enabled = True\n",
        "\n",
        "    self.control_timestep = NUM_SUBSTEPS * self.physics_timestep\n",
        "\n",
        "  @property\n",
        "  def root_entity(self):\n",
        "    return self._arena\n",
        "\n",
        "  @property\n",
        "  def task_observables(self):\n",
        "    return self._task_observables\n",
        "\n",
        "  def initialize_episode_mjcf(self, random_state):\n",
        "    self._mjcf_variator.apply_variations(random_state)\n",
        "\n",
        "  def initialize_episode(self, physics, random_state):\n",
        "    self._physics_variator.apply_variations(physics, random_state)\n",
        "    creature_pose, button_pose = variation.evaluate(\n",
        "        (self._creature_initial_pose, self._button_initial_pose),\n",
        "        random_state=random_state)\n",
        "    self._creature.set_pose(physics, position=creature_pose)\n",
        "    self._button.set_pose(physics, position=button_pose)\n",
        "\n",
        "  def get_reward(self, physics):\n",
        "    return self._button.num_activated_steps / NUM_SUBSTEPS    "
      ]
    },
    {
      "cell_type": "code",
      "execution_count": 13,
      "metadata": {
        "id": "dRuuZdLpthbv"
      },
      "outputs": [
        {
          "ename": "NameError",
          "evalue": "name 'make_creature' is not defined",
          "output_type": "error",
          "traceback": [
            "\u001b[0;31m---------------------------------------------------------------------------\u001b[0m",
            "\u001b[0;31mNameError\u001b[0m                                 Traceback (most recent call last)",
            "Cell \u001b[0;32mIn[13], line 3\u001b[0m\n\u001b[1;32m      1\u001b[0m \u001b[39m#@title Instantiating an environment{vertical-output: true}\u001b[39;00m\n\u001b[0;32m----> 3\u001b[0m creature \u001b[39m=\u001b[39m Creature(num_legs\u001b[39m=\u001b[39;49m\u001b[39m4\u001b[39;49m)\n\u001b[1;32m      4\u001b[0m task \u001b[39m=\u001b[39m PressWithSpecificForce(creature)\n\u001b[1;32m      5\u001b[0m env \u001b[39m=\u001b[39m composer\u001b[39m.\u001b[39mEnvironment(task, random_state\u001b[39m=\u001b[39mnp\u001b[39m.\u001b[39mrandom\u001b[39m.\u001b[39mRandomState(\u001b[39m42\u001b[39m))\n",
            "File \u001b[0;32m~/miniconda3/envs/dm/lib/python3.11/site-packages/dm_control/composer/entity.py:225\u001b[0m, in \u001b[0;36mEntity.__init__\u001b[0;34m(self, *args, **kwargs)\u001b[0m\n\u001b[1;32m    222\u001b[0m \u001b[39mexcept\u001b[39;00m \u001b[39mKeyError\u001b[39;00m:\n\u001b[1;32m    223\u001b[0m   observable_options \u001b[39m=\u001b[39m \u001b[39mNone\u001b[39;00m\n\u001b[0;32m--> 225\u001b[0m \u001b[39mself\u001b[39;49m\u001b[39m.\u001b[39;49m_build(\u001b[39m*\u001b[39;49margs, \u001b[39m*\u001b[39;49m\u001b[39m*\u001b[39;49mkwargs)\n\u001b[1;32m    226\u001b[0m \u001b[39mself\u001b[39m\u001b[39m.\u001b[39m_observables \u001b[39m=\u001b[39m \u001b[39mself\u001b[39m\u001b[39m.\u001b[39m_build_observables()\n\u001b[1;32m    227\u001b[0m \u001b[39mself\u001b[39m\u001b[39m.\u001b[39m_observables\u001b[39m.\u001b[39mset_options(observable_options)\n",
            "Cell \u001b[0;32mIn[9], line 7\u001b[0m, in \u001b[0;36mCreature._build\u001b[0;34m(self, num_legs)\u001b[0m\n\u001b[1;32m      6\u001b[0m \u001b[39mdef\u001b[39;00m \u001b[39m_build\u001b[39m(\u001b[39mself\u001b[39m, num_legs):\n\u001b[0;32m----> 7\u001b[0m   \u001b[39mself\u001b[39m\u001b[39m.\u001b[39m_model \u001b[39m=\u001b[39m make_creature(num_legs)\n",
            "\u001b[0;31mNameError\u001b[0m: name 'make_creature' is not defined"
          ]
        },
        {
          "ename": "",
          "evalue": "",
          "output_type": "error",
          "traceback": [
            "\u001b[1;31mThe Kernel crashed while executing code in the the current cell or a previous cell. Please review the code in the cell(s) to identify a possible cause of the failure. Click <a href='https://aka.ms/vscodeJupyterKernelCrash'>here</a> for more info. View Jupyter <a href='command:jupyter.viewOutput'>log</a> for further details."
          ]
        }
      ],
      "source": [
        "#@title Instantiating an environment{vertical-output: true}\n",
        "\n",
        "creature = Creature(num_legs=4)\n",
        "task = PressWithSpecificForce(creature)\n",
        "env = composer.Environment(task, random_state=np.random.RandomState(42))\n",
        "\n",
        "env.reset()\n",
        "PIL.Image.fromarray(env.physics.render())"
      ]
    },
    {
      "cell_type": "markdown",
      "metadata": {
        "id": "giTL_6euZFlw"
      },
      "source": [
        "# The *Control Suite*"
      ]
    },
    {
      "cell_type": "markdown",
      "metadata": {
        "id": "zfIcrDECtdB2"
      },
      "source": [
        "The **Control Suite** is a set of stable, well-tested tasks designed to serve as a benchmark for continuous control learning agents. Tasks are written using the basic MuJoCo wrapper interface. Standardised action, observation and reward structures make suite-wide benchmarking simple and learning curves easy to interpret. Control Suite domains are not meant to be modified, in order to facilitate benchmarking. For full details regarding benchmarking, please refer to our original [publication](https://arxiv.org/abs/1801.00690).\n",
        "\n",
        "A video of solved benchmark tasks is [available here](https://www.youtube.com/watch?v=rAai4QzcYbs&feature=youtu.be).\n",
        "\n",
        "The suite come with convenient module level tuples for iterating over tasks:"
      ]
    },
    {
      "cell_type": "code",
      "execution_count": null,
      "metadata": {
        "id": "a_whTJG8uTp1"
      },
      "outputs": [],
      "source": [
        "#@title Iterating over tasks{vertical-output: true}\n",
        "\n",
        "max_len = max(len(d) for d, _ in suite.BENCHMARKING)\n",
        "for domain, task in suite.BENCHMARKING:\n",
        "  print(f'{domain:<{max_len}}  {task}')"
      ]
    },
    {
      "cell_type": "code",
      "execution_count": null,
      "metadata": {
        "id": "qN8y3etfZFly"
      },
      "outputs": [],
      "source": [
        "#@title Loading and simulating a `suite` task{vertical-output: true}\n",
        "\n",
        "# Load the environment\n",
        "random_state = np.random.RandomState(42)\n",
        "env = suite.load('hopper', 'stand', task_kwargs={'random': random_state})\n",
        "\n",
        "# Simulate episode with random actions\n",
        "duration = 4  # Seconds\n",
        "frames = []\n",
        "ticks = []\n",
        "rewards = []\n",
        "observations = []\n",
        "\n",
        "spec = env.action_spec()\n",
        "time_step = env.reset()\n",
        "\n",
        "while env.physics.data.time < duration:\n",
        "\n",
        "  action = random_state.uniform(spec.minimum, spec.maximum, spec.shape)\n",
        "  time_step = env.step(action)\n",
        "\n",
        "  camera0 = env.physics.render(camera_id=0, height=200, width=200)\n",
        "  camera1 = env.physics.render(camera_id=1, height=200, width=200)\n",
        "  frames.append(np.hstack((camera0, camera1)))\n",
        "  rewards.append(time_step.reward)\n",
        "  observations.append(copy.deepcopy(time_step.observation))\n",
        "  ticks.append(env.physics.data.time)\n",
        "\n",
        "html_video = display_video(frames, framerate=1./env.control_timestep())\n",
        "\n",
        "# Show video and plot reward and observations\n",
        "num_sensors = len(time_step.observation)\n",
        "\n",
        "_, ax = plt.subplots(1 + num_sensors, 1, sharex=True, figsize=(4, 8))\n",
        "ax[0].plot(ticks, rewards)\n",
        "ax[0].set_ylabel('reward')\n",
        "ax[-1].set_xlabel('time')\n",
        "\n",
        "for i, key in enumerate(time_step.observation):\n",
        "  data = np.asarray([observations[j][key] for j in range(len(observations))])\n",
        "  ax[i+1].plot(ticks, data, label=key)\n",
        "  ax[i+1].set_ylabel(key)\n",
        "\n",
        "html_video"
      ]
    },
    {
      "cell_type": "code",
      "execution_count": null,
      "metadata": {
        "id": "ggVbQr5hZFl5"
      },
      "outputs": [],
      "source": [
        "#@title Visualizing an initial state of one task per domain in the Control Suite\n",
        "domains_tasks = {domain: task for domain, task in suite.ALL_TASKS}\n",
        "random_state = np.random.RandomState(42)\n",
        "num_domains = len(domains_tasks)\n",
        "n_col = num_domains // int(np.sqrt(num_domains))\n",
        "n_row = num_domains // n_col + int(0 < num_domains % n_col)\n",
        "_, ax = plt.subplots(n_row, n_col, figsize=(12, 12))\n",
        "for a in ax.flat:\n",
        "  a.axis('off')\n",
        "  a.grid(False)\n",
        "\n",
        "print(f'Iterating over all {num_domains} domains in the Suite:')\n",
        "for j, [domain, task] in enumerate(domains_tasks.items()):\n",
        "  print(domain, task)\n",
        "\n",
        "  env = suite.load(domain, task, task_kwargs={'random': random_state})\n",
        "  timestep = env.reset()\n",
        "  pixels = env.physics.render(height=200, width=200, camera_id=0)\n",
        "\n",
        "  ax.flat[j].imshow(pixels)\n",
        "  ax.flat[j].set_title(domain + ': ' + task)\n",
        "\n",
        "clear_output()"
      ]
    },
    {
      "cell_type": "markdown",
      "metadata": {
        "id": "JHSvxHiaopDb"
      },
      "source": [
        "# Locomotion"
      ]
    },
    {
      "cell_type": "markdown",
      "metadata": {
        "id": "yTn3C03dpHzL"
      },
      "source": [
        "## Humanoid running along corridor with obstacles\n",
        "\n",
        "As an illustrative example of using the Locomotion infrastructure to build an RL environment, consider placing a humanoid in a corridor with walls, and a task specifying that the humanoid will be rewarded for running along this corridor, navigating around the wall obstacles using vision. We instantiate the environment as a composition of the Walker, Arena, and Task as follows. First, we build a position-controlled CMU humanoid walker. "
      ]
    },
    {
      "cell_type": "code",
      "execution_count": 3,
      "metadata": {
        "id": "gE8rrB7PpN9X"
      },
      "outputs": [],
      "source": [
        "#@title A position controlled `cmu_humanoid`\n",
        "\n",
        "walker = cmu_humanoid.CMUHumanoidPositionControlledV2020(\n",
        "    observable_options={'egocentric_camera': dict(enabled=True)})"
      ]
    },
    {
      "cell_type": "markdown",
      "metadata": {
        "id": "3fYbaDflBrgE"
      },
      "source": [
        "Next, we construct a corridor-shaped arena that is obstructed by walls."
      ]
    },
    {
      "cell_type": "code",
      "execution_count": 4,
      "metadata": {
        "id": "t-O17Fnm3E6R"
      },
      "outputs": [],
      "source": [
        "#@title A corridor arena with wall obstacles\n",
        "\n",
        "arena = corridor_arenas.WallsCorridor(\n",
        "    wall_gap=3.,\n",
        "    wall_width=distributions.Uniform(2., 3.),\n",
        "    wall_height=distributions.Uniform(2.5, 3.5),\n",
        "    corridor_width=4.,\n",
        "    corridor_length=30.,\n",
        ")"
      ]
    },
    {
      "cell_type": "markdown",
      "metadata": {
        "id": "970nN38eBx-R"
      },
      "source": [
        "The task constructor places the walker in the arena."
      ]
    },
    {
      "cell_type": "code",
      "execution_count": 5,
      "metadata": {
        "id": "dz4Jy2UGpQ4Z"
      },
      "outputs": [],
      "source": [
        "#@title A task to navigate the arena\n",
        "\n",
        "task = corridor_tasks.RunThroughCorridor(\n",
        "    walker=walker,\n",
        "    arena=arena,\n",
        "    walker_spawn_position=(0.5, 0, 0),\n",
        "    target_velocity=3.0,\n",
        "    physics_timestep=0.005,\n",
        "    control_timestep=0.03,\n",
        ")"
      ]
    },
    {
      "cell_type": "markdown",
      "metadata": {
        "id": "r-Oy-qTSB4HW"
      },
      "source": [
        "Finally, a task that rewards the agent for running down the corridor at a specific velocity is instantiated as a `composer.Environment`."
      ]
    },
    {
      "cell_type": "code",
      "execution_count": 8,
      "metadata": {
        "id": "sQXlaEZk3ytl"
      },
      "outputs": [
        {
          "data": {
            "image/png": "[encoded data removed]",
            "text/plain": [
              "<PIL.Image.Image image mode=RGB size=720x240>"
            ]
          },
          "execution_count": 8,
          "metadata": {},
          "output_type": "execute_result"
        }
      ],
      "source": [
        "import numpy as np\n",
        "import PIL.Image\n",
        "#@title The `RunThroughCorridor` environment\n",
        "\n",
        "env = composer.Environment(\n",
        "    task=task,\n",
        "    time_limit=10,\n",
        "    random_state=np.random.RandomState(42),\n",
        "    strip_singleton_obs_buffer_dim=True,\n",
        ")\n",
        "env.reset()\n",
        "pixels = []\n",
        "for camera_id in range(3):\n",
        "  pixels.append(env.physics.render(camera_id=camera_id, width=240))\n",
        "PIL.Image.fromarray(np.hstack(pixels))"
      ]
    },
    {
      "cell_type": "markdown",
      "metadata": {
        "id": "HuuQLm8YopDe"
      },
      "source": [
        "## Multi-Agent Soccer"
      ]
    },
    {
      "cell_type": "markdown",
      "metadata": {
        "id": "OPNshDEEopDf"
      },
      "source": [
        "Building on Composer and Locomotion libraries, the Multi-agent soccer environments, introduced in [this paper](https://arxiv.org/abs/1902.07151), follow a consistent task structure of Walkers, Arena, and Task where instead of a single walker, we inject multiple walkers that can interact with each other physically in the same scene. The code snippet below shows how to instantiate a 2-vs-2 Multi-agent Soccer environment with the simple, 5 degree-of-freedom `BoxHead` walker type."
      ]
    },
    {
      "cell_type": "code",
      "execution_count": null,
      "metadata": {
        "id": "zAb3je0DAeQo"
      },
      "outputs": [],
      "source": [
        "#@title 2-v-2 `Boxhead` soccer\n",
        "\n",
        "random_state = np.random.RandomState(42)\n",
        "env = soccer.load(\n",
        "    team_size=2,\n",
        "    time_limit=45.,\n",
        "    random_state=random_state,\n",
        "    disable_walker_contacts=False,\n",
        "    walker_type=soccer.WalkerType.BOXHEAD,\n",
        ")\n",
        "env.reset()\n",
        "pixels = []\n",
        "# Select a random subset of 6 cameras (soccer envs have lots of cameras)\n",
        "cameras = random_state.choice(env.physics.model.ncam, 6, replace=False)\n",
        "for camera_id in cameras:\n",
        "  pixels.append(env.physics.render(camera_id=camera_id, width=240))\n",
        "image = np.vstack((np.hstack(pixels[:3]), np.hstack(pixels[3:])))\n",
        "PIL.Image.fromarray(image)"
      ]
    },
    {
      "cell_type": "markdown",
      "metadata": {
        "id": "J_5C2k0NGvxE"
      },
      "source": [
        " It can trivially be replaced by e.g. the `WalkerType.ANT` walker:"
      ]
    },
    {
      "cell_type": "code",
      "execution_count": null,
      "metadata": {
        "id": "WDIGodhBG-Mn"
      },
      "outputs": [],
      "source": [
        "#@title 3-v-3 `Ant` soccer\n",
        "\n",
        "random_state = np.random.RandomState(42)\n",
        "env = soccer.load(\n",
        "    team_size=3,\n",
        "    time_limit=45.,\n",
        "    random_state=random_state,\n",
        "    disable_walker_contacts=False,\n",
        "    walker_type=soccer.WalkerType.ANT,\n",
        ")\n",
        "env.reset()\n",
        "\n",
        "pixels = []\n",
        "cameras = random_state.choice(env.physics.model.ncam, 6, replace=False)\n",
        "for camera_id in cameras:\n",
        "  pixels.append(env.physics.render(camera_id=camera_id, width=240))\n",
        "image = np.vstack((np.hstack(pixels[:3]), np.hstack(pixels[3:])))\n",
        "PIL.Image.fromarray(image)"
      ]
    },
    {
      "cell_type": "markdown",
      "metadata": {
        "id": "MvK9BW4A5c9p"
      },
      "source": [
        "# Manipulation"
      ]
    },
    {
      "cell_type": "markdown",
      "metadata": {
        "id": "jPt27n2Dch_m"
      },
      "source": [
        "The `manipulation` module provides a robotic arm, a set of simple objects, and tools for building reward functions for manipulation tasks."
      ]
    },
    {
      "cell_type": "code",
      "execution_count": null,
      "metadata": {
        "id": "cZxmJoovahCA"
      },
      "outputs": [],
      "source": [
        "#@title Listing all `manipulation` tasks{vertical-output: true}\n",
        "\n",
        "# `ALL` is a tuple containing the names of all of the environments in the suite.\n",
        "print('\\n'.join(manipulation.ALL))"
      ]
    },
    {
      "cell_type": "code",
      "execution_count": null,
      "metadata": {
        "id": "oj0cJFlR5nTS"
      },
      "outputs": [],
      "source": [
        "#@title Listing `manipulation` tasks that use vision{vertical-output: true}\n",
        "print('\\n'.join(manipulation.get_environments_by_tag('vision')))"
      ]
    },
    {
      "cell_type": "code",
      "execution_count": null,
      "metadata": {
        "id": "e_6q4FqFIKxy"
      },
      "outputs": [],
      "source": [
        "#@title Loading and simulating a `manipulation` task{vertical-output: true}\n",
        "\n",
        "env = manipulation.load('stack_2_of_3_bricks_random_order_vision', seed=42)\n",
        "action_spec = env.action_spec()\n",
        "\n",
        "def sample_random_action():\n",
        "  return env.random_state.uniform(\n",
        "      low=action_spec.minimum,\n",
        "      high=action_spec.maximum,\n",
        "  ).astype(action_spec.dtype, copy=False)\n",
        "\n",
        "# Step the environment through a full episode using random actions and record\n",
        "# the camera observations.\n",
        "frames = []\n",
        "timestep = env.reset()\n",
        "frames.append(timestep.observation['front_close'])\n",
        "while not timestep.last():\n",
        "  timestep = env.step(sample_random_action())\n",
        "  frames.append(timestep.observation['front_close'])\n",
        "all_frames = np.concatenate(frames, axis=0)\n",
        "display_video(all_frames, 30)"
      ]
    },
    {
      "cell_type": "code",
      "execution_count": null,
      "metadata": {},
      "outputs": [],
      "source": []
    }
  ],
  "metadata": {
    "accelerator": "GPU",
    "colab": {
      "collapsed_sections": [
        "YkBQUjm6gbGF",
        "YvyGCsgSCxHQ",
        "wtDN43hIJh2C",
        "jZXz9rPYGA-Y",
        "MdUF2UYmR4TA",
        "nQ8XOnRQx7T1",
        "gf9h_wi9weet",
        "NCcZxrDDB1Cj",
        "t5hY0fyXFLcf",
        "Z0UodCxS_v49",
        "22ENjtVuhwsm",
        "SHppAOjvSupc",
        "rRuFKD2ubPgu",
        "UAMItwu8e1WR",
        "wcRX_wu_8q8u",
        "giTL_6euZFlw",
        "JHSvxHiaopDb",
        "yTn3C03dpHzL",
        "HuuQLm8YopDe",
        "MvK9BW4A5c9p"
      ],
      "name": "dm_control",
      "private_outputs": true,
      "provenance": [],
      "toc_visible": true
    },
    "kernelspec": {
      "display_name": "Python 3",
      "name": "python3"
    },
    "language_info": {
      "codemirror_mode": {
        "name": "ipython",
        "version": 3
      },
      "file_extension": ".py",
      "mimetype": "text/x-python",
      "name": "python",
      "nbconvert_exporter": "python",
      "pygments_lexer": "ipython3",
      "version": "3.11.3"
    }
  },
  "nbformat": 4,
  "nbformat_minor": 0
}
