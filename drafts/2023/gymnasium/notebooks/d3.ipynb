{
 "cells": [
  {
   "cell_type": "code",
   "execution_count": 3,
   "metadata": {},
   "outputs": [
    {
     "name": "stdout",
     "output_type": "stream",
     "text": [
      "Requirement already satisfied: numpy in /Users/jackmckew/miniconda3/envs/d3/lib/python3.11/site-packages (1.24.2)\n",
      "Collecting cython\n",
      "  Using cached Cython-0.29.34-py2.py3-none-any.whl (988 kB)\n",
      "Installing collected packages: cython\n",
      "Successfully installed cython-0.29.34\n",
      "Collecting d3rlpy\n",
      "  Using cached d3rlpy-1.1.1.tar.gz (317 kB)\n",
      "  Preparing metadata (setup.py) ... \u001b[?25ldone\n",
      "\u001b[?25hCollecting torch\n",
      "  Using cached torch-2.0.0-cp311-none-macosx_11_0_arm64.whl (55.8 MB)\n",
      "Collecting scikit-learn\n",
      "  Downloading scikit_learn-1.2.2-cp311-cp311-macosx_12_0_arm64.whl (8.4 MB)\n",
      "\u001b[2K     \u001b[90m━━━━━━━━━━━━━━━━━━━━━━━━━━━━━━━━━━━━━━━━\u001b[0m \u001b[32m8.4/8.4 MB\u001b[0m \u001b[31m6.4 MB/s\u001b[0m eta \u001b[36m0:00:00\u001b[0m00:01\u001b[0m00:01\u001b[0m\n",
      "\u001b[?25hCollecting tensorboardX\n",
      "  Downloading tensorboardX-2.6-py2.py3-none-any.whl (114 kB)\n",
      "\u001b[2K     \u001b[90m━━━━━━━━━━━━━━━━━━━━━━━━━━━━━━━━━━━━━━━\u001b[0m \u001b[32m114.5/114.5 kB\u001b[0m \u001b[31m5.2 MB/s\u001b[0m eta \u001b[36m0:00:00\u001b[0m\n",
      "\u001b[?25hCollecting tqdm\n",
      "  Using cached tqdm-4.65.0-py3-none-any.whl (77 kB)\n",
      "Collecting h5py\n",
      "  Using cached h5py-3.8.0-cp311-cp311-macosx_11_0_arm64.whl (2.6 MB)\n",
      "Collecting gym\n",
      "  Using cached gym-0.26.2.tar.gz (721 kB)\n",
      "  Installing build dependencies ... \u001b[?25ldone\n",
      "\u001b[?25h  Getting requirements to build wheel ... \u001b[?25ldone\n",
      "\u001b[?25h  Preparing metadata (pyproject.toml) ... \u001b[?25ldone\n",
      "\u001b[?25hCollecting click\n",
      "  Using cached click-8.1.3-py3-none-any.whl (96 kB)\n",
      "Requirement already satisfied: typing-extensions in /Users/jackmckew/miniconda3/envs/d3/lib/python3.11/site-packages (from d3rlpy) (4.5.0)\n",
      "Collecting scipy\n",
      "  Using cached scipy-1.10.1-cp311-cp311-macosx_12_0_arm64.whl (28.7 MB)\n",
      "Collecting structlog\n",
      "  Downloading structlog-23.1.0-py3-none-any.whl (62 kB)\n",
      "\u001b[2K     \u001b[90m━━━━━━━━━━━━━━━━━━━━━━━━━━━━━━━━━━━━━━━━\u001b[0m \u001b[32m62.4/62.4 kB\u001b[0m \u001b[31m3.7 MB/s\u001b[0m eta \u001b[36m0:00:00\u001b[0m\n",
      "\u001b[?25hCollecting colorama\n",
      "  Downloading colorama-0.4.6-py2.py3-none-any.whl (25 kB)\n",
      "Requirement already satisfied: numpy>=1.18.0 in /Users/jackmckew/miniconda3/envs/d3/lib/python3.11/site-packages (from gym->d3rlpy) (1.24.2)\n",
      "Collecting cloudpickle>=1.2.0\n",
      "  Using cached cloudpickle-2.2.1-py3-none-any.whl (25 kB)\n",
      "Collecting gym-notices>=0.0.4\n",
      "  Using cached gym_notices-0.0.8-py3-none-any.whl (3.0 kB)\n",
      "Collecting joblib>=1.1.1\n",
      "  Using cached joblib-1.2.0-py3-none-any.whl (297 kB)\n",
      "Collecting threadpoolctl>=2.0.0\n",
      "  Downloading threadpoolctl-3.1.0-py3-none-any.whl (14 kB)\n",
      "Requirement already satisfied: packaging in /Users/jackmckew/miniconda3/envs/d3/lib/python3.11/site-packages (from tensorboardX->d3rlpy) (23.1)\n",
      "Collecting protobuf<4,>=3.8.0\n",
      "  Using cached protobuf-3.20.3-py2.py3-none-any.whl (162 kB)\n",
      "Collecting filelock\n",
      "  Using cached filelock-3.11.0-py3-none-any.whl (10.0 kB)\n",
      "Collecting sympy\n",
      "  Using cached sympy-1.11.1-py3-none-any.whl (6.5 MB)\n",
      "Collecting networkx\n",
      "  Using cached networkx-3.1-py3-none-any.whl (2.1 MB)\n",
      "Requirement already satisfied: jinja2 in /Users/jackmckew/miniconda3/envs/d3/lib/python3.11/site-packages (from torch->d3rlpy) (3.1.2)\n",
      "Requirement already satisfied: MarkupSafe>=2.0 in /Users/jackmckew/miniconda3/envs/d3/lib/python3.11/site-packages (from jinja2->torch->d3rlpy) (2.1.2)\n",
      "Collecting mpmath>=0.19\n",
      "  Using cached mpmath-1.3.0-py3-none-any.whl (536 kB)\n",
      "Building wheels for collected packages: d3rlpy, gym\n",
      "  Building wheel for d3rlpy (setup.py) ... \u001b[?25ldone\n",
      "\u001b[?25h  Created wheel for d3rlpy: filename=d3rlpy-1.1.1-cp311-cp311-macosx_11_0_arm64.whl size=335962 sha256=8f3f1f685a7c140043e8ca093a56399cc6484ff2e57ea8f93733de17532cd73d\n",
      "  Stored in directory: /Users/jackmckew/Library/Caches/pip/wheels/3a/88/f9/1be747c4e9248e0e977e1f9ccd696ef4aaad8d001fc4ec112c\n",
      "  Building wheel for gym (pyproject.toml) ... \u001b[?25ldone\n",
      "\u001b[?25h  Created wheel for gym: filename=gym-0.26.2-py3-none-any.whl size=827632 sha256=b2771dae4b4aa5ba4b6ce1172bca77d44f567275d2c67cabc90b6776d84afcbc\n",
      "  Stored in directory: /Users/jackmckew/Library/Caches/pip/wheels/1c/77/9e/9af5470201a0b0543937933ee99ba884cd237d2faefe8f4d37\n",
      "Successfully built d3rlpy gym\n",
      "Installing collected packages: mpmath, gym-notices, tqdm, threadpoolctl, sympy, structlog, scipy, protobuf, networkx, joblib, h5py, filelock, colorama, cloudpickle, click, torch, tensorboardX, scikit-learn, gym, d3rlpy\n",
      "\u001b[31mERROR: pip's dependency resolver does not currently take into account all the packages that are installed. This behaviour is the source of the following dependency conflicts.\n",
      "tensorflow-probability 0.19.0 requires absl-py, which is not installed.\n",
      "tensorflow-probability 0.19.0 requires dm-tree, which is not installed.\n",
      "tf-agents 0.5.0 requires absl-py>=0.6.1, which is not installed.\u001b[0m\u001b[31m\n",
      "\u001b[0mSuccessfully installed click-8.1.3 cloudpickle-2.2.1 colorama-0.4.6 d3rlpy-1.1.1 filelock-3.11.0 gym-0.26.2 gym-notices-0.0.8 h5py-3.8.0 joblib-1.2.0 mpmath-1.3.0 networkx-3.1 protobuf-3.20.3 scikit-learn-1.2.2 scipy-1.10.1 structlog-23.1.0 sympy-1.11.1 tensorboardX-2.6 threadpoolctl-3.1.0 torch-2.0.0 tqdm-4.65.0\n"
     ]
    }
   ],
   "source": [
    "!pip install numpy\n",
    "!pip install cython\n",
    "!pip install d3rlpy"
   ]
  },
  {
   "cell_type": "code",
   "execution_count": 1,
   "metadata": {},
   "outputs": [
    {
     "ename": "ImportError",
     "evalue": "cannot import name 'get_pybullet' from 'd3rlpy.datasets' (/Users/jackmckew/miniconda3/envs/d3/lib/python3.11/site-packages/d3rlpy/datasets.py)",
     "output_type": "error",
     "traceback": [
      "\u001b[0;31m---------------------------------------------------------------------------\u001b[0m",
      "\u001b[0;31mImportError\u001b[0m                               Traceback (most recent call last)",
      "Cell \u001b[0;32mIn[1], line 3\u001b[0m\n\u001b[1;32m      1\u001b[0m \u001b[39mfrom\u001b[39;00m \u001b[39md3rlpy\u001b[39;00m\u001b[39m.\u001b[39;00m\u001b[39mdatasets\u001b[39;00m \u001b[39mimport\u001b[39;00m get_cartpole \u001b[39m# CartPole-v0 dataset\u001b[39;00m\n\u001b[1;32m      2\u001b[0m \u001b[39mfrom\u001b[39;00m \u001b[39md3rlpy\u001b[39;00m\u001b[39m.\u001b[39;00m\u001b[39mdatasets\u001b[39;00m \u001b[39mimport\u001b[39;00m get_pendulum \u001b[39m# Pendulum-v0 dataset\u001b[39;00m\n\u001b[0;32m----> 3\u001b[0m \u001b[39mfrom\u001b[39;00m \u001b[39md3rlpy\u001b[39;00m\u001b[39m.\u001b[39;00m\u001b[39mdatasets\u001b[39;00m \u001b[39mimport\u001b[39;00m get_pybullet \u001b[39m# PyBullet task datasets\u001b[39;00m\n\u001b[1;32m      4\u001b[0m \u001b[39mfrom\u001b[39;00m \u001b[39md3rlpy\u001b[39;00m\u001b[39m.\u001b[39;00m\u001b[39mdatasets\u001b[39;00m \u001b[39mimport\u001b[39;00m get_atari    \u001b[39m# Atari 2600 task datasets\u001b[39;00m\n",
      "\u001b[0;31mImportError\u001b[0m: cannot import name 'get_pybullet' from 'd3rlpy.datasets' (/Users/jackmckew/miniconda3/envs/d3/lib/python3.11/site-packages/d3rlpy/datasets.py)"
     ]
    }
   ],
   "source": [
    "from d3rlpy.datasets import get_cartpole # CartPole-v0 dataset\n",
    "from d3rlpy.datasets import get_pendulum # Pendulum-v0 dataset\n",
    "from d3rlpy.datasets import get_pybullet # PyBullet task datasets\n",
    "from d3rlpy.datasets import get_atari    # Atari 2600 task datasets"
   ]
  },
  {
   "cell_type": "code",
   "execution_count": 6,
   "metadata": {},
   "outputs": [
    {
     "name": "stdout",
     "output_type": "stream",
     "text": [
      "Downloading cartpole.pkl into d3rlpy_data/cartpole_replay_v1.1.0.h5...\n"
     ]
    },
    {
     "name": "stderr",
     "output_type": "stream",
     "text": [
      "/Users/jackmckew/miniconda3/envs/d3/lib/python3.11/site-packages/gym/envs/registration.py:555: UserWarning: \u001b[33mWARN: The environment CartPole-v0 is out of date. You should consider upgrading to version `v1`.\u001b[0m\n",
      "  logger.warn(\n"
     ]
    }
   ],
   "source": [
    "dataset, env = get_cartpole()"
   ]
  },
  {
   "cell_type": "code",
   "execution_count": 7,
   "metadata": {},
   "outputs": [],
   "source": [
    "from sklearn.model_selection import train_test_split\n",
    "\n",
    "train_episodes, test_episodes = train_test_split(dataset, test_size=0.2)"
   ]
  },
  {
   "cell_type": "code",
   "execution_count": null,
   "metadata": {},
   "outputs": [],
   "source": [
    "from d3rlpy.algos import DQN\n",
    "\n",
    "# if you don't use GPU, set use_gpu=False instead.\n",
    "dqn = DQN(n_epochs=10, use_gpu=False)"
   ]
  }
 ],
 "metadata": {
  "kernelspec": {
   "display_name": "d3",
   "language": "python",
   "name": "python3"
  },
  "language_info": {
   "codemirror_mode": {
    "name": "ipython",
    "version": 3
   },
   "file_extension": ".py",
   "mimetype": "text/x-python",
   "name": "python",
   "nbconvert_exporter": "python",
   "pygments_lexer": "ipython3",
   "version": "3.11.3"
  },
  "orig_nbformat": 4
 },
 "nbformat": 4,
 "nbformat_minor": 2
}
