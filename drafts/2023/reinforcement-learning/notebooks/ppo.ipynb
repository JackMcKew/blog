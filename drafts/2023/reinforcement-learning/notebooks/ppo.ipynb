{
 "cells": [
  {
   "cell_type": "code",
   "execution_count": 1,
   "metadata": {},
   "outputs": [
    {
     "name": "stdout",
     "output_type": "stream",
     "text": [
      "Requirement already satisfied: moviepy in /Users/jackmckew/miniconda3/envs/d3/lib/python3.11/site-packages (1.0.3)\n",
      "Requirement already satisfied: decorator<5.0,>=4.0.2 in /Users/jackmckew/miniconda3/envs/d3/lib/python3.11/site-packages (from moviepy) (4.4.2)\n",
      "Requirement already satisfied: tqdm<5.0,>=4.11.2 in /Users/jackmckew/miniconda3/envs/d3/lib/python3.11/site-packages (from moviepy) (4.65.0)\n",
      "Requirement already satisfied: requests<3.0,>=2.8.1 in /Users/jackmckew/miniconda3/envs/d3/lib/python3.11/site-packages (from moviepy) (2.28.2)\n",
      "Requirement already satisfied: proglog<=1.0.0 in /Users/jackmckew/miniconda3/envs/d3/lib/python3.11/site-packages (from moviepy) (0.1.10)\n",
      "Requirement already satisfied: numpy>=1.17.3 in /Users/jackmckew/miniconda3/envs/d3/lib/python3.11/site-packages (from moviepy) (1.24.2)\n",
      "Requirement already satisfied: imageio<3.0,>=2.5 in /Users/jackmckew/miniconda3/envs/d3/lib/python3.11/site-packages (from moviepy) (2.27.0)\n",
      "Requirement already satisfied: imageio-ffmpeg>=0.2.0 in /Users/jackmckew/miniconda3/envs/d3/lib/python3.11/site-packages (from moviepy) (0.4.8)\n",
      "Requirement already satisfied: pillow>=8.3.2 in /Users/jackmckew/miniconda3/envs/d3/lib/python3.11/site-packages (from imageio<3.0,>=2.5->moviepy) (9.5.0)\n",
      "Requirement already satisfied: charset-normalizer<4,>=2 in /Users/jackmckew/miniconda3/envs/d3/lib/python3.11/site-packages (from requests<3.0,>=2.8.1->moviepy) (3.1.0)\n",
      "Requirement already satisfied: idna<4,>=2.5 in /Users/jackmckew/miniconda3/envs/d3/lib/python3.11/site-packages (from requests<3.0,>=2.8.1->moviepy) (3.4)\n",
      "Requirement already satisfied: urllib3<1.27,>=1.21.1 in /Users/jackmckew/miniconda3/envs/d3/lib/python3.11/site-packages (from requests<3.0,>=2.8.1->moviepy) (1.26.15)\n",
      "Requirement already satisfied: certifi>=2017.4.17 in /Users/jackmckew/miniconda3/envs/d3/lib/python3.11/site-packages (from requests<3.0,>=2.8.1->moviepy) (2022.12.7)\n"
     ]
    }
   ],
   "source": [
    "\n",
    "# # https://github.com/DLR-RM/stable-baselines3/pull/780\n",
    "!pip install gymnasium\n",
    "!pip install 'gymnasium[mujoco]'\n",
    "!pip install matplotlib\n",
    "!pip3 install torch torchvision torchaudio\n",
    "!pip install \"sb3_contrib>=2.0.0a1\" --upgrade\n",
    "!pip install moviepy"
   ]
  },
  {
   "cell_type": "code",
   "execution_count": 2,
   "metadata": {},
   "outputs": [],
   "source": [
    "from stable_baselines3 import TD3\n",
    "from stable_baselines3.common.monitor import Monitor\n",
    "from stable_baselines3.common.results_plotter import load_results, ts2xy\n",
    "from stable_baselines3.common.noise import NormalActionNoise\n",
    "from stable_baselines3.common.callbacks import BaseCallback\n",
    "import gymnasium as gym\n",
    "from stable_baselines3 import PPO\n",
    "from torch import nn\n",
    "\n",
    "import os\n",
    "\n",
    "import numpy as np\n",
    "import time\n",
    "timestr = time.strftime(\"%Y%m%d-%H%M%S\")\n",
    "class SaveOnBestTrainingRewardCallback(BaseCallback):\n",
    "    \"\"\"\n",
    "    Callback for saving a model (the check is done every ``check_freq`` steps)\n",
    "    based on the training reward (in practice, we recommend using ``EvalCallback``).\n",
    "\n",
    "    :param check_freq: (int)\n",
    "    :param log_dir: (str) Path to the folder where the model will be saved.\n",
    "      It must contains the file created by the ``Monitor`` wrapper.\n",
    "    :param verbose: (int)\n",
    "    \"\"\"\n",
    "\n",
    "    def __init__(self,env_name:str, check_freq: int, log_dir: str, verbose=1):\n",
    "        super().__init__(verbose)\n",
    "        self.check_freq = check_freq\n",
    "        self.log_dir = log_dir\n",
    "        self.save_path = os.path.join(log_dir, f\"{timestr}_{env_name}\")\n",
    "        self.best_mean_reward = -np.inf\n",
    "\n",
    "    def _init_callback(self) -> None:\n",
    "        # Create folder if needed\n",
    "        if self.save_path is not None:\n",
    "            os.makedirs(self.save_path, exist_ok=True)\n",
    "\n",
    "    def _on_step(self) -> bool:\n",
    "        if self.n_calls % self.check_freq == 0:\n",
    "\n",
    "            # Retrieve training reward\n",
    "            x, y = ts2xy(load_results(self.log_dir), \"timesteps\")\n",
    "            if len(x) > 0:\n",
    "                # Mean training reward over the last 100 episodes\n",
    "                mean_reward = np.mean(y[-100:])\n",
    "                if self.verbose > 0:\n",
    "                    print(f\"Num timesteps: {self.num_timesteps}\")\n",
    "                    print(\n",
    "                        f\"Best mean reward: {self.best_mean_reward:.2f} - Last mean reward per episode: {mean_reward:.2f}\"\n",
    "                    )\n",
    "\n",
    "                # New best model, you could save the agent here\n",
    "                if mean_reward > self.best_mean_reward:\n",
    "                    self.best_mean_reward = mean_reward\n",
    "                    # Example for saving best model\n",
    "                    if self.verbose > 0:\n",
    "                        print(f\"Saving new best model to {self.save_path}.zip\")\n",
    "                    self.model.save(self.save_path)\n",
    "\n",
    "        return True"
   ]
  },
  {
   "cell_type": "code",
   "execution_count": 3,
   "metadata": {},
   "outputs": [],
   "source": [
    "\n",
    "log_dir = \"./tmp/gym/\"\n",
    "os.makedirs(log_dir, exist_ok=True)\n",
    "env_name = \"Ant-v4\"\n",
    "env = gym.make(env_name,render_mode='human')\n",
    "env = Monitor(env, log_dir)"
   ]
  },
  {
   "cell_type": "code",
   "execution_count": 4,
   "metadata": {},
   "outputs": [],
   "source": [
    "\n",
    "\n",
    "\n",
    "\n",
    "# # Create the callback: check every 1000 steps\n",
    "# callback = SaveOnBestTrainingRewardCallback(env_name=env_name,check_freq=1000, log_dir=log_dir)\n",
    "\n",
    "# # Ant-v3:\n",
    "# #   normalize: true\n",
    "# #   n_envs: 1\n",
    "# #   policy: 'MlpPolicy'\n",
    "# #   n_timesteps: !!float 1e7\n",
    "# #   batch_size: 32\n",
    "# #   n_steps: 512\n",
    "# #   gamma: 0.98\n",
    "# #   learning_rate: 1.90609e-05\n",
    "# #   ent_coef: 4.9646e-07\n",
    "# #   clip_range: 0.1\n",
    "# #   n_epochs: 10\n",
    "# #   gae_lambda: 0.8\n",
    "# #   max_grad_norm: 0.6\n",
    "# #   vf_coef: 0.677239\n",
    "# model = PPO(\"MlpPolicy\", env,batch_size=32,n_steps=512,gamma=0.98,learning_rate=1.90609e-05,ent_coef=4.9646e-07,clip_range=0.1,n_epochs=10,gae_lambda=0.8,max_grad_norm=0.6,vf_coef=0.677239)\n",
    "# model.learn(total_timesteps=1e7,callback=callback)"
   ]
  },
  {
   "cell_type": "code",
   "execution_count": 6,
   "metadata": {},
   "outputs": [
    {
     "name": "stdout",
     "output_type": "stream",
     "text": [
      "Moviepy - Building video /Users/jackmckew/Github/jackmckew.dev/drafts/2023/reinforcement-learning/notebooks/tmp/gym/rl-video-episode-0.mp4.\n",
      "Moviepy - Writing video /Users/jackmckew/Github/jackmckew.dev/drafts/2023/reinforcement-learning/notebooks/tmp/gym/rl-video-episode-0.mp4\n",
      "\n"
     ]
    },
    {
     "name": "stderr",
     "output_type": "stream",
     "text": [
      "                                                                "
     ]
    },
    {
     "name": "stdout",
     "output_type": "stream",
     "text": [
      "Moviepy - Done !\n",
      "Moviepy - video ready /Users/jackmckew/Github/jackmckew.dev/drafts/2023/reinforcement-learning/notebooks/tmp/gym/rl-video-episode-0.mp4\n"
     ]
    },
    {
     "name": "stderr",
     "output_type": "stream",
     "text": [
      "\r"
     ]
    }
   ],
   "source": [
    "# Load the trained agent\n",
    "# NOTE: if you have loading issue, you can pass `print_system_info=True`\n",
    "# to compare the system on which the model was trained vs the current one\n",
    "# model = DQN.load(\"dqn_lunar\", env=env, print_system_info=True)\n",
    "from gymnasium.wrappers import RecordVideo\n",
    "env = RecordVideo(gym.make(env_name,render_mode='rgb_array'),'./tmp/gym')\n",
    "model = PPO.load(\"./tmp/gym/20230417-224635_Ant-v4.zip\", env=env)\n",
    "\n",
    "vec_env = model.get_env()\n",
    "obs = vec_env.reset()\n",
    "\n",
    "for i in range(1000):\n",
    "    action, _state = model.predict(obs, deterministic=True)\n",
    "    obs, reward, done, info = vec_env.step(action)\n",
    "    vec_env.render()"
   ]
  },
  {
   "cell_type": "code",
   "execution_count": null,
   "metadata": {},
   "outputs": [],
   "source": []
  }
 ],
 "metadata": {
  "kernelspec": {
   "display_name": "d3",
   "language": "python",
   "name": "python3"
  },
  "language_info": {
   "codemirror_mode": {
    "name": "ipython",
    "version": 3
   },
   "file_extension": ".py",
   "mimetype": "text/x-python",
   "name": "python",
   "nbconvert_exporter": "python",
   "pygments_lexer": "ipython3",
   "version": "3.11.3"
  },
  "orig_nbformat": 4
 },
 "nbformat": 4,
 "nbformat_minor": 2
}
