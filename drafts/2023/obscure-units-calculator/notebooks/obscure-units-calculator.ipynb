{
 "cells": [
  {
   "cell_type": "code",
   "execution_count": 2,
   "metadata": {},
   "outputs": [],
   "source": [
    "import requests\n",
    "from bs4 import BeautifulSoup\n",
    "from tqdm.auto import tqdm\n",
    "import time\n",
    "import random\n",
    "import os\n",
    "import pickle"
   ]
  },
  {
   "cell_type": "code",
   "execution_count": 3,
   "metadata": {},
   "outputs": [],
   "source": [
    "import time\n",
    "from functools import wraps\n",
    "\n",
    "def retry_on_exception(max_retries=5, retry_delay=5):\n",
    "    def decorator(func):\n",
    "        @wraps(func)\n",
    "        def wrapper(*args, **kwargs):\n",
    "            retries = max_retries\n",
    "            while retries > 0:\n",
    "                try:\n",
    "                    return func(*args, **kwargs)\n",
    "                except Exception as e:\n",
    "                    print(f\"Error running function {func.__name__}: {str(e)}\")\n",
    "                    retries -= 1\n",
    "                    if retries == 0:\n",
    "                        print(f\"Max retries reached for function {func.__name__}.\")\n",
    "                        raise\n",
    "                    print(f\"Retrying in {retry_delay} seconds ({retries} retries left)...\")\n",
    "                    time.sleep(retry_delay)\n",
    "        return wrapper\n",
    "    return decorator\n",
    "\n",
    "import signal\n",
    "\n",
    "class TimeoutError(Exception):\n",
    "    pass\n",
    "\n",
    "def timeout(seconds):\n",
    "    def decorator(func):\n",
    "        def handler(signum, frame):\n",
    "            raise TimeoutError()\n",
    "\n",
    "        def wrapper(*args, **kwargs):\n",
    "            signal.signal(signal.SIGALRM, handler)\n",
    "            signal.alarm(seconds)\n",
    "            try:\n",
    "                result = func(*args, **kwargs)\n",
    "            finally:\n",
    "                signal.alarm(0)\n",
    "            return result\n",
    "\n",
    "        return wrapper\n",
    "\n",
    "    return decorator\n"
   ]
  },
  {
   "cell_type": "code",
   "execution_count": 4,
   "metadata": {},
   "outputs": [],
   "source": [
    "@timeout(60)\n",
    "@retry_on_exception(max_retries=5, retry_delay=5)\n",
    "def get_html_content(url):\n",
    "    response = requests.get(url)\n",
    "    return BeautifulSoup(response.content, \"html.parser\")\n",
    "\n",
    "\n",
    "@timeout(60)\n",
    "@retry_on_exception(max_retries=5, retry_delay=5)\n",
    "def scrape_categories(url):\n",
    "    soup = get_html_content(url)\n",
    "    categories = {url: {\"details\": []}}\n",
    "    for x in soup.find(\"div\", {\"class\": \"tabs-content w-tab-content\"}).findAll(\n",
    "        \"a\", href=True\n",
    "    ):\n",
    "        categories[url]['details'].append(f\"https://dimensions.com{x['href']}\")\n",
    "    return categories\n",
    "\n",
    "\n",
    "@timeout(60)\n",
    "@retry_on_exception(max_retries=5, retry_delay=5)\n",
    "def scrape_individual_items(url):\n",
    "    soup = get_html_content(url)\n",
    "    individual_items = {url: {'details': []}}\n",
    "    for x in soup.findAll(\"a\", {\"data-link\": True}, href=True):\n",
    "        individual_items[url]['details'].append(f\"https://dimensions.com{x['href']}\")\n",
    "\n",
    "    return individual_items\n",
    "\n",
    "\n",
    "@timeout(60)\n",
    "@retry_on_exception(max_retries=5, retry_delay=5)\n",
    "def scrape_details(url):\n",
    "    soup = get_html_content(url)\n",
    "    output = {url: {\"details\": []}}\n",
    "    output[url][\"title\"] = soup.find(\"h1\", {\"class\": \"text-page-title\"}).text\n",
    "    for x in soup.find(\"div\", {\"class\": \"detail-content-wrapper\"}).children:\n",
    "        if x.name == \"div\":\n",
    "            for y in x:\n",
    "                output[url][\"details\"].append(y.text)\n",
    "        else:\n",
    "            output[url][\"details\"].append(x.text)\n",
    "    return output\n",
    "\n",
    "\n",
    "def write_index(filename, index):\n",
    "    with open(filename, \"w\") as f:\n",
    "        f.write(str(index))\n",
    "\n",
    "\n",
    "def read_index(filename):\n",
    "    # Check if the index file exists, and load the last index if it does\n",
    "    if os.path.exists(filename):\n",
    "        with open(filename, \"r\") as f:\n",
    "            last_index = int(f.read().strip())\n",
    "    else:\n",
    "        last_index = -1\n",
    "    return last_index\n",
    "\n",
    "def read_pickle(filename):\n",
    "    filepath = f\"./{filename}.pickle\"\n",
    "    if os.path.exists(filepath):\n",
    "        with open(filepath, \"rb\") as f:\n",
    "            output_data = pickle.load(f)\n",
    "            return output_data\n",
    "\n",
    "\n",
    "\n",
    "def scrape_urls(urls, scrape_fn, type):\n",
    "    index_filename = f\"./{type}_index.txt\"\n",
    "    pickle_filename = f\"./{type}.pickle\"\n",
    "    output_data = []\n",
    "    last_index = read_index(index_filename)\n",
    "    if os.path.exists(pickle_filename):\n",
    "        with open(pickle_filename, \"rb\") as f:\n",
    "            output_data = pickle.load(f)\n",
    "    else:\n",
    "        # os.makedirs(str(pickle_filename.split('/')[:-1]))\n",
    "        last_index = -1\n",
    "        output_data = []\n",
    "\n",
    "    for index, url in enumerate(tqdm(urls)):\n",
    "        if index <= last_index:\n",
    "            continue\n",
    "        res = scrape_fn(url)\n",
    "        output_data.append(res)\n",
    "        write_index(index_filename, index)\n",
    "        with open(pickle_filename, \"wb\") as f:\n",
    "            pickle.dump(output_data, f)\n",
    "        time.sleep(random.randint(0, 2))\n",
    "\n",
    "    return output_data\n"
   ]
  },
  {
   "cell_type": "code",
   "execution_count": 5,
   "metadata": {},
   "outputs": [],
   "source": [
    "categories = []\n",
    "all_items = []\n",
    "all_items_details = {}"
   ]
  },
  {
   "cell_type": "code",
   "execution_count": 7,
   "metadata": {},
   "outputs": [
    {
     "data": {
      "application/vnd.jupyter.widget-view+json": {
       "model_id": "9313e2cc255f4bb88aa07dd1d1f776b1",
       "version_major": 2,
       "version_minor": 0
      },
      "text/plain": [
       "  0%|          | 0/1 [00:00<?, ?it/s]"
      ]
     },
     "metadata": {},
     "output_type": "display_data"
    },
    {
     "data": {
      "application/vnd.jupyter.widget-view+json": {
       "model_id": "090c444da55b4620b78a1fd0432867a3",
       "version_major": 2,
       "version_minor": 0
      },
      "text/plain": [
       "  0%|          | 0/10 [00:00<?, ?it/s]"
      ]
     },
     "metadata": {},
     "output_type": "display_data"
    },
    {
     "data": {
      "application/vnd.jupyter.widget-view+json": {
       "model_id": "41e85f12a609463ca24a572f406b31df",
       "version_major": 2,
       "version_minor": 0
      },
      "text/plain": [
       "  0%|          | 0/10 [00:00<?, ?it/s]"
      ]
     },
     "metadata": {},
     "output_type": "display_data"
    },
    {
     "data": {
      "application/vnd.jupyter.widget-view+json": {
       "model_id": "a7edd8edb73c47cdab8fdeb719ed2129",
       "version_major": 2,
       "version_minor": 0
      },
      "text/plain": [
       "  0%|          | 0/10 [00:00<?, ?it/s]"
      ]
     },
     "metadata": {},
     "output_type": "display_data"
    },
    {
     "name": "stdout",
     "output_type": "stream",
     "text": [
      "Error running function scrape_details: 'NoneType' object has no attribute 'children'\n",
      "Retrying in 5 seconds (4 retries left)...\n",
      "Error running function scrape_details: 'NoneType' object has no attribute 'children'\n",
      "Retrying in 5 seconds (3 retries left)...\n",
      "Error running function scrape_details: 'NoneType' object has no attribute 'children'\n",
      "Retrying in 5 seconds (2 retries left)...\n",
      "Error running function scrape_details: 'NoneType' object has no attribute 'children'\n",
      "Retrying in 5 seconds (1 retries left)...\n",
      "Error running function scrape_details: 'NoneType' object has no attribute 'children'\n",
      "Max retries reached for function scrape_details.\n"
     ]
    },
    {
     "ename": "AttributeError",
     "evalue": "'NoneType' object has no attribute 'children'",
     "output_type": "error",
     "traceback": [
      "\u001b[0;31m---------------------------------------------------------------------------\u001b[0m",
      "\u001b[0;31mAttributeError\u001b[0m                            Traceback (most recent call last)",
      "Cell \u001b[0;32mIn[7], line 27\u001b[0m\n\u001b[1;32m     25\u001b[0m collection_name \u001b[39m=\u001b[39m collection\u001b[39m.\u001b[39msplit(\u001b[39m'\u001b[39m\u001b[39m/\u001b[39m\u001b[39m'\u001b[39m)[\u001b[39m-\u001b[39m\u001b[39m1\u001b[39m]\n\u001b[1;32m     26\u001b[0m unique_urls \u001b[39m=\u001b[39m \u001b[39mlist\u001b[39m(\u001b[39mset\u001b[39m(item[collection][\u001b[39m'\u001b[39m\u001b[39mdetails\u001b[39m\u001b[39m'\u001b[39m]))\n\u001b[0;32m---> 27\u001b[0m scrape_urls(unique_urls,scrape_details,\u001b[39mf\u001b[39;49m\u001b[39m\"\u001b[39;49m\u001b[39m{\u001b[39;49;00mclassification_name\u001b[39m}\u001b[39;49;00m\u001b[39m/\u001b[39;49m\u001b[39m{\u001b[39;49;00mcollection_name\u001b[39m}\u001b[39;49;00m\u001b[39m\"\u001b[39;49m)\n",
      "Cell \u001b[0;32mIn[4], line 85\u001b[0m, in \u001b[0;36mscrape_urls\u001b[0;34m(urls, scrape_fn, type)\u001b[0m\n\u001b[1;32m     83\u001b[0m \u001b[39mif\u001b[39;00m index \u001b[39m<\u001b[39m\u001b[39m=\u001b[39m last_index:\n\u001b[1;32m     84\u001b[0m     \u001b[39mcontinue\u001b[39;00m\n\u001b[0;32m---> 85\u001b[0m res \u001b[39m=\u001b[39m scrape_fn(url)\n\u001b[1;32m     86\u001b[0m output_data\u001b[39m.\u001b[39mappend(res)\n\u001b[1;32m     87\u001b[0m write_index(index_filename, index)\n",
      "Cell \u001b[0;32mIn[3], line 37\u001b[0m, in \u001b[0;36mtimeout.<locals>.decorator.<locals>.wrapper\u001b[0;34m(*args, **kwargs)\u001b[0m\n\u001b[1;32m     35\u001b[0m signal\u001b[39m.\u001b[39malarm(seconds)\n\u001b[1;32m     36\u001b[0m \u001b[39mtry\u001b[39;00m:\n\u001b[0;32m---> 37\u001b[0m     result \u001b[39m=\u001b[39m func(\u001b[39m*\u001b[39;49margs, \u001b[39m*\u001b[39;49m\u001b[39m*\u001b[39;49mkwargs)\n\u001b[1;32m     38\u001b[0m \u001b[39mfinally\u001b[39;00m:\n\u001b[1;32m     39\u001b[0m     signal\u001b[39m.\u001b[39malarm(\u001b[39m0\u001b[39m)\n",
      "Cell \u001b[0;32mIn[3], line 11\u001b[0m, in \u001b[0;36mretry_on_exception.<locals>.decorator.<locals>.wrapper\u001b[0;34m(*args, **kwargs)\u001b[0m\n\u001b[1;32m      9\u001b[0m \u001b[39mwhile\u001b[39;00m retries \u001b[39m>\u001b[39m \u001b[39m0\u001b[39m:\n\u001b[1;32m     10\u001b[0m     \u001b[39mtry\u001b[39;00m:\n\u001b[0;32m---> 11\u001b[0m         \u001b[39mreturn\u001b[39;00m func(\u001b[39m*\u001b[39;49margs, \u001b[39m*\u001b[39;49m\u001b[39m*\u001b[39;49mkwargs)\n\u001b[1;32m     12\u001b[0m     \u001b[39mexcept\u001b[39;00m \u001b[39mException\u001b[39;00m \u001b[39mas\u001b[39;00m e:\n\u001b[1;32m     13\u001b[0m         \u001b[39mprint\u001b[39m(\u001b[39mf\u001b[39m\u001b[39m\"\u001b[39m\u001b[39mError running function \u001b[39m\u001b[39m{\u001b[39;00mfunc\u001b[39m.\u001b[39m\u001b[39m__name__\u001b[39m\u001b[39m}\u001b[39;00m\u001b[39m: \u001b[39m\u001b[39m{\u001b[39;00m\u001b[39mstr\u001b[39m(e)\u001b[39m}\u001b[39;00m\u001b[39m\"\u001b[39m)\n",
      "Cell \u001b[0;32mIn[4], line 37\u001b[0m, in \u001b[0;36mscrape_details\u001b[0;34m(url)\u001b[0m\n\u001b[1;32m     35\u001b[0m output \u001b[39m=\u001b[39m {url: {\u001b[39m\"\u001b[39m\u001b[39mdetails\u001b[39m\u001b[39m\"\u001b[39m: []}}\n\u001b[1;32m     36\u001b[0m output[url][\u001b[39m\"\u001b[39m\u001b[39mtitle\u001b[39m\u001b[39m\"\u001b[39m] \u001b[39m=\u001b[39m soup\u001b[39m.\u001b[39mfind(\u001b[39m\"\u001b[39m\u001b[39mh1\u001b[39m\u001b[39m\"\u001b[39m, {\u001b[39m\"\u001b[39m\u001b[39mclass\u001b[39m\u001b[39m\"\u001b[39m: \u001b[39m\"\u001b[39m\u001b[39mtext-page-title\u001b[39m\u001b[39m\"\u001b[39m})\u001b[39m.\u001b[39mtext\n\u001b[0;32m---> 37\u001b[0m \u001b[39mfor\u001b[39;00m x \u001b[39min\u001b[39;00m soup\u001b[39m.\u001b[39;49mfind(\u001b[39m\"\u001b[39;49m\u001b[39mdiv\u001b[39;49m\u001b[39m\"\u001b[39;49m, {\u001b[39m\"\u001b[39;49m\u001b[39mclass\u001b[39;49m\u001b[39m\"\u001b[39;49m: \u001b[39m\"\u001b[39;49m\u001b[39mdetail-content-wrapper\u001b[39;49m\u001b[39m\"\u001b[39;49m})\u001b[39m.\u001b[39;49mchildren:\n\u001b[1;32m     38\u001b[0m     \u001b[39mif\u001b[39;00m x\u001b[39m.\u001b[39mname \u001b[39m==\u001b[39m \u001b[39m\"\u001b[39m\u001b[39mdiv\u001b[39m\u001b[39m\"\u001b[39m:\n\u001b[1;32m     39\u001b[0m         \u001b[39mfor\u001b[39;00m y \u001b[39min\u001b[39;00m x:\n",
      "\u001b[0;31mAttributeError\u001b[0m: 'NoneType' object has no attribute 'children'"
     ]
    }
   ],
   "source": [
    "classifications = [\n",
    "    # \"https://dimensions.com/classifications/humans\",\n",
    "# \"https://dimensions.com/classifications/animals\",\n",
    "\"https://dimensions.com/classifications/plants\",\n",
    "# \"https://dimensions.com/classifications/objects\",\n",
    "# \"https://dimensions.com/classifications/furniture\",\n",
    "# \"https://dimensions.com/classifications/fixtures\",\n",
    "# \"https://dimensions.com/classifications/layouts\",\n",
    "# \"https://dimensions.com/classifications/buildings\",\n",
    "# \"https://dimensions.com/classifications/transport\",\n",
    "# \"https://dimensions.com/classifications/sports\",\n",
    "# \"https://dimensions.com/classifications/digital\",\n",
    "# \"https://dimensions.com/classifications/pop-culture\"\n",
    "]\n",
    "\n",
    "for classification in classifications:\n",
    "    categories = scrape_urls([classification],scrape_categories,classification.split('/')[-1])\n",
    "    for category in categories:\n",
    "        for classification in list(category.keys()):\n",
    "            classification_name = classification.split('/')[-1]\n",
    "            unique_urls = list(set(category[classification]['details']))\n",
    "            classification_items = scrape_urls(unique_urls,scrape_individual_items,classification_name)\n",
    "            for item in tqdm(classification_items):\n",
    "                for collection in list(item.keys()):\n",
    "                    collection_name = collection.split('/')[-1]\n",
    "                    unique_urls = list(set(item[collection]['details']))\n",
    "                    scrape_urls(unique_urls,scrape_details,f\"{classification_name}/{collection_name}\")\n"
   ]
  },
  {
   "cell_type": "code",
   "execution_count": 122,
   "metadata": {},
   "outputs": [
    {
     "name": "stdout",
     "output_type": "stream",
     "text": [
      "https://dimensions.com/classifications/sports\n"
     ]
    },
    {
     "data": {
      "application/vnd.jupyter.widget-view+json": {
       "model_id": "a4020fb759ae4e6cba2c18eda5ceefac",
       "version_major": 2,
       "version_minor": 0
      },
      "text/plain": [
       "  0%|          | 0/55 [00:00<?, ?it/s]"
      ]
     },
     "metadata": {},
     "output_type": "display_data"
    }
   ],
   "source": []
  },
  {
   "cell_type": "code",
   "execution_count": null,
   "metadata": {},
   "outputs": [],
   "source": [
    "for category in categories:\n",
    "    for classification in list(category.keys()):\n",
    "        classification_name = classification.split('/')[-1]\n",
    "        classification_items = read_pickle(classification_name)\n",
    "        "
   ]
  },
  {
   "cell_type": "code",
   "execution_count": null,
   "metadata": {},
   "outputs": [],
   "source": []
  }
 ],
 "metadata": {
  "kernelspec": {
   "display_name": "gym",
   "language": "python",
   "name": "python3"
  },
  "language_info": {
   "codemirror_mode": {
    "name": "ipython",
    "version": 3
   },
   "file_extension": ".py",
   "mimetype": "text/x-python",
   "name": "python",
   "nbconvert_exporter": "python",
   "pygments_lexer": "ipython3",
   "version": "3.11.3"
  },
  "orig_nbformat": 4
 },
 "nbformat": 4,
 "nbformat_minor": 2
}
