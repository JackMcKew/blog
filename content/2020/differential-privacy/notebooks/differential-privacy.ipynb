{
 "metadata": {
  "language_info": {
   "codemirror_mode": {
    "name": "ipython",
    "version": 3
   },
   "file_extension": ".py",
   "mimetype": "text/x-python",
   "name": "python",
   "nbconvert_exporter": "python",
   "pygments_lexer": "ipython3",
   "version": "3.8.5-final"
  },
  "orig_nbformat": 2,
  "kernelspec": {
   "name": "python3",
   "display_name": "Python 3"
  }
 },
 "nbformat": 4,
 "nbformat_minor": 2,
 "cells": [
  {
   "source": [
    "It's quite clear in today's age that the biggest companies in the world, make most of their profits from harvesting and productionalising their user's data. With privacy becoming more and more of a concern in everyday life as we become more connected, it's almost becoming a human right for our privacy to be protected, especially by those who profit from it.\n",
    "\n",
    "Differential privacy in particular is a model that aims to protect the data's owners against bad actors reversing the aggregated data to find details of individual users.\n",
    "\n",
    "For the example in this post, we will use a dataset that includes each persons name, age, email and annual income. In this example, say we wanted to determine how many people in our dataset make over $50,000 annually. Instead of sharing all of the specific people and their incomes, we would rather share the aggregate data. Someone viewing our results might know that 30% of our set make over that threshold, but not which people.\n",
    "\n",
    "**However**,  let's say someone viewing the results wants to know the specific income of one person. To do this, they've gone and collected the background information on every person except the person of interest to them. If they know which of the 4999 people make over the threshold, they can determine whether the person of question makes over or under the threshold.\n",
    "\n",
    "This type of attack is known as a differentiated attack, and is very difficult to protect against, and is what differential privacy aims to defend against. The primary method of achieving privacy is by adding random noise to the aggregate data (the private key in a sense of cryptography). In our example from above our results might say 27% - 32% of people make over the threshold rather than the specific number. This still achieves an outcome that people can understand the results, but protects the privacy of the users within it.\n",
    "\n",
    "Now let's use the following packages:\n",
    "\n",
    "1. `mimesis` to generate the user data\n",
    "2. `pandas` to calculate the exact values (statistical analysis)\n",
    "3. `pydp` to calculate the same values but maintaining privacy of the users"
   ],
   "cell_type": "markdown",
   "metadata": {}
  },
  {
   "cell_type": "code",
   "execution_count": 1,
   "metadata": {},
   "outputs": [
    {
     "output_type": "execute_result",
     "data": {
      "text/plain": [
       "                    name  age                         email  income\n",
       "0          Fidel Burnett   36         aquaria1999@gmail.com   53435\n",
       "1          Felipe Norman   56   labradoodle1933@outlook.com   72310\n",
       "2     Jeremiah Valentine   49        arcanist2068@yahoo.com   20600\n",
       "3     Stuart Fitzpatrick   39    uniembryonate1938@live.com   45444\n",
       "4            Kim Hubbard   55    dutiful2019@protonmail.com   95098\n",
       "...                  ...  ...                           ...     ...\n",
       "4995       Heath Barrera   35            booby1892@live.com   71771\n",
       "4996        Nadene Flynn   63          mitten1812@yahoo.com   59993\n",
       "4997  Francisco Phillips   18  vaucheriaceous1908@gmail.com   86981\n",
       "4998       Claud Puckett   64    prefavorably1893@gmail.com   97025\n",
       "4999       Claris Foster   60         dhava1876@outlook.com   33015\n",
       "\n",
       "[5000 rows x 4 columns]"
      ],
      "text/html": "<div>\n<style scoped>\n    .dataframe tbody tr th:only-of-type {\n        vertical-align: middle;\n    }\n\n    .dataframe tbody tr th {\n        vertical-align: top;\n    }\n\n    .dataframe thead th {\n        text-align: right;\n    }\n</style>\n<table border=\"1\" class=\"dataframe\">\n  <thead>\n    <tr style=\"text-align: right;\">\n      <th></th>\n      <th>name</th>\n      <th>age</th>\n      <th>email</th>\n      <th>income</th>\n    </tr>\n  </thead>\n  <tbody>\n    <tr>\n      <th>0</th>\n      <td>Fidel Burnett</td>\n      <td>36</td>\n      <td>aquaria1999@gmail.com</td>\n      <td>53435</td>\n    </tr>\n    <tr>\n      <th>1</th>\n      <td>Felipe Norman</td>\n      <td>56</td>\n      <td>labradoodle1933@outlook.com</td>\n      <td>72310</td>\n    </tr>\n    <tr>\n      <th>2</th>\n      <td>Jeremiah Valentine</td>\n      <td>49</td>\n      <td>arcanist2068@yahoo.com</td>\n      <td>20600</td>\n    </tr>\n    <tr>\n      <th>3</th>\n      <td>Stuart Fitzpatrick</td>\n      <td>39</td>\n      <td>uniembryonate1938@live.com</td>\n      <td>45444</td>\n    </tr>\n    <tr>\n      <th>4</th>\n      <td>Kim Hubbard</td>\n      <td>55</td>\n      <td>dutiful2019@protonmail.com</td>\n      <td>95098</td>\n    </tr>\n    <tr>\n      <th>...</th>\n      <td>...</td>\n      <td>...</td>\n      <td>...</td>\n      <td>...</td>\n    </tr>\n    <tr>\n      <th>4995</th>\n      <td>Heath Barrera</td>\n      <td>35</td>\n      <td>booby1892@live.com</td>\n      <td>71771</td>\n    </tr>\n    <tr>\n      <th>4996</th>\n      <td>Nadene Flynn</td>\n      <td>63</td>\n      <td>mitten1812@yahoo.com</td>\n      <td>59993</td>\n    </tr>\n    <tr>\n      <th>4997</th>\n      <td>Francisco Phillips</td>\n      <td>18</td>\n      <td>vaucheriaceous1908@gmail.com</td>\n      <td>86981</td>\n    </tr>\n    <tr>\n      <th>4998</th>\n      <td>Claud Puckett</td>\n      <td>64</td>\n      <td>prefavorably1893@gmail.com</td>\n      <td>97025</td>\n    </tr>\n    <tr>\n      <th>4999</th>\n      <td>Claris Foster</td>\n      <td>60</td>\n      <td>dhava1876@outlook.com</td>\n      <td>33015</td>\n    </tr>\n  </tbody>\n</table>\n<p>5000 rows × 4 columns</p>\n</div>"
     },
     "metadata": {},
     "execution_count": 1
    }
   ],
   "source": [
    "import pydp as dp\n",
    "from pydp.algorithms.laplacian import BoundedSum, BoundedMean, Count, Max\n",
    "from mimesis import Person\n",
    "from mimesis import Address\n",
    "from mimesis.enums import Gender\n",
    "from mimesis import Datetime\n",
    "person = Person('en')\n",
    "import pandas as pd\n",
    "import random\n",
    "person = Person()\n",
    "addess = Address()\n",
    "datetime = Datetime()\n",
    "def create_rows_mimesis(number_of_rows=1):\n",
    "    output = [{\"name\":person.full_name(),\n",
    "                \"age\": person.age(),\n",
    "                \"email\":person.email(),\n",
    "                \"income\": random.randint(10000,100000)} for x in range(number_of_rows)]\n",
    "    return output\n",
    "\n",
    "\n",
    "income_data = pd.DataFrame(create_rows_mimesis(5000))\n",
    "\n",
    "income_data"
   ]
  },
  {
   "cell_type": "code",
   "execution_count": 2,
   "metadata": {},
   "outputs": [
    {
     "output_type": "stream",
     "name": "stdout",
     "text": [
      "Number of users with income over $50,000: 2810 or 56.2%\n"
     ]
    }
   ],
   "source": [
    "# Calculate count with no differential privacy\n",
    "def typical_count_above(column_name, limit):\n",
    "    return income_data[income_data[column_name] > limit].count()[column_name]\n",
    "\n",
    "number_over_threshold = typical_count_above('income', 50000)\n",
    "print(f\"Number of users with income over $50,000: {number_over_threshold} or {(number_over_threshold / 5000) * 100:.1f}%\")"
   ]
  },
  {
   "source": [
    "As we can see from the calculations above, `typical_count_above` counts the number of users over a limit for a specified column with no preservation of privacy whatsoever."
   ],
   "cell_type": "markdown",
   "metadata": {}
  },
  {
   "cell_type": "code",
   "execution_count": 3,
   "metadata": {},
   "outputs": [
    {
     "output_type": "stream",
     "name": "stdout",
     "text": [
      "PRIVATE: Number of users with income over $50,000: 2809 or 56.2%\n"
     ]
    }
   ],
   "source": [
    "# Calculate count with differential privacy\n",
    "def private_count_above(column_name, privacy_budget, limit):\n",
    "    x = Count(privacy_budget, dtype='int')\n",
    "    return x.quick_result(list(income_data[income_data[column_name] > limit][column_name]))\n",
    "\n",
    "private_number_over_threshold = private_count_above('income', 0.8, 50000)\n",
    "print(f\"PRIVATE: Number of users with income over $50,000: {private_number_over_threshold} or {(private_number_over_threshold / 5000) * 100:.1f}%\")"
   ]
  },
  {
   "source": [
    "The `private_count_above` function works very similarly to `typical_count_above` but using the Differential Privacy Library by Google to count the number of users above the limit and preserves privacy by using the Laplacian mechanism for adding noise to the dataset. Also note that we are able to tune the privacy budget for the acceptable loss of privacy, with 0 denoting no loss whatsoever is acceptable."
   ],
   "cell_type": "markdown",
   "metadata": {}
  },
  {
   "source": [
    "## Mean Example\n",
    "\n",
    "Now let's repeat the same example, but by determining the average income across all users in the dataset."
   ],
   "cell_type": "markdown",
   "metadata": {}
  },
  {
   "cell_type": "code",
   "execution_count": 4,
   "metadata": {},
   "outputs": [
    {
     "output_type": "stream",
     "name": "stdout",
     "text": [
      "True mean income: 55467.1134\nPrivate mean income: 55470.37580603853, 0.8 privacy budget\nPrivate mean income: 55589.33064063336, 0.1 privacy budget\n"
     ]
    }
   ],
   "source": [
    "# Calculate mean with no differential privacy\n",
    "def typical_mean(column_name):\n",
    "    return income_data[column_name].mean()\n",
    "\n",
    "# Calculate mean with differential privacy\n",
    "def private_mean(column_name, privacy_budget):\n",
    "    x = BoundedMean(privacy_budget, income_data[column_name].min(), income_data[column_name].max())\n",
    "    return x.quick_result(list(income_data[column_name]))\n",
    "\n",
    "true_mean_income = typical_mean('income')\n",
    "private_mean_income = private_mean('income', 0.5)\n",
    "print(f\"True mean income: {true_mean_income}\")\n",
    "print(f\"Private mean income: {private_mean_income}, 0.8 privacy budget\")\n",
    "print(f\"Private mean income: {private_mean('income', 0.1)}, 0.1 privacy budget\")"
   ]
  },
  {
   "source": [
    "As we can see from the above while the outcome achieves the same result, we have protected the users privacy!"
   ],
   "cell_type": "markdown",
   "metadata": {}
  }
 ]
}